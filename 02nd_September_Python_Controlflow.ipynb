{
 "cells": [
  {
   "cell_type": "markdown",
   "id": "637ffddb-919c-4fbd-83a2-863c1f2ab290",
   "metadata": {},
   "source": [
    "                                                                    Control Flow"
   ]
  },
  {
   "cell_type": "markdown",
   "id": "03eddc4a-e9a1-471b-99e3-0640441f5a88",
   "metadata": {},
   "source": [
    "Basic If-Else Statements:"
   ]
  },
  {
   "cell_type": "markdown",
   "id": "babf9c65-2397-422b-b1bb-7f2846bd4fdf",
   "metadata": {},
   "source": [
    "1. Write a Python program to check if a given number is positive or negative."
   ]
  },
  {
   "cell_type": "code",
   "execution_count": 1,
   "id": "eaff9bdc-af0f-4f24-aa67-7391567f1e34",
   "metadata": {},
   "outputs": [
    {
     "name": "stdin",
     "output_type": "stream",
     "text": [
      "Enter a number : 56\n"
     ]
    },
    {
     "name": "stdout",
     "output_type": "stream",
     "text": [
      "The given number is postive\n"
     ]
    }
   ],
   "source": [
    "# take input as integer from user\n",
    "n = int(input(\"Enter a number :\"))\n",
    "\n",
    "# Checking for postive or negative number\n",
    "if n > 0:\n",
    "    print (\"The given number is postive\")\n",
    "else:\n",
    "    print (\"The given number is neagtive\")"
   ]
  },
  {
   "cell_type": "markdown",
   "id": "3daa0130-2933-43b6-866f-facd9bd0bd4c",
   "metadata": {},
   "source": [
    "2. Create a program that determines if a person is eligible to vote based on their age."
   ]
  },
  {
   "cell_type": "code",
   "execution_count": 2,
   "id": "e8aeb234-76cd-4588-970c-b1d00a89b08d",
   "metadata": {},
   "outputs": [
    {
     "name": "stdin",
     "output_type": "stream",
     "text": [
      "Enter the age of the person : 17\n"
     ]
    },
    {
     "name": "stdout",
     "output_type": "stream",
     "text": [
      "The person is not eligible to vote\n"
     ]
    }
   ],
   "source": [
    "# take input as age of a person\n",
    "age = int(input(\"Enter the age of the person :\"))\n",
    "\n",
    "# Checking whether the person is eligible to vote or not\n",
    "if age >= 18:\n",
    "    print(\"The person is eligible to vote\")\n",
    "else:\n",
    "    print(\"The person is not eligible to vote\")"
   ]
  },
  {
   "cell_type": "markdown",
   "id": "8d510ebb-42ed-4c37-8ae4-aabf57b7d366",
   "metadata": {},
   "source": [
    "3. Develop a program to find the maximum of two numbers using if-else statements."
   ]
  },
  {
   "cell_type": "code",
   "execution_count": 3,
   "id": "fe181510-7520-4fef-8409-b8384739cb4c",
   "metadata": {},
   "outputs": [
    {
     "name": "stdin",
     "output_type": "stream",
     "text": [
      "Enter first number : 4\n",
      "Enter second number : 5\n"
     ]
    },
    {
     "name": "stdout",
     "output_type": "stream",
     "text": [
      "The larger number is 5\n"
     ]
    }
   ],
   "source": [
    "# Taking two numbers as input\n",
    "a = int(input(\"Enter first number :\"))\n",
    "b = int(input(\"Enter second number :\"))\n",
    "\n",
    "# finding the greatest\n",
    "if a > b:\n",
    "    print(\"The larger number is\",a)\n",
    "else:\n",
    "    print(\"The larger number is\",b)"
   ]
  },
  {
   "cell_type": "markdown",
   "id": "2189405f-a636-495b-8811-25d612e8e046",
   "metadata": {},
   "source": [
    "4. Write a Python script to classify a given year as a leap year or not."
   ]
  },
  {
   "cell_type": "code",
   "execution_count": 3,
   "id": "b7f43f95-2e9a-47ea-bc4a-1c1946014c51",
   "metadata": {},
   "outputs": [
    {
     "name": "stdin",
     "output_type": "stream",
     "text": [
      "Enter a year : 1900\n"
     ]
    },
    {
     "name": "stdout",
     "output_type": "stream",
     "text": [
      "1900 is not a leap year\n"
     ]
    }
   ],
   "source": [
    "# take input of a year\n",
    "yr = int(input(\"Enter a year :\"))\n",
    "\n",
    "# checking for leap year or not\n",
    "if (((yr % 400 == 0) or (yr % 100 != 0)) and (yr % 4 == 0)):\n",
    "    print(yr,\"is a leap year\")\n",
    "else:\n",
    "    print(yr,\"is not a leap year\")"
   ]
  },
  {
   "cell_type": "markdown",
   "id": "9c087912-fc6f-48f9-89c6-0822c2b92528",
   "metadata": {},
   "source": [
    "5. Create a program that checks whether a character is a vowel or a consonant."
   ]
  },
  {
   "cell_type": "code",
   "execution_count": 6,
   "id": "f6bdadcc-b4e4-4750-ac7c-193c695125d6",
   "metadata": {},
   "outputs": [
    {
     "name": "stdin",
     "output_type": "stream",
     "text": [
      "Enter a character : f\n"
     ]
    },
    {
     "name": "stdout",
     "output_type": "stream",
     "text": [
      "The given character is a consonant\n"
     ]
    }
   ],
   "source": [
    "# take input as a character\n",
    "ch = input(\"Enter a character :\")\n",
    "\n",
    "# Checking for vowel or consonant\n",
    "l = ['a','A','e','E','i','I','o','O','u','U']\n",
    "if ch in l:\n",
    "    print(\"The given character is a vowel\")\n",
    "else:\n",
    "    print(\"The given character is a consonant\")"
   ]
  },
  {
   "cell_type": "markdown",
   "id": "30cdd3ac-7c8d-4908-959c-d9f678b440e5",
   "metadata": {},
   "source": [
    "6. Implement a program to determine whether a given number is even or odd."
   ]
  },
  {
   "cell_type": "code",
   "execution_count": 8,
   "id": "1f87f7de-adc5-4bd2-9cef-fc17d8ad19ef",
   "metadata": {},
   "outputs": [
    {
     "name": "stdin",
     "output_type": "stream",
     "text": [
      "Enter a number : 79\n"
     ]
    },
    {
     "name": "stdout",
     "output_type": "stream",
     "text": [
      "The given number is odd\n"
     ]
    }
   ],
   "source": [
    "# take input of a integer\n",
    "a = int(input(\"Enter a number :\"))\n",
    "\n",
    "# Checking for even or odd\n",
    "if a % 2 == 0:\n",
    "    print(\"The given number is even\")\n",
    "else:\n",
    "    print(\"The given number is odd\")"
   ]
  },
  {
   "cell_type": "markdown",
   "id": "bd016bff-8080-4ff1-a5a7-48403b509cb7",
   "metadata": {},
   "source": [
    "7. Write a Python function to calculate the absolute value of a number without using the `abs()` function."
   ]
  },
  {
   "cell_type": "code",
   "execution_count": 6,
   "id": "621b5cb9-3b19-4bd5-bdab-00d8f2c967af",
   "metadata": {},
   "outputs": [
    {
     "name": "stdin",
     "output_type": "stream",
     "text": [
      "Enter a number : -27\n"
     ]
    },
    {
     "name": "stdout",
     "output_type": "stream",
     "text": [
      "The absolute value of the given number is 27\n"
     ]
    }
   ],
   "source": [
    "# function to find the absolute value of the given number\n",
    "def absolute(x):\n",
    "    if x >= 0:\n",
    "        return x\n",
    "    else:\n",
    "        return -x\n",
    "\n",
    "# take input of a integer\n",
    "n = int(input(\"Enter a number :\"))\n",
    "x = absolute(n)\n",
    "print(\"The absolute value of the given number is\",x)"
   ]
  },
  {
   "cell_type": "markdown",
   "id": "4e2a7d00-4cc0-4c0b-877f-348fa4688118",
   "metadata": {},
   "source": [
    "8. Develop a program that determines the largest of three given numbers using if-else statements."
   ]
  },
  {
   "cell_type": "code",
   "execution_count": 48,
   "id": "48f50aa8-066a-4c6b-a1da-c30689353e2d",
   "metadata": {},
   "outputs": [
    {
     "name": "stdin",
     "output_type": "stream",
     "text": [
      "Enter the first number : 2\n",
      "Enter the second number : 6\n",
      "Enter the third number : 3\n"
     ]
    },
    {
     "name": "stdout",
     "output_type": "stream",
     "text": [
      "The largest number is 6\n"
     ]
    }
   ],
   "source": [
    "# take input of three integers\n",
    "a = int(input(\"Enter the first number :\"))\n",
    "b = int(input(\"Enter the second number :\"))\n",
    "c = int(input(\"Enter the third number :\"))\n",
    "\n",
    "# determinig the largest number\n",
    "if a > b :\n",
    "    l = a\n",
    "else:\n",
    "    l = b\n",
    "if l > c:\n",
    "    l = l\n",
    "else:\n",
    "    l = c\n",
    "    \n",
    "print(\"The largest number is\",l)"
   ]
  },
  {
   "cell_type": "markdown",
   "id": "d3c17628-bfd7-4abb-b8a9-935b8bcf285a",
   "metadata": {},
   "source": [
    "9. Create a program that checks if a given string is a palindrome."
   ]
  },
  {
   "cell_type": "code",
   "execution_count": 10,
   "id": "c4b81c96-857f-4607-a98b-1fbaea01cc15",
   "metadata": {},
   "outputs": [
    {
     "name": "stdin",
     "output_type": "stream",
     "text": [
      "Enter a sentance or word : madam\n"
     ]
    },
    {
     "name": "stdout",
     "output_type": "stream",
     "text": [
      "The given string is a palindromic string\n"
     ]
    }
   ],
   "source": [
    "# take user input as string\n",
    "s = input(\"Enter a sentance or word :\")\n",
    "\n",
    "# reversing the given string\n",
    "rev = \"\"\n",
    "for i in s:\n",
    "    rev = i + rev\n",
    "    \n",
    "# checking for palindrome\n",
    "if s == rev:\n",
    "    print(\"The given string is a palindromic string\")\n",
    "else:\n",
    "    print(\"The given string is not a palindromic string\")"
   ]
  },
  {
   "cell_type": "markdown",
   "id": "7d206a72-c271-4374-aa59-a7dccc88cde9",
   "metadata": {},
   "source": [
    "10. Write a Python program to calculate the grade based on a student's score."
   ]
  },
  {
   "cell_type": "code",
   "execution_count": 13,
   "id": "6576f3af-3ccb-4ac0-951d-043260a72ecf",
   "metadata": {},
   "outputs": [
    {
     "name": "stdin",
     "output_type": "stream",
     "text": [
      "Enter student's score : 85\n"
     ]
    },
    {
     "name": "stdout",
     "output_type": "stream",
     "text": [
      "Grade : B\n"
     ]
    }
   ],
   "source": [
    "# take user input as student's score\n",
    "score = int(input(\"Enter student's score :\"))\n",
    "\n",
    "# determining the grade based on student's score\n",
    "if score >= 90:\n",
    "    print(\"Grade : A\")\n",
    "if 80 <= score < 90:\n",
    "    print(\"Grade : B\")\n",
    "if score >= 70 and score < 80:\n",
    "    print(\"Grade : C\")\n",
    "if score >= 60 and score < 70:\n",
    "    print(\"Grade : D\")\n",
    "if score >= 50 and score < 60:\n",
    "    print(\"Grade : E\")\n",
    "if score < 50:\n",
    "    print(\"Grade : FAILED\")"
   ]
  },
  {
   "cell_type": "code",
   "execution_count": null,
   "id": "7f2860e3-a40c-454f-b019-ed9d9a08d5f5",
   "metadata": {
    "jupyter": {
     "source_hidden": true
    },
    "tags": []
   },
   "outputs": [],
   "source": []
  },
  {
   "cell_type": "markdown",
   "id": "f16c0e21-1bb8-4766-a608-3e6d28459a2a",
   "metadata": {},
   "source": [
    "Nested If-Else Statements:"
   ]
  },
  {
   "cell_type": "markdown",
   "id": "cba118cc-9b2b-44e1-9ca5-506c3969a39f",
   "metadata": {},
   "source": [
    "11. Write a program to find the largest among three numbers using nested if-else statements."
   ]
  },
  {
   "cell_type": "code",
   "execution_count": 18,
   "id": "fa07dd01-78dc-4669-96a9-6053ad97eef1",
   "metadata": {},
   "outputs": [
    {
     "name": "stdin",
     "output_type": "stream",
     "text": [
      "Enter the first number : 6\n",
      "Enter the second number : 48\n",
      "Enter the third number : 2\n"
     ]
    },
    {
     "name": "stdout",
     "output_type": "stream",
     "text": [
      "The largest number is 48\n"
     ]
    }
   ],
   "source": [
    "# take input of three integers\n",
    "a = int(input(\"Enter the first number :\"))\n",
    "b = int(input(\"Enter the second number :\"))\n",
    "c = int(input(\"Enter the third number :\"))\n",
    "\n",
    "# determinig the largest number\n",
    "if (a > b) and (a > c):\n",
    "    print(\"The largest number is\",a)\n",
    "elif (b > a) and (b > c):\n",
    "    print(\"The largest number is\",b)\n",
    "else:\n",
    "    print(\"The largest number is\",c)"
   ]
  },
  {
   "cell_type": "markdown",
   "id": "efe89998-d856-4e5d-b83b-0cf8c155af3f",
   "metadata": {},
   "source": [
    "12. Implement a program to determine if a triangle is equilateral, isosceles, or scalene."
   ]
  },
  {
   "cell_type": "code",
   "execution_count": 19,
   "id": "269a15e9-7827-4ac7-b550-1fb21b3e60be",
   "metadata": {},
   "outputs": [],
   "source": [
    "# take "
   ]
  },
  {
   "cell_type": "markdown",
   "id": "0794c47c-7b34-4e11-ae13-adbf6e314c19",
   "metadata": {},
   "source": [
    "13. Develop a program that checks if a year is a leap year and also if it is a century year."
   ]
  },
  {
   "cell_type": "code",
   "execution_count": 16,
   "id": "63e7f852-f37b-408c-845f-bea83a17032d",
   "metadata": {},
   "outputs": [
    {
     "name": "stdin",
     "output_type": "stream",
     "text": [
      "Enter a year : 2000\n"
     ]
    },
    {
     "name": "stdout",
     "output_type": "stream",
     "text": [
      "2000 is a leap year as well as century year\n"
     ]
    }
   ],
   "source": [
    "# take input of a year\n",
    "yr = int(input(\"Enter a year :\"))\n",
    "\n",
    "# checking for leap year or not and aslo if it a century year or not\n",
    "if (((yr % 400 == 0) or (yr % 100 != 0)) and (yr % 4 == 0)):\n",
    "    if yr % 100 == 0:\n",
    "        print(yr,\"is a leap year as well as century year\")\n",
    "    else:\n",
    "        print(yr,\"is a leap year but not a century year\")\n",
    "else:\n",
    "    print(yr,\"is not a leap year\")"
   ]
  },
  {
   "cell_type": "markdown",
   "id": "1d5acd7d-c096-4874-9ddd-130ca182c4e1",
   "metadata": {},
   "source": [
    "14. Write a Python script to determine if a number is positive, negative, or zero."
   ]
  },
  {
   "cell_type": "code",
   "execution_count": null,
   "id": "8de46301-2fc8-4d4d-8904-725a3742d672",
   "metadata": {},
   "outputs": [],
   "source": [
    "# take user input as a integer number\n",
    "n = int(input(\"Enter a number\"))\n",
    "\n",
    "# Checking for postive, negative or zero number\n",
    "if n >= 0:\n",
    "    if n == 0:\n",
    "        print(\"The given number is zero\") \n",
    "    else:\n",
    "        print(\"The given number is positive\") \n",
    "else:\n",
    "    print(\"The given number is negative\") "
   ]
  },
  {
   "cell_type": "markdown",
   "id": "f462d3b0-fe9b-4062-b379-018f4ab249dd",
   "metadata": {},
   "source": [
    "15. Create a program to check if a person is a teenager (between 13 and 19 years old)."
   ]
  },
  {
   "cell_type": "code",
   "execution_count": 17,
   "id": "def09a3e-8222-42fc-8453-78662bf0f594",
   "metadata": {},
   "outputs": [
    {
     "name": "stdin",
     "output_type": "stream",
     "text": [
      "Enter the age of the person : 15\n"
     ]
    },
    {
     "name": "stdout",
     "output_type": "stream",
     "text": [
      "The person is a teenager\n"
     ]
    }
   ],
   "source": [
    "# take input as age of a person\n",
    "n = int(input(\"Enter the age of the person :\"))\n",
    "\n",
    "# Checking if a person is a teenager or not\n",
    "if 13 <= n <= 19:\n",
    "    print(\"The person is a teenager\")\n",
    "else:\n",
    "    print(\"The person is not a teenager\")"
   ]
  },
  {
   "cell_type": "markdown",
   "id": "377ea996-8ec0-4e43-8138-062233a0fb9d",
   "metadata": {},
   "source": [
    "16. Develop a program that determines the type of angle based on its measure (acute, obtuse, or right)."
   ]
  },
  {
   "cell_type": "code",
   "execution_count": 24,
   "id": "d1f6be21-9670-435c-b80a-e74c0ef9e4a0",
   "metadata": {},
   "outputs": [],
   "source": [
    "# "
   ]
  },
  {
   "cell_type": "markdown",
   "id": "8ee2affc-11d7-41c8-bba1-8b77065722b7",
   "metadata": {},
   "source": [
    "17. Write a Python program to calculate the roots of a quadratic equation."
   ]
  },
  {
   "cell_type": "code",
   "execution_count": 26,
   "id": "f4d3fa80-6f5e-479e-a214-70052474dda1",
   "metadata": {},
   "outputs": [],
   "source": [
    "# "
   ]
  },
  {
   "cell_type": "markdown",
   "id": "d3b9f7ff-fffa-451c-8951-e1ee0ebf7784",
   "metadata": {},
   "source": [
    "18. Implement a program to determine the day of the week based on a user-provided number (1 for Monday, 2 for Tuesday, etc.)."
   ]
  },
  {
   "cell_type": "code",
   "execution_count": 18,
   "id": "e208279f-62d0-449c-b13b-d7de7b9538ed",
   "metadata": {},
   "outputs": [
    {
     "name": "stdin",
     "output_type": "stream",
     "text": [
      "Enter a number from 1 to 7 : 5\n"
     ]
    },
    {
     "name": "stdout",
     "output_type": "stream",
     "text": [
      "Today is Friday\n"
     ]
    }
   ],
   "source": [
    "# take user input as integer\n",
    "n = int(input(\"Enter a number from 1 to 7 :\"))\n",
    "\n",
    "# determining the day of the week\n",
    "if n == 1:\n",
    "    print(\"Today is Monday\")\n",
    "if n == 2:\n",
    "    print(\"Today is Tuesday\")\n",
    "if n == 3:\n",
    "    print(\"Today is Wednesday\")\n",
    "if n == 4:\n",
    "    print(\"Today is Thursday\")\n",
    "if n == 5:\n",
    "    print(\"Today is Friday\")\n",
    "if n == 6:\n",
    "    print(\"Today is Saturday\")\n",
    "if n == 7:\n",
    "    print(\"Today is Sunday\")"
   ]
  },
  {
   "cell_type": "markdown",
   "id": "bcdb7891-93b8-4079-be2a-3072786fab74",
   "metadata": {},
   "source": [
    "19. Create a program that determines if a year is a leap year and also if it is evenly divisible by 400."
   ]
  },
  {
   "cell_type": "code",
   "execution_count": 20,
   "id": "52b18608-406f-4a45-a78f-deb2b9fa1cf1",
   "metadata": {},
   "outputs": [
    {
     "name": "stdin",
     "output_type": "stream",
     "text": [
      "Enter a year : 1972\n"
     ]
    },
    {
     "name": "stdout",
     "output_type": "stream",
     "text": [
      "1972 is a leap year but it is not divisible by 400\n"
     ]
    }
   ],
   "source": [
    "# # take input of a year\n",
    "yr = int(input(\"Enter a year :\"))\n",
    "\n",
    "# checking for leap year or not and aslo if it a century year or not\n",
    "if (((yr % 400 == 0) or (yr % 100 != 0)) and (yr % 4 == 0)):\n",
    "    if yr % 400 == 0:\n",
    "        print(yr,\"is a leap year as well as it is divisible by 400\")\n",
    "    else:\n",
    "        print(yr,\"is a leap year but it is not divisible by 400\")\n",
    "else:\n",
    "    print(yr,\"is not a leap year\")"
   ]
  },
  {
   "cell_type": "markdown",
   "id": "c0eb4b94-fa3a-4d07-b961-a183452f0729",
   "metadata": {},
   "source": [
    "20. Develop a program that checks if a given number is prime or not using nested if-else statements."
   ]
  },
  {
   "cell_type": "code",
   "execution_count": 23,
   "id": "ffb9be4f-191c-4218-bb33-6435d6f8c777",
   "metadata": {},
   "outputs": [
    {
     "name": "stdin",
     "output_type": "stream",
     "text": [
      "Enter a number : 11\n"
     ]
    },
    {
     "name": "stdout",
     "output_type": "stream",
     "text": [
      "The given number is a Prime number\n"
     ]
    }
   ],
   "source": [
    "# take user input as integer\n",
    "n = int(input(\"Enter a number :\")) \n",
    "\n",
    "# Calculating the number of factor\n",
    "f = 0\n",
    "for i in range(1,n+1):\n",
    "    if n % i == 0:\n",
    "        f += 1\n",
    "\n",
    "# Checking for prime number\n",
    "if f == 2:\n",
    "    print(\"The given number is a Prime number\")\n",
    "else:\n",
    "    print(\"The given number is not a Prime number\")"
   ]
  },
  {
   "cell_type": "code",
   "execution_count": null,
   "id": "73ae330d-b0ec-4ebb-89f4-c637f5f174b2",
   "metadata": {
    "jupyter": {
     "source_hidden": true
    },
    "tags": []
   },
   "outputs": [],
   "source": []
  },
  {
   "cell_type": "markdown",
   "id": "0c5e670a-61b3-43ee-87ec-e50a1677c071",
   "metadata": {},
   "source": [
    "Elif Statements:\n"
   ]
  },
  {
   "cell_type": "markdown",
   "id": "c1ef92cb-0721-4ee7-9ca0-52eb8177581d",
   "metadata": {},
   "source": [
    "21. Write a Python program to assign grades based on different ranges of scores using elif statements."
   ]
  },
  {
   "cell_type": "code",
   "execution_count": 25,
   "id": "3339de4e-1635-4beb-b381-3a9e316d0875",
   "metadata": {},
   "outputs": [
    {
     "name": "stdin",
     "output_type": "stream",
     "text": [
      "Enter student's score : 45\n"
     ]
    },
    {
     "name": "stdout",
     "output_type": "stream",
     "text": [
      "Grade : FAILED\n"
     ]
    }
   ],
   "source": [
    "# take user input as student's score\n",
    "score = int(input(\"Enter student's score :\"))\n",
    "\n",
    "# determining the grade based on student's score\n",
    "if score >= 90:\n",
    "    print(\"Grade : A\")\n",
    "elif 80 <= score < 90:\n",
    "    print(\"Grade : B\")\n",
    "elif score >= 70 and score < 80:\n",
    "    print(\"Grade : C\")\n",
    "elif score >= 60 and score < 70:\n",
    "    print(\"Grade : D\")\n",
    "elif score >= 50 and score < 60:\n",
    "    print(\"Grade : E\")\n",
    "else:\n",
    "    print(\"Grade : FAILED\")"
   ]
  },
  {
   "cell_type": "markdown",
   "id": "756a3685-9e33-480f-b606-ef17a8b63545",
   "metadata": {},
   "source": [
    "22. Implement a program to determine the type of a triangle based on its angles."
   ]
  },
  {
   "cell_type": "code",
   "execution_count": 32,
   "id": "612a29b6-838c-4529-8f1b-7575762f6df8",
   "metadata": {},
   "outputs": [],
   "source": [
    "# "
   ]
  },
  {
   "cell_type": "markdown",
   "id": "704b9018-a999-4d2b-864f-73673bd0d25b",
   "metadata": {},
   "source": [
    "23. Develop a program to categorize a given person's BMI into underweight, normal, overweight, or obese using\n",
    "elif statements."
   ]
  },
  {
   "cell_type": "code",
   "execution_count": 36,
   "id": "02ba04ac-162a-44af-971f-449a99e0d0e1",
   "metadata": {},
   "outputs": [],
   "source": [
    "# "
   ]
  },
  {
   "cell_type": "markdown",
   "id": "79b80819-2952-4d4b-be58-4a372215d619",
   "metadata": {},
   "source": [
    "24. Create a program that determines whether a given number is positive, negative, or zero using elif\n",
    "statements."
   ]
  },
  {
   "cell_type": "code",
   "execution_count": 26,
   "id": "cec4f01f-229f-464c-a662-d831fa099412",
   "metadata": {},
   "outputs": [
    {
     "name": "stdin",
     "output_type": "stream",
     "text": [
      "Enter a number -11\n"
     ]
    },
    {
     "name": "stdout",
     "output_type": "stream",
     "text": [
      "The given number is negative\n"
     ]
    }
   ],
   "source": [
    "# take user input as a integer number\n",
    "n = int(input(\"Enter a number\"))\n",
    "\n",
    "# Checking for postive, negative or zero number\n",
    "if n == 0:\n",
    "    print(\"The given number is zero\") \n",
    "elif n > 0:\n",
    "    print(\"The given number is positive\") \n",
    "else:\n",
    "    print(\"The given number is negative\") "
   ]
  },
  {
   "cell_type": "markdown",
   "id": "95d71e5f-4206-4cd4-8487-a08bca28f2f9",
   "metadata": {},
   "source": [
    "25. Write a Python script to determine the type of a character (uppercase, lowercase, or special) using elif\n",
    "statements."
   ]
  },
  {
   "cell_type": "code",
   "execution_count": 30,
   "id": "6a1682fc-0c77-4d63-b3c7-d3261d3f2693",
   "metadata": {},
   "outputs": [
    {
     "name": "stdin",
     "output_type": "stream",
     "text": [
      "Enter the character : b\n"
     ]
    },
    {
     "name": "stdout",
     "output_type": "stream",
     "text": [
      "The character is in lower case\n"
     ]
    }
   ],
   "source": [
    "# take user input of a character \n",
    "ch = input(\"Enter the character :\")\n",
    "\n",
    "if ch.isupper():\n",
    "    print(\"The character is in upper case\")\n",
    "elif ch.islower():\n",
    "    print(\"The character is in lower case\")\n",
    "else:\n",
    "    print(\"It's a special character\")"
   ]
  },
  {
   "cell_type": "markdown",
   "id": "d62a86a7-8ecd-4e99-abeb-0fef1d8e4000",
   "metadata": {},
   "source": [
    "26. Implement a program to calculate the discounted price based on different purchase amounts using elif\n",
    "statements."
   ]
  },
  {
   "cell_type": "code",
   "execution_count": 38,
   "id": "0dea8daf-f5d5-4271-9d17-acc2b64874bc",
   "metadata": {},
   "outputs": [],
   "source": [
    "# "
   ]
  },
  {
   "cell_type": "markdown",
   "id": "3e1f0616-9b14-4813-a099-3bce4253d19f",
   "metadata": {},
   "source": [
    "27. Develop a program to calculate the electricity bill based on different consumption slabs using elif\n",
    "statements."
   ]
  },
  {
   "cell_type": "code",
   "execution_count": 39,
   "id": "4113783f-33d4-452f-bcc8-bc52279994ca",
   "metadata": {},
   "outputs": [],
   "source": [
    "# "
   ]
  },
  {
   "cell_type": "markdown",
   "id": "2d7d49a1-5fb7-4d21-abb1-ab2dd96cc282",
   "metadata": {},
   "source": [
    "28. Create a program to determine the type of quadrilateral based on its angles and sides using elif\n",
    "statements."
   ]
  },
  {
   "cell_type": "code",
   "execution_count": 40,
   "id": "f048a991-bbd0-4185-b860-d6309198e3bf",
   "metadata": {},
   "outputs": [],
   "source": [
    "# "
   ]
  },
  {
   "cell_type": "markdown",
   "id": "b84b24a9-e939-4f28-a0f3-b56022ccf237",
   "metadata": {},
   "source": [
    "29. Write a Python script to determine the season based on a user-provided month using elif statements."
   ]
  },
  {
   "cell_type": "code",
   "execution_count": 41,
   "id": "bbbefdde-0339-4faa-b07e-68bcb4b99c5d",
   "metadata": {},
   "outputs": [],
   "source": [
    "# "
   ]
  },
  {
   "cell_type": "markdown",
   "id": "84b142eb-bf18-436c-87ce-644ef935185d",
   "metadata": {},
   "source": [
    "30. Implement a program to determine the type of a year (leap or common) and month (30 or 31 days) using\n",
    "elif statements."
   ]
  },
  {
   "cell_type": "code",
   "execution_count": 42,
   "id": "cd40bd44-2288-400b-8319-79a5c429800f",
   "metadata": {},
   "outputs": [],
   "source": [
    "#"
   ]
  },
  {
   "cell_type": "code",
   "execution_count": null,
   "id": "20d76934-f1c4-4ad7-bb14-926e495f0e20",
   "metadata": {
    "jupyter": {
     "source_hidden": true
    },
    "tags": []
   },
   "outputs": [],
   "source": []
  },
  {
   "cell_type": "markdown",
   "id": "4c76ee7e-a8ad-4a66-9695-40665ff28b83",
   "metadata": {},
   "source": [
    "Basic level:"
   ]
  },
  {
   "cell_type": "markdown",
   "id": "f6868f3c-6079-4450-8561-279ba009ea8d",
   "metadata": {},
   "source": [
    "1. Write a Python program that checks if a given number is positive, negative, or zero."
   ]
  },
  {
   "cell_type": "code",
   "execution_count": 33,
   "id": "18d62059-fdcc-4195-a1a5-0eb5f97be177",
   "metadata": {},
   "outputs": [
    {
     "name": "stdin",
     "output_type": "stream",
     "text": [
      "Enter a number : -23\n"
     ]
    },
    {
     "name": "stdout",
     "output_type": "stream",
     "text": [
      "The given number is negative\n"
     ]
    }
   ],
   "source": [
    "# take user input as a integer number\n",
    "n = int(input(\"Enter a number :\"))\n",
    "\n",
    "# Checking for postive, negative or zero number\n",
    "if n >= 0:\n",
    "    if n == 0:\n",
    "        print(\"The given number is zero\") \n",
    "    else:\n",
    "        print(\"The given number is positive\") \n",
    "else:\n",
    "    print(\"The given number is negative\") "
   ]
  },
  {
   "cell_type": "markdown",
   "id": "cb631c9b-ebcd-413e-8e36-25d0a84d6772",
   "metadata": {},
   "source": [
    "2. Create a program to determine if a person is eligible to vote based on their age."
   ]
  },
  {
   "cell_type": "code",
   "execution_count": 34,
   "id": "342aad1c-0005-45c4-8669-42e770a648e6",
   "metadata": {},
   "outputs": [
    {
     "name": "stdin",
     "output_type": "stream",
     "text": [
      "Enter the age of the person : 19\n"
     ]
    },
    {
     "name": "stdout",
     "output_type": "stream",
     "text": [
      "The person is eligible to vote\n"
     ]
    }
   ],
   "source": [
    " # take input as age of a person\n",
    "age = int(input(\"Enter the age of the person :\"))\n",
    "\n",
    "# Checking whether the person is eligible to vote or not\n",
    "if age >= 18:\n",
    "    print(\"The person is eligible to vote\")\n",
    "else:\n",
    "    print(\"The person is not eligible to vote\")"
   ]
  },
  {
   "cell_type": "markdown",
   "id": "51134157-ad2b-4e95-b716-65de0e3968f3",
   "metadata": {},
   "source": [
    "3. Write a program to find the maximum of two given numbers using conditional statements."
   ]
  },
  {
   "cell_type": "code",
   "execution_count": 35,
   "id": "e181005b-6307-468d-ad8b-0404a87fb375",
   "metadata": {},
   "outputs": [
    {
     "name": "stdin",
     "output_type": "stream",
     "text": [
      "Enter first number : 45\n",
      "Enter second number : 4\n"
     ]
    },
    {
     "name": "stdout",
     "output_type": "stream",
     "text": [
      "The larger number is 45\n"
     ]
    }
   ],
   "source": [
    "# Taking two numbers as input\n",
    "a = int(input(\"Enter first number :\"))\n",
    "b = int(input(\"Enter second number :\"))\n",
    "\n",
    "# finding the greatest\n",
    "if a > b:\n",
    "    print(\"The larger number is\",a)\n",
    "else:\n",
    "    print(\"The larger number is\",b)"
   ]
  },
  {
   "cell_type": "markdown",
   "id": "53c17386-77a7-4a8c-83df-4ad335862213",
   "metadata": {},
   "source": [
    "4. Develop a program that calculates the grade of a student based on their exam score."
   ]
  },
  {
   "cell_type": "code",
   "execution_count": 37,
   "id": "715da5a7-0df4-4d56-b4fa-b5b1a0d73d10",
   "metadata": {},
   "outputs": [
    {
     "name": "stdin",
     "output_type": "stream",
     "text": [
      "Enter student's score : 78\n"
     ]
    },
    {
     "name": "stdout",
     "output_type": "stream",
     "text": [
      "Grade : C\n"
     ]
    }
   ],
   "source": [
    "# take user input as student's score\n",
    "score = int(input(\"Enter student's score :\"))\n",
    "\n",
    "# determining the grade based on student's score\n",
    "if score >= 90:\n",
    "    print(\"Grade : A\")\n",
    "elif 80 <= score < 90:\n",
    "    print(\"Grade : B\")\n",
    "elif score >= 70 and score < 80:\n",
    "    print(\"Grade : C\")\n",
    "elif score >= 60 and score < 70:\n",
    "    print(\"Grade : D\")\n",
    "elif score >= 50 and score < 60:\n",
    "    print(\"Grade : E\")\n",
    "else:\n",
    "    print(\"Grade : FAILED\")"
   ]
  },
  {
   "cell_type": "markdown",
   "id": "574ff5e9-66fb-4029-9d73-d270e1865623",
   "metadata": {},
   "source": [
    "5. Create a program that checks if a year is a leap year or not."
   ]
  },
  {
   "cell_type": "code",
   "execution_count": 40,
   "id": "e5e33112-2e7a-41e2-8c9d-8402fb1f7157",
   "metadata": {},
   "outputs": [
    {
     "name": "stdin",
     "output_type": "stream",
     "text": [
      "Enter a year : 2024\n"
     ]
    },
    {
     "name": "stdout",
     "output_type": "stream",
     "text": [
      "2024 is a leap year\n"
     ]
    }
   ],
   "source": [
    "# take input of a year\n",
    "yr = int(input(\"Enter a year :\"))\n",
    "\n",
    "# checking for leap year or not\n",
    "if (((yr % 400 == 0) or (yr % 100 != 0)) and (yr % 4 == 0)):\n",
    "    print(yr,\"is a leap year\")\n",
    "else:\n",
    "    print(yr,\"is not a leap year\")"
   ]
  },
  {
   "cell_type": "markdown",
   "id": "9563b61d-1851-4309-8f0d-2bec7940609a",
   "metadata": {},
   "source": [
    "6. Write a program to classify a triangle based on its sides' lengths."
   ]
  },
  {
   "cell_type": "code",
   "execution_count": 51,
   "id": "f5e6a425-69e1-43be-85de-826567ce0cae",
   "metadata": {},
   "outputs": [],
   "source": [
    "# "
   ]
  },
  {
   "cell_type": "markdown",
   "id": "d55cef34-e4f1-44c5-8b55-f7dbe7249224",
   "metadata": {},
   "source": [
    "7. Build a program that determines the largest of three given numbers."
   ]
  },
  {
   "cell_type": "code",
   "execution_count": 47,
   "id": "98917fd5-c20d-42dc-9c26-16abc44bd090",
   "metadata": {},
   "outputs": [
    {
     "name": "stdin",
     "output_type": "stream",
     "text": [
      "Enter the first number : 6\n",
      "Enter the second number : 4\n",
      "Enter the third number : 10\n"
     ]
    },
    {
     "name": "stdout",
     "output_type": "stream",
     "text": [
      "The largest number is 10\n"
     ]
    }
   ],
   "source": [
    "# take input of three integers\n",
    "a = int(input(\"Enter the first number :\"))\n",
    "b = int(input(\"Enter the second number :\"))\n",
    "c = int(input(\"Enter the third number :\"))\n",
    "\n",
    "# determinig the largest number\n",
    "if (a > b) and (a > c):\n",
    "    print(\"The largest number is\",a)\n",
    "elif (b > a) and (b > c):\n",
    "    print(\"The largest number is\",b)\n",
    "else:\n",
    "    print(\"The largest number is\",c)"
   ]
  },
  {
   "cell_type": "markdown",
   "id": "2d394268-f891-42b2-9a41-5f6bd39f0792",
   "metadata": {},
   "source": [
    "8. Develop a program that checks whether a character is a vowel or a consonant."
   ]
  },
  {
   "cell_type": "code",
   "execution_count": 43,
   "id": "c7075775-0357-455c-aa3f-0414253ed101",
   "metadata": {},
   "outputs": [
    {
     "name": "stdin",
     "output_type": "stream",
     "text": [
      "Enter a character : e\n"
     ]
    },
    {
     "name": "stdout",
     "output_type": "stream",
     "text": [
      "The given character is a vowel\n"
     ]
    }
   ],
   "source": [
    "# take input as a character\n",
    "ch = input(\"Enter a character :\")\n",
    "\n",
    "# Checking for vowel or consonant\n",
    "l = ['a','A','e','E','i','I','o','O','u','U']\n",
    "if ch in l:\n",
    "    print(\"The given character is a vowel\")\n",
    "else:\n",
    "    print(\"The given character is a consonant\")"
   ]
  },
  {
   "cell_type": "markdown",
   "id": "dbb7d7e1-6508-4386-9752-63e53a739822",
   "metadata": {},
   "source": [
    "9. Create a program to calculate the total cost of a shopping cart based on discounts."
   ]
  },
  {
   "cell_type": "code",
   "execution_count": 54,
   "id": "ca4b63a7-e6a6-4cf4-a538-7da9c705c4ed",
   "metadata": {},
   "outputs": [],
   "source": [
    "# "
   ]
  },
  {
   "cell_type": "markdown",
   "id": "5979834e-b4c5-4214-abce-eaffc733cff0",
   "metadata": {},
   "source": [
    "10. Write a program that checks if a given number is even or odd."
   ]
  },
  {
   "cell_type": "code",
   "execution_count": 41,
   "id": "d6bc9b2a-c7e3-44ca-b9ae-156605f05d5d",
   "metadata": {},
   "outputs": [
    {
     "name": "stdin",
     "output_type": "stream",
     "text": [
      "Enter a number : 56\n"
     ]
    },
    {
     "name": "stdout",
     "output_type": "stream",
     "text": [
      "The given number is even\n"
     ]
    }
   ],
   "source": [
    "# take input of a integer\n",
    "a = int(input(\"Enter a number :\"))\n",
    "\n",
    "# Checking for even or odd\n",
    "if a % 2 == 0:\n",
    "    print(\"The given number is even\")\n",
    "else:\n",
    "    print(\"The given number is odd\")"
   ]
  },
  {
   "cell_type": "code",
   "execution_count": null,
   "id": "73b4bd7f-df9a-4364-a282-10548622f238",
   "metadata": {
    "jupyter": {
     "source_hidden": true
    },
    "tags": []
   },
   "outputs": [],
   "source": []
  },
  {
   "cell_type": "markdown",
   "id": "6aefcc8c-bbeb-48b1-b571-2a8c945d7efc",
   "metadata": {},
   "source": [
    "Intermediate Level:"
   ]
  },
  {
   "cell_type": "markdown",
   "id": "e4122bfa-89d2-4289-8bf7-cbda4e5e64de",
   "metadata": {},
   "source": [
    "11. Write a program that calculates the roots of a quadratic equation ."
   ]
  },
  {
   "cell_type": "code",
   "execution_count": 56,
   "id": "9f8fd5d4-2cc8-4f2a-8e23-ca187abcc861",
   "metadata": {},
   "outputs": [],
   "source": [
    "#"
   ]
  },
  {
   "cell_type": "markdown",
   "id": "a1e685d6-f3bc-4199-b8a3-a6ca3aebbc8e",
   "metadata": {},
   "source": [
    "12. Create a program that determines the day of the week based on the day number (1-7)."
   ]
  },
  {
   "cell_type": "code",
   "execution_count": 49,
   "id": "0448dc14-5d3f-4d78-9140-080bab83570d",
   "metadata": {},
   "outputs": [
    {
     "name": "stdin",
     "output_type": "stream",
     "text": [
      "Enter a number from 1 to 7 : 6\n"
     ]
    },
    {
     "name": "stdout",
     "output_type": "stream",
     "text": [
      "Today is Saturday\n"
     ]
    }
   ],
   "source": [
    "# take user input as integer\n",
    "n = int(input(\"Enter a number from 1 to 7 :\"))\n",
    "\n",
    "# determining the day of the week\n",
    "if n == 1:\n",
    "    print(\"Today is Monday\")\n",
    "if n == 2:\n",
    "    print(\"Today is Tuesday\")\n",
    "if n == 3:\n",
    "    print(\"Today is Wednesday\")\n",
    "if n == 4:\n",
    "    print(\"Today is Thursday\")\n",
    "if n == 5:\n",
    "    print(\"Today is Friday\")\n",
    "if n == 6:\n",
    "    print(\"Today is Saturday\")\n",
    "if n == 7:\n",
    "    print(\"Today is Sunday\")"
   ]
  },
  {
   "cell_type": "markdown",
   "id": "b3b2e98f-648e-488a-82ec-713f8ed9face",
   "metadata": {},
   "source": [
    "13. Develop a program that calculates the factorial of a given number using recursion."
   ]
  },
  {
   "cell_type": "code",
   "execution_count": 58,
   "id": "4e99c185-7b65-4a8e-8d7d-fb571dfc2dd3",
   "metadata": {},
   "outputs": [],
   "source": [
    "# "
   ]
  },
  {
   "cell_type": "markdown",
   "id": "510e904f-d592-4768-adb1-2835ee7474fa",
   "metadata": {},
   "source": [
    "14. Write a program to find the largest among three numbers without using the `max()` function."
   ]
  },
  {
   "cell_type": "code",
   "execution_count": 1,
   "id": "da5225b3-a529-42ad-882a-353eaf84e3b4",
   "metadata": {},
   "outputs": [
    {
     "name": "stdin",
     "output_type": "stream",
     "text": [
      "Enter the first number : 5\n",
      "Enter the second number : 10\n",
      "Enter the third number : 2\n"
     ]
    },
    {
     "name": "stdout",
     "output_type": "stream",
     "text": [
      "The largest number is 10\n"
     ]
    }
   ],
   "source": [
    "# take input of three integers\n",
    "a = int(input(\"Enter the first number :\"))\n",
    "b = int(input(\"Enter the second number :\"))\n",
    "c = int(input(\"Enter the third number :\"))\n",
    "\n",
    "# determinig the largest number\n",
    "if a > b :\n",
    "    l = a\n",
    "else:\n",
    "    l = b\n",
    "if l > c:\n",
    "    l = l\n",
    "else:\n",
    "    l = c\n",
    "    \n",
    "print(\"The largest number is\",l)"
   ]
  },
  {
   "cell_type": "markdown",
   "id": "264d50d7-4bd1-4b21-a925-7f2ab3385706",
   "metadata": {},
   "source": [
    "15. Create a program that simulates a basic ATM transaction menu."
   ]
  },
  {
   "cell_type": "code",
   "execution_count": 60,
   "id": "7688a330-89c2-49d4-95b5-c2d6cdbd5a66",
   "metadata": {},
   "outputs": [],
   "source": [
    "# "
   ]
  },
  {
   "cell_type": "markdown",
   "id": "7839fc29-5c0e-44d0-b261-a762aad9ac61",
   "metadata": {},
   "source": [
    "16. Build a program that checks if a given string is a palindrome or not."
   ]
  },
  {
   "cell_type": "code",
   "execution_count": 50,
   "id": "a5fa7b1e-ad6d-4efe-a94b-f372e5d7fbe5",
   "metadata": {},
   "outputs": [
    {
     "name": "stdin",
     "output_type": "stream",
     "text": [
      "Enter a sentance or word : madam\n"
     ]
    },
    {
     "name": "stdout",
     "output_type": "stream",
     "text": [
      "The given string is a palindromic string\n"
     ]
    }
   ],
   "source": [
    "# take user input as string\n",
    "s = input(\"Enter a sentance or word :\")\n",
    "\n",
    "# reversing the given string\n",
    "rev = \"\"\n",
    "for i in s:\n",
    "    rev = i + rev\n",
    "    \n",
    "# checking for palindrome\n",
    "if s == rev:\n",
    "    print(\"The given string is a palindromic string\")\n",
    "else:\n",
    "    print(\"The given string is not a palindromic string\")"
   ]
  },
  {
   "cell_type": "markdown",
   "id": "33ca9ff4-a3ad-4446-a3d5-4520a9a2a095",
   "metadata": {},
   "source": [
    "17. Write a program that calculates the average of a list of numbers, excluding the smallest and largest values."
   ]
  },
  {
   "cell_type": "code",
   "execution_count": 8,
   "id": "4399f435-d55d-495c-8c4a-a8174ec5d9fe",
   "metadata": {},
   "outputs": [
    {
     "name": "stdout",
     "output_type": "stream",
     "text": [
      "Average : 3.888888888888889\n"
     ]
    }
   ],
   "source": [
    "# declaring a list\n",
    "l1 = [1,2,3,6,5,4,8,9,7]\n",
    "\n",
    "# calculating average excluding the smallest and largest number\n",
    "l = l1[0]\n",
    "s = l1[0]\n",
    "sum = 0\n",
    "for i in l1:\n",
    "    if i > l:\n",
    "        l = i\n",
    "    if i < s:\n",
    "        s = i\n",
    "    sum += i\n",
    "\n",
    "av = (sum-l-s)/len(l1)\n",
    "print(\"Average :\",av)"
   ]
  },
  {
   "cell_type": "markdown",
   "id": "f2adbe1b-1027-4f07-b65f-c7565595ae56",
   "metadata": {},
   "source": [
    "18. Develop a program that converts a given temperature from Celsius to Fahrenheit."
   ]
  },
  {
   "cell_type": "code",
   "execution_count": 9,
   "id": "ba978d85-1f0c-4ccd-8d54-b01650bfcb1a",
   "metadata": {},
   "outputs": [
    {
     "name": "stdin",
     "output_type": "stream",
     "text": [
      "Enter the temperature in celcius : 32\n"
     ]
    },
    {
     "name": "stdout",
     "output_type": "stream",
     "text": [
      "The given temperature is 89.6 F(Fahrenheit)\n"
     ]
    }
   ],
   "source": [
    "# Taking input as temperature in celcius from user\n",
    "temp = int(input(\"Enter the temperature in celcius :\"))\n",
    "\n",
    "# Converting the given temperature from celcius to fahrenheit\n",
    "f = (9*temp/5)+32\n",
    "\n",
    "# Displaying\n",
    "print(\"The given temperature is\",f,\"F(Fahrenheit)\")"
   ]
  },
  {
   "cell_type": "markdown",
   "id": "81cccbd9-88be-415e-9d8c-50f27b3ac75f",
   "metadata": {},
   "source": [
    "19. Create a program that simulates a basic calculator for addition, subtraction, multiplication, and division."
   ]
  },
  {
   "cell_type": "code",
   "execution_count": 13,
   "id": "05e1cf21-3dcf-42c0-8751-b0285cba1517",
   "metadata": {},
   "outputs": [
    {
     "name": "stdin",
     "output_type": "stream",
     "text": [
      "Enter the first number : 5\n",
      "Enter the desired mathematical operation : *\n",
      "Enter the second number : 6\n"
     ]
    },
    {
     "name": "stdout",
     "output_type": "stream",
     "text": [
      "Result : 30\n"
     ]
    }
   ],
   "source": [
    "# taking required inputs\n",
    "a = int(input(\"Enter the first number :\"))\n",
    "op = input(\"Enter the desired mathematical operation :\")\n",
    "b = int(input(\"Enter the second number :\"))\n",
    "\n",
    "# devoloping calculator\n",
    "if op == '+':\n",
    "    r = a + b\n",
    "elif op == '-':\n",
    "    r = a - b\n",
    "elif op == '*':\n",
    "    r = a * b\n",
    "elif op == '/':\n",
    "    r = a / b\n",
    "else:\n",
    "    print(\"SYNTAX ERROR\")\n",
    "\n",
    "print(\"Result :\",r)"
   ]
  },
  {
   "cell_type": "markdown",
   "id": "5b140ea9-4aab-4b18-bd88-8c25fe3d6279",
   "metadata": {},
   "source": [
    "20. Write a program that determines the roots of a cubic equation using the Cardano formula."
   ]
  },
  {
   "cell_type": "code",
   "execution_count": 65,
   "id": "04d74ce8-d5e2-4882-8413-543f2585adde",
   "metadata": {},
   "outputs": [],
   "source": [
    "# "
   ]
  },
  {
   "cell_type": "markdown",
   "id": "9a9b23a7-a5e4-4621-9b53-567b8326c3ed",
   "metadata": {
    "jupyter": {
     "source_hidden": true
    },
    "tags": []
   },
   "source": []
  },
  {
   "cell_type": "markdown",
   "id": "4eba24b7-f28f-4c15-9e81-8677a20589e6",
   "metadata": {},
   "source": [
    "Advanced Level:"
   ]
  },
  {
   "cell_type": "markdown",
   "id": "ad7bd0cb-fe44-4f09-87ec-8c36cfe57ab0",
   "metadata": {},
   "source": [
    "21. Create a program that calculates the income tax based on the user's income and tax brackets."
   ]
  },
  {
   "cell_type": "code",
   "execution_count": 66,
   "id": "a38bbb92-fa51-4754-94fa-cf9c650b4942",
   "metadata": {},
   "outputs": [],
   "source": [
    "# "
   ]
  },
  {
   "cell_type": "markdown",
   "id": "39d0b36b-24bc-403f-a4cd-9dca2bc47eb9",
   "metadata": {},
   "source": [
    "22. Write a program that simulates a rock-paper-scissors game against the computer."
   ]
  },
  {
   "cell_type": "code",
   "execution_count": 67,
   "id": "d2571ead-b58e-48a6-9f3c-73a72c482fe3",
   "metadata": {},
   "outputs": [],
   "source": [
    "# "
   ]
  },
  {
   "cell_type": "markdown",
   "id": "37a457ec-3338-4199-987f-4fbabf48a21f",
   "metadata": {},
   "source": [
    "23. Develop a program that generates a random password based on user preferences (length, complexity)."
   ]
  },
  {
   "cell_type": "code",
   "execution_count": 68,
   "id": "0af0b209-8a0d-4010-83c3-70f395245555",
   "metadata": {},
   "outputs": [],
   "source": [
    "# "
   ]
  },
  {
   "cell_type": "markdown",
   "id": "7607cfeb-9f24-4d18-9e8a-3858ccf4c835",
   "metadata": {},
   "source": [
    "24. Create a program that implements a simple text-based adventure game with branching scenarios."
   ]
  },
  {
   "cell_type": "code",
   "execution_count": 69,
   "id": "e2dd5bea-4a4b-4e57-bf7e-77fddd575e9f",
   "metadata": {},
   "outputs": [],
   "source": [
    "# "
   ]
  },
  {
   "cell_type": "markdown",
   "id": "0d2828de-2558-4e82-8ebe-6a1e35146a1c",
   "metadata": {},
   "source": [
    "25. Build a program that solves a linear equation for x, considering different cases."
   ]
  },
  {
   "cell_type": "code",
   "execution_count": 70,
   "id": "61e4571d-b854-4665-8f86-bcf42f11c057",
   "metadata": {},
   "outputs": [],
   "source": [
    "# "
   ]
  },
  {
   "cell_type": "markdown",
   "id": "5f3943fa-a4d5-4854-ad3d-7126f77a31ee",
   "metadata": {},
   "source": [
    "26. Write a program that simulates a basic quiz game with multiple-choice questions and scoring."
   ]
  },
  {
   "cell_type": "code",
   "execution_count": 71,
   "id": "34ecc2ad-2dc2-453e-8dbb-3d9f6780068a",
   "metadata": {},
   "outputs": [],
   "source": [
    "# "
   ]
  },
  {
   "cell_type": "markdown",
   "id": "fc676df6-922c-4ba6-b93e-b714ef9b2f8a",
   "metadata": {},
   "source": [
    "27. Develop a program that determines whether a given year is a prime number or not."
   ]
  },
  {
   "cell_type": "code",
   "execution_count": 9,
   "id": "4a7026a5-8c2e-47f5-a205-4aded389717b",
   "metadata": {},
   "outputs": [
    {
     "name": "stdin",
     "output_type": "stream",
     "text": [
      "Enter a year : 2023\n"
     ]
    },
    {
     "name": "stdout",
     "output_type": "stream",
     "text": [
      "Given year is not a prime number\n"
     ]
    }
   ],
   "source": [
    "# take user input as year\n",
    "yr = int(input(\"Enter a year :\"))\n",
    "\n",
    "# checking whether a given year is a prime number or not\n",
    "c = 0\n",
    "for i in range(1,n+1):\n",
    "    if n % i == 0:\n",
    "        c += 1\n",
    "\n",
    "if c == 2:\n",
    "    print(\"Given year is a prime number\")\n",
    "else:\n",
    "    print(\"Given year is not a prime number\")"
   ]
  },
  {
   "cell_type": "markdown",
   "id": "a3c1b477-ed96-44b3-97d6-d6ccc5077811",
   "metadata": {},
   "source": [
    "28. Create a program that sorts three numbers in ascending order using conditional statements."
   ]
  },
  {
   "cell_type": "code",
   "execution_count": 73,
   "id": "d8be8b06-ae4a-4e19-9f6a-74d104a21282",
   "metadata": {},
   "outputs": [],
   "source": [
    "# take three numbers as user input\n",
    "n1 = int(input(\"Enter first number :\"))\n",
    "n2 = int(input(\"Enter second number :\"))\n",
    "n3 = int(input(\"Enter third number :\"))\n",
    "\n",
    "# arranging three numbers in ascendinig order\n",
    "if n1 >= n2:\n",
    "    l1 = n2\n",
    "else:\n",
    "    l2 = n1\n",
    "\n",
    "if n3 >= l1 and n3 >= l2:\n",
    "    l3 = n3\n",
    "elif n3 >= l1 and n3 <= l2:\n",
    "    l3,l2 = l2,n3\n",
    "elif n3 >= l2 and n3 <= l1:\n",
    "    l3,l2 = l1,n3\n",
    "else:\n",
    "    l3,l2,l1 = l2,l1,n3"
   ]
  },
  {
   "cell_type": "markdown",
   "id": "1f17a166-2df7-4fe9-acd7-3055855a1a89",
   "metadata": {},
   "source": [
    "29. Build a program that determines the roots of a quartic equation using numerical methods."
   ]
  },
  {
   "cell_type": "code",
   "execution_count": 74,
   "id": "46fad1a2-64b4-49cc-9297-6cd51e2f322c",
   "metadata": {},
   "outputs": [],
   "source": [
    "# "
   ]
  },
  {
   "cell_type": "markdown",
   "id": "178c9892-1057-4f3b-b049-9eb820edd54c",
   "metadata": {},
   "source": [
    "30. Write a program that calculates the BMI (Body Mass Index) and provides health recommendations based\n",
    "on the user's input."
   ]
  },
  {
   "cell_type": "code",
   "execution_count": 75,
   "id": "c31675f3-a310-4a5b-9d43-09dbb987b921",
   "metadata": {},
   "outputs": [],
   "source": [
    "# "
   ]
  },
  {
   "cell_type": "markdown",
   "id": "b0c08b33-b61c-4923-a8f3-460322048707",
   "metadata": {
    "jupyter": {
     "source_hidden": true
    },
    "tags": []
   },
   "source": []
  },
  {
   "cell_type": "markdown",
   "id": "20cc5400-338c-4379-8707-7ab7a2f32fa4",
   "metadata": {
    "tags": []
   },
   "source": [
    "Challenge level:"
   ]
  },
  {
   "cell_type": "markdown",
   "id": "89ccc0b5-0ae0-4a47-80e6-e0fe07259b1d",
   "metadata": {},
   "source": [
    "31. Create a program that validates a password based on complexity rules (length, characters, etc.)."
   ]
  },
  {
   "cell_type": "code",
   "execution_count": 78,
   "id": "9a3eed3a-d210-4176-9115-d7c68695a422",
   "metadata": {},
   "outputs": [],
   "source": [
    "# "
   ]
  },
  {
   "cell_type": "markdown",
   "id": "3e54036b-aa9a-42dd-8c4b-ff7e8a4df5cb",
   "metadata": {},
   "source": [
    "32. Develop a program that performs matrix addition and subtraction based on user input."
   ]
  },
  {
   "cell_type": "code",
   "execution_count": 79,
   "id": "6135469f-1619-4fc6-a544-50e3b3b26da3",
   "metadata": {},
   "outputs": [],
   "source": [
    "# "
   ]
  },
  {
   "cell_type": "markdown",
   "id": "e55dccad-0e17-4728-aec5-e7727d73e9a9",
   "metadata": {},
   "source": [
    "33. Write a program that calculates the greatest common divisor (GCD) of two numbers using the Euclidean\n",
    "algorithm."
   ]
  },
  {
   "cell_type": "code",
   "execution_count": 80,
   "id": "245fed4d-10f9-4ccd-bfdc-5f6b63f56278",
   "metadata": {},
   "outputs": [],
   "source": [
    "# "
   ]
  },
  {
   "cell_type": "markdown",
   "id": "77dce641-92d4-4bff-a894-844e447954d1",
   "metadata": {},
   "source": [
    "34. Build a program that performs matrix multiplication using nested loops and conditional statements."
   ]
  },
  {
   "cell_type": "code",
   "execution_count": 81,
   "id": "ae922d7a-faf4-4a60-8c4b-94c9f69f41d9",
   "metadata": {},
   "outputs": [],
   "source": [
    "# "
   ]
  },
  {
   "cell_type": "markdown",
   "id": "e5b1e448-5772-46bc-8c49-0eb1b0d45193",
   "metadata": {},
   "source": [
    "35. Create a program that simulates a basic text-based tic-tac-toe game against the computer."
   ]
  },
  {
   "cell_type": "code",
   "execution_count": 82,
   "id": "ed9e4218-30c1-4c55-bff2-cdac92142c3c",
   "metadata": {},
   "outputs": [],
   "source": [
    "# "
   ]
  },
  {
   "cell_type": "markdown",
   "id": "e7f0f4ea-5dac-4e81-b743-e05457f3b6a3",
   "metadata": {},
   "source": [
    "36. Write a program that generates Fibonacci numbers up to a specified term using iterative methods."
   ]
  },
  {
   "cell_type": "code",
   "execution_count": 8,
   "id": "06b75de2-e683-4ce1-82cf-f562b309b22b",
   "metadata": {},
   "outputs": [
    {
     "name": "stdin",
     "output_type": "stream",
     "text": [
      "Enter the number of fibonacci terms required : 10\n"
     ]
    },
    {
     "name": "stdout",
     "output_type": "stream",
     "text": [
      "The desired number of fibonacci terms are :\n",
      "0\n",
      "1\n",
      "1\n",
      "2\n",
      "3\n",
      "5\n",
      "8\n",
      "13\n",
      "21\n",
      "34\n"
     ]
    }
   ],
   "source": [
    "# take user input as number of terms required im fibonacci series \n",
    "n = int(input(\"Enter the number of fibonacci terms required :\"))\n",
    "\n",
    "# generating fibonacci numbers\n",
    "print(\"The desired number of fibonacci terms are :\")\n",
    "a , b = 0,1\n",
    "for i in range(n):\n",
    "    print(a)\n",
    "    a,b=b,a+b"
   ]
  },
  {
   "cell_type": "markdown",
   "id": "a1758481-888f-418a-9bac-2d50537d0b9c",
   "metadata": {},
   "source": [
    "37. Develop a program that calculates the nth term of the Fibonacci sequence using memoization."
   ]
  },
  {
   "cell_type": "code",
   "execution_count": 84,
   "id": "3527ceeb-cbc3-48b7-affb-4f148b5864ae",
   "metadata": {},
   "outputs": [],
   "source": [
    "# "
   ]
  },
  {
   "cell_type": "markdown",
   "id": "b2a846c4-29f1-43d8-b5ea-cdfd841cdb34",
   "metadata": {},
   "source": [
    "38. Create a program that generates a calendar for a given month and year using conditional statements."
   ]
  },
  {
   "cell_type": "code",
   "execution_count": 85,
   "id": "9567b08e-2e99-4428-99d9-056db2847fc2",
   "metadata": {},
   "outputs": [],
   "source": [
    "# "
   ]
  },
  {
   "cell_type": "markdown",
   "id": "f4222f2e-176e-4530-a96c-9ba5eee8172c",
   "metadata": {},
   "source": [
    "39. Build a program that simulates a basic text-based blackjack game against the computer."
   ]
  },
  {
   "cell_type": "code",
   "execution_count": 86,
   "id": "f2122584-980b-45ad-9fc7-5452289afa01",
   "metadata": {},
   "outputs": [],
   "source": [
    "# "
   ]
  },
  {
   "cell_type": "markdown",
   "id": "8b16d84c-7f6a-489e-9874-a0a2e2634819",
   "metadata": {},
   "source": [
    "40. Write a program that generates the prime factors of a given number using trial division."
   ]
  },
  {
   "cell_type": "code",
   "execution_count": 5,
   "id": "ca884a13-0618-4d92-a1aa-e6e3e774fa89",
   "metadata": {},
   "outputs": [
    {
     "name": "stdin",
     "output_type": "stream",
     "text": [
      "Enter a number : 210\n"
     ]
    },
    {
     "name": "stdout",
     "output_type": "stream",
     "text": [
      "The prime factors of 210 are :\n",
      "2\n",
      "3\n",
      "5\n",
      "7\n"
     ]
    }
   ],
   "source": [
    "# take user input as integer\n",
    "n = int(input(\"Enter a number :\"))\n",
    "\n",
    "# generating prime factors\n",
    "print(\"The prime factors of\",n,\"are :\")\n",
    "for i in range(1,n+1):\n",
    "    if n % i == 0:\n",
    "        c = 0\n",
    "        for j in range(1,i+1):\n",
    "            if i % j == 0:\n",
    "                c += 1\n",
    "        if c == 2:\n",
    "            print(i)"
   ]
  }
 ],
 "metadata": {
  "kernelspec": {
   "display_name": "Python 3 (ipykernel)",
   "language": "python",
   "name": "python3"
  },
  "language_info": {
   "codemirror_mode": {
    "name": "ipython",
    "version": 3
   },
   "file_extension": ".py",
   "mimetype": "text/x-python",
   "name": "python",
   "nbconvert_exporter": "python",
   "pygments_lexer": "ipython3",
   "version": "3.10.8"
  }
 },
 "nbformat": 4,
 "nbformat_minor": 5
}
