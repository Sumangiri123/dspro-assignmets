{
 "cells": [
  {
   "cell_type": "markdown",
   "id": "ceb16ff1-3be6-47a2-8c87-548c4c3d2e54",
   "metadata": {},
   "source": [
    "                                                       For Loop"
   ]
  },
  {
   "cell_type": "markdown",
   "id": "933d8699-484f-4d1f-bce7-b6a209a2d8a2",
   "metadata": {
    "tags": []
   },
   "source": [
    "Basic Level:"
   ]
  },
  {
   "cell_type": "markdown",
   "id": "e319ce5a-a2cb-4318-8937-f4c098a40d56",
   "metadata": {},
   "source": [
    "1. Write a Python program to print the numbers from 1 to 10 using a `for` loop."
   ]
  },
  {
   "cell_type": "code",
   "execution_count": 1,
   "id": "9f9f9ff6-9826-49a7-b206-16b0f88adf6a",
   "metadata": {},
   "outputs": [
    {
     "name": "stdout",
     "output_type": "stream",
     "text": [
      "1\n",
      "2\n",
      "3\n",
      "4\n",
      "5\n",
      "6\n",
      "7\n",
      "8\n",
      "9\n",
      "10\n"
     ]
    }
   ],
   "source": [
    "for i in range(1,11):\n",
    "    print(i)"
   ]
  },
  {
   "cell_type": "markdown",
   "id": "c267e0c0-c3d6-451e-b351-0d4b9fc881d4",
   "metadata": {},
   "source": [
    "2. Create a program that calculates the sum of all numbers in a list using a `for` loop."
   ]
  },
  {
   "cell_type": "code",
   "execution_count": 3,
   "id": "2b1d5086-ca80-4249-9804-5c2345fccd6a",
   "metadata": {},
   "outputs": [
    {
     "name": "stdout",
     "output_type": "stream",
     "text": [
      "The sum is : 15\n"
     ]
    }
   ],
   "source": [
    "# declaring list of numbers \n",
    "l = [1,2,3,4,5]\n",
    "\n",
    "# calculating sum of list of numbers using for loop\n",
    "s = 0\n",
    "for i in l:\n",
    "    s += i\n",
    "    \n",
    "print(\"The sum is :\",s)"
   ]
  },
  {
   "cell_type": "markdown",
   "id": "32105661-e33e-4215-8cbc-2e704a56190f",
   "metadata": {},
   "source": [
    "3. Write a program to print the characters of a string in reverse order using a `for` loop."
   ]
  },
  {
   "cell_type": "code",
   "execution_count": 6,
   "id": "67698b97-609d-4092-9049-393957a1a585",
   "metadata": {},
   "outputs": [
    {
     "name": "stdin",
     "output_type": "stream",
     "text": [
      "Enter a word : Ram\n"
     ]
    },
    {
     "name": "stdout",
     "output_type": "stream",
     "text": [
      "The reversed string :\n",
      "maR\n"
     ]
    }
   ],
   "source": [
    "# take user input as string\n",
    "s = input(\"Enter a word :\")\n",
    "\n",
    "# reversing the string\n",
    "rev = \"\"\n",
    "for i in s:\n",
    "    rev = i + rev\n",
    "\n",
    "print(\"The reversed string :\")\n",
    "print(rev)"
   ]
  },
  {
   "cell_type": "markdown",
   "id": "469d37d0-356d-47c1-8655-f5001aeee03a",
   "metadata": {},
   "source": [
    "4. Develop a program that finds the factorial of a given number using a `for` loop."
   ]
  },
  {
   "cell_type": "code",
   "execution_count": 4,
   "id": "14c36739-8029-4d32-9d76-87e54ef32c37",
   "metadata": {},
   "outputs": [
    {
     "name": "stdin",
     "output_type": "stream",
     "text": [
      "Enter a number : 5\n"
     ]
    },
    {
     "name": "stdout",
     "output_type": "stream",
     "text": [
      "The factorial of 5 is 120\n"
     ]
    }
   ],
   "source": [
    "# take user input as a integer number\n",
    "n = int(input(\"Enter a number :\"))\n",
    "\n",
    "# finding factorial of the number\n",
    "p = 1\n",
    "for i in range(n):\n",
    "    p = p*(i+1)\n",
    "    \n",
    "print(\"The factorial of\",n,\"is\",p)"
   ]
  },
  {
   "cell_type": "markdown",
   "id": "737efb09-9dba-4748-99ca-c361d6d6794d",
   "metadata": {},
   "source": [
    "5. Create a program to print the multiplication table of a given number using a `for` loop."
   ]
  },
  {
   "cell_type": "code",
   "execution_count": 8,
   "id": "3f893a6b-dd14-4224-a91f-c61f42fec8d4",
   "metadata": {},
   "outputs": [
    {
     "name": "stdin",
     "output_type": "stream",
     "text": [
      "Enter the number of which you want the multiplication table : 16\n"
     ]
    },
    {
     "name": "stdout",
     "output_type": "stream",
     "text": [
      "The multiplication table of 16 :\n",
      "\n",
      "16 x 1 = 16\n",
      "16 x 2 = 32\n",
      "16 x 3 = 48\n",
      "16 x 4 = 64\n",
      "16 x 5 = 80\n",
      "16 x 6 = 96\n",
      "16 x 7 = 112\n",
      "16 x 8 = 128\n",
      "16 x 9 = 144\n",
      "16 x 10 = 160\n"
     ]
    }
   ],
   "source": [
    "# displaying multiplication table \n",
    "n = int(input(\"Enter the number of which you want the multiplication table :\"))\n",
    "\n",
    "# calculating and dsisplaying the multiplication table\n",
    "print(\"The multiplication table of\",n,\":\")\n",
    "print()\n",
    "\n",
    "for i in range(10):\n",
    "    print(n,\"x\",(i+1),\"=\",n*(i+1))"
   ]
  },
  {
   "cell_type": "markdown",
   "id": "cb244c05-7e6a-4214-a2c0-cfcf7e4fad24",
   "metadata": {},
   "source": [
    "6. Write a program that counts the number of even and odd numbers in a list using a `for` loop."
   ]
  },
  {
   "cell_type": "code",
   "execution_count": 9,
   "id": "6f0f9edc-0189-422a-bb06-8327fa2231a2",
   "metadata": {},
   "outputs": [
    {
     "name": "stdout",
     "output_type": "stream",
     "text": [
      "The list is :\n",
      "[1, 2, 3, 4, 5]\n",
      "Total number of even numbers in a list is : 2\n",
      "Total number of odd numbers in a list is : 3\n"
     ]
    }
   ],
   "source": [
    "# declaring a list of integers \n",
    "l = [1,2,3,4,5]\n",
    "print(\"The list is :\")\n",
    "print(l)\n",
    "\n",
    "# checking first for even or odd then counting it number of even and odd numbers in a list\n",
    "c1 = 0\n",
    "c2 = 0\n",
    "for i in l:\n",
    "    if i % 2 == 0:\n",
    "        c1 += 1\n",
    "    else:\n",
    "        c2 += 1\n",
    "\n",
    "print(\"Total number of even numbers in a list is :\",c1)\n",
    "print(\"Total number of odd numbers in a list is :\",c2)"
   ]
  },
  {
   "cell_type": "markdown",
   "id": "e73724eb-ab6b-4141-baed-9ad2b2dd6e3e",
   "metadata": {},
   "source": [
    "7. Develop a program that prints the squares of numbers from 1 to 5 using a `for` loop."
   ]
  },
  {
   "cell_type": "code",
   "execution_count": 11,
   "id": "3c5ee02e-e15b-40ba-8ab5-6f4e49131aa4",
   "metadata": {},
   "outputs": [
    {
     "name": "stdout",
     "output_type": "stream",
     "text": [
      "Square of 1 is : 1\n",
      "Square of 2 is : 4\n",
      "Square of 3 is : 9\n",
      "Square of 4 is : 16\n",
      "Square of 5 is : 25\n"
     ]
    }
   ],
   "source": [
    "# displaying squares of numbers from 1 to 5\n",
    "for i in range(5):\n",
    "    print(\"Square of\",(i+1),\"is :\",(i+1)*(i+1))"
   ]
  },
  {
   "cell_type": "markdown",
   "id": "b4e5a882-e0cb-4a3a-a410-d3f3f9e343cc",
   "metadata": {},
   "source": [
    "8. Create a program to find the length of a string without using the `len()` function."
   ]
  },
  {
   "cell_type": "code",
   "execution_count": 17,
   "id": "7b1bdae2-c28d-4540-90cd-ca14cca0d30e",
   "metadata": {},
   "outputs": [
    {
     "name": "stdin",
     "output_type": "stream",
     "text": [
      "Enter a sentence : Slowly becoming rich\n"
     ]
    },
    {
     "name": "stdout",
     "output_type": "stream",
     "text": [
      "The length of the string is 20\n"
     ]
    }
   ],
   "source": [
    "#take input as string from user\n",
    "s = input(\"Enter a sentence :\")\n",
    "\n",
    "# calculating length of the string\n",
    "c = 0\n",
    "for i in s:\n",
    "    c += 1\n",
    "    \n",
    "print(\"The length of the string is\",c) "
   ]
  },
  {
   "cell_type": "markdown",
   "id": "3bf8c255-0322-4c82-bc1a-042ce3fcdcb7",
   "metadata": {},
   "source": [
    "9. Write a program that calculates the average of a list of numbers using a `for` loop."
   ]
  },
  {
   "cell_type": "code",
   "execution_count": 8,
   "id": "bb37d269-1e92-43ad-b74b-a3dea9734005",
   "metadata": {},
   "outputs": [
    {
     "name": "stdin",
     "output_type": "stream",
     "text": [
      "Enter a list of integers separated by spaces:  1 4 7 9\n"
     ]
    },
    {
     "name": "stdout",
     "output_type": "stream",
     "text": [
      "User input as a list: [1, 4, 7, 9]\n",
      "Average of numbers in list is : 5.25\n"
     ]
    }
   ],
   "source": [
    "# Taking user input as a list of integers separated by spaces\n",
    "user_input = input(\"Enter a list of integers separated by spaces: \")\n",
    "\n",
    "# Split the input string into a list of integers\n",
    "input_list = [int(item) for item in user_input.split()]\n",
    "\n",
    "# Print the resulting list\n",
    "print(\"User input as a list:\", input_list)\n",
    "\n",
    "# calculating average of numbers\n",
    "s = 0\n",
    "n = 0\n",
    "for i in input_list:\n",
    "    s += i\n",
    "    n += 1\n",
    "\n",
    "print(\"Average of numbers in list is :\",s/n)"
   ]
  },
  {
   "cell_type": "markdown",
   "id": "3cab0f57-f6e9-4f4a-9719-572d0bd541be",
   "metadata": {},
   "source": [
    "10. Develop a program that prints the first `n` Fibonacci numbers using a `for` loop."
   ]
  },
  {
   "cell_type": "code",
   "execution_count": 13,
   "id": "d216a36f-a795-4294-8b7c-cffad57c720e",
   "metadata": {},
   "outputs": [
    {
     "name": "stdin",
     "output_type": "stream",
     "text": [
      "Enter the number of fibonacci numbers requird : 10\n"
     ]
    },
    {
     "name": "stdout",
     "output_type": "stream",
     "text": [
      "The fibonacci numbers are :\n",
      "0 1 1 2 3 5 8 13 21 34 "
     ]
    }
   ],
   "source": [
    "# enter the number of fibonacci numbers required\n",
    "n = int(input(\"Enter the number of fibonacci numbers requird :\"))\n",
    "n = n-2\n",
    "\n",
    "# displaying the first n fibonacci numbers\n",
    "print(\"The fibonacci numbers are :\")\n",
    "a = 0\n",
    "b = 1\n",
    "print(a,b,end = \" \")\n",
    "\n",
    "for i in range(n):\n",
    "    s = a + b\n",
    "    print(s,end=\" \")\n",
    "    a = b\n",
    "    b = s"
   ]
  },
  {
   "cell_type": "markdown",
   "id": "99187a6a-911c-4ddd-8f33-9d598129ca66",
   "metadata": {
    "jupyter": {
     "source_hidden": true
    },
    "tags": []
   },
   "source": []
  },
  {
   "cell_type": "markdown",
   "id": "904f4c9b-d3f2-4f6e-8fff-22a95a71088c",
   "metadata": {},
   "source": [
    "Intermediate Level:"
   ]
  },
  {
   "cell_type": "markdown",
   "id": "0a99f9cd-3922-43d7-a82d-597413188cb1",
   "metadata": {},
   "source": [
    "11. Write a program to check if a given list contains any duplicates using a `for` loop."
   ]
  },
  {
   "cell_type": "code",
   "execution_count": 4,
   "id": "87d28109-f560-44bc-96e6-6e635dfd158b",
   "metadata": {},
   "outputs": [
    {
     "name": "stdin",
     "output_type": "stream",
     "text": [
      "Enter a list of integers separated by spaces:  1 2 2 3\n"
     ]
    },
    {
     "name": "stdout",
     "output_type": "stream",
     "text": [
      "User input as a list: [1, 2, 2, 3]\n",
      "There are duplicates in the list\n"
     ]
    }
   ],
   "source": [
    "# Taking user input as a list of integers separated by spaces\n",
    "user_input = input(\"Enter a list of integers separated by spaces: \")\n",
    "\n",
    "# Split the input string into a list of integers\n",
    "l = [int(item) for item in user_input.split()]\n",
    "\n",
    "# Print the resulting list\n",
    "print(\"User input as a list:\", l)\n",
    "\n",
    "for i in l:\n",
    "    c = 0\n",
    "    for j in l:\n",
    "        if i == j:\n",
    "            c += 1\n",
    "    if c > 1:\n",
    "        print(\"There are duplicates in the list\")\n",
    "        break\n",
    "else:\n",
    "    print(\"There are no duplicates in the list\")"
   ]
  },
  {
   "cell_type": "markdown",
   "id": "179f394a-6db7-425f-9ada-1b1c874ce72f",
   "metadata": {},
   "source": [
    "12. Create a program that prints the prime numbers in a given range using a `for` loop."
   ]
  },
  {
   "cell_type": "code",
   "execution_count": 3,
   "id": "bfbfc6a2-21b4-4b9e-8fe8-484ed6c0fbc9",
   "metadata": {},
   "outputs": [
    {
     "name": "stdin",
     "output_type": "stream",
     "text": [
      "Enter the lower limit of the required range : 2\n",
      "Enter the upper limit of the required range : 11\n"
     ]
    },
    {
     "name": "stdout",
     "output_type": "stream",
     "text": [
      "Prime numbers in the range from 2 to 11 are :\n",
      "2\n",
      "3\n",
      "5\n",
      "7\n",
      "11\n"
     ]
    }
   ],
   "source": [
    "# displaying prime in a range\n",
    "n1 = int(input(\"Enter the lower limit of the required range :\"))\n",
    "n2 = int(input(\"Enter the upper limit of the required range :\"))\n",
    "\n",
    "# find prime numbers in the required range\n",
    "print(\"Prime numbers in the range from\",n1,\"to\",n2,\"are :\" )\n",
    "for i in range(n1,n2+1):\n",
    "    c = 0\n",
    "    for j in range(1,i+1):\n",
    "        if i % j == 0:\n",
    "            c += 1\n",
    "    if c == 2:\n",
    "        print(i)\n",
    "    "
   ]
  },
  {
   "cell_type": "markdown",
   "id": "61c18f69-3359-4988-88f9-f00b769c026a",
   "metadata": {},
   "source": [
    "13. Develop a program that counts the number of vowels in a string using a `for` loop."
   ]
  },
  {
   "cell_type": "code",
   "execution_count": 14,
   "id": "79e4caca-287d-415c-9dd7-43ca4541ebba",
   "metadata": {},
   "outputs": [
    {
     "name": "stdin",
     "output_type": "stream",
     "text": [
      "Enter a sentence : Path to Success\n"
     ]
    },
    {
     "name": "stdout",
     "output_type": "stream",
     "text": [
      "The number of vowels in a string is : 4\n"
     ]
    }
   ],
   "source": [
    "# take user input as string\n",
    "s = input(\"Enter a sentence :\")\n",
    "\n",
    "# Counting the number of vowels in the string\n",
    "l = [\"a\",\"A\",\"e\",\"E\",\"i\",\"I\",\"o\",\"O\",\"u\",\"U\"]\n",
    "c = 0\n",
    "for i in s:\n",
    "    if i in l:\n",
    "        c += 1\n",
    "\n",
    "print(\"The number of vowels in a string is :\",c)"
   ]
  },
  {
   "cell_type": "markdown",
   "id": "30c6b323-a202-493c-804f-d24116c8e134",
   "metadata": {},
   "source": [
    "14. Write a program to find the maximum element in a 2D list using a nested `for` loop."
   ]
  },
  {
   "cell_type": "code",
   "execution_count": 15,
   "id": "f815dfaf-24c1-4138-88e2-3e2c7cb2431e",
   "metadata": {},
   "outputs": [],
   "source": []
  },
  {
   "cell_type": "markdown",
   "id": "46b59dfc-f627-4f24-b91b-89619efd8e9e",
   "metadata": {},
   "source": [
    "15. Create a program that removes all occurrences of a specific element from a list using a `for` loop."
   ]
  },
  {
   "cell_type": "code",
   "execution_count": 11,
   "id": "016a8c56-f15c-48a4-8ed1-51d26c7403c8",
   "metadata": {},
   "outputs": [
    {
     "name": "stdin",
     "output_type": "stream",
     "text": [
      "Enter a list of integers separated by spaces:  1 2 2 2 2 2 2 2 2 2\n"
     ]
    },
    {
     "name": "stdout",
     "output_type": "stream",
     "text": [
      "User input as a list: [1, 2, 2, 2, 2, 2, 2, 2, 2, 2]\n",
      "Modified list : [1, 2, 2, 2, 2]\n"
     ]
    }
   ],
   "source": [
    "# Taking user input as a list of integers separated by spaces\n",
    "user_input = input(\"Enter a list of integers separated by spaces: \")\n",
    "\n",
    "# Split the input string into a list of integers\n",
    "l = [int(item) for item in user_input.split()]\n",
    "\n",
    "# Print the resulting list\n",
    "print(\"User input as a list:\", l)\n",
    "\n",
    "for i in l:\n",
    "    c = 0\n",
    "    for j in l:\n",
    "        if i == j:\n",
    "            c += 1\n",
    "    if c > 1:\n",
    "        l.remove(i)\n",
    "\n",
    "print(\"Modified list :\",l)"
   ]
  },
  {
   "cell_type": "markdown",
   "id": "a5dacba9-2f12-4c49-8f56-ff532501c3ba",
   "metadata": {},
   "source": [
    "16. Develop a program that generates a multiplication table for numbers from 1 to 5 using a nested `for` loop."
   ]
  },
  {
   "cell_type": "code",
   "execution_count": 16,
   "id": "8254a061-13c6-4ba3-8042-6f3fce3f4152",
   "metadata": {},
   "outputs": [
    {
     "name": "stdout",
     "output_type": "stream",
     "text": [
      "Multiplication table of 1 :\n",
      "\n",
      "1 x 1 = 1\n",
      "1 x 2 = 2\n",
      "1 x 3 = 3\n",
      "1 x 4 = 4\n",
      "1 x 5 = 5\n",
      "1 x 6 = 6\n",
      "1 x 7 = 7\n",
      "1 x 8 = 8\n",
      "1 x 9 = 9\n",
      "1 x 10 = 10\n",
      "\n",
      "Multiplication table of 2 :\n",
      "\n",
      "2 x 1 = 2\n",
      "2 x 2 = 4\n",
      "2 x 3 = 6\n",
      "2 x 4 = 8\n",
      "2 x 5 = 10\n",
      "2 x 6 = 12\n",
      "2 x 7 = 14\n",
      "2 x 8 = 16\n",
      "2 x 9 = 18\n",
      "2 x 10 = 20\n",
      "\n",
      "Multiplication table of 3 :\n",
      "\n",
      "3 x 1 = 3\n",
      "3 x 2 = 6\n",
      "3 x 3 = 9\n",
      "3 x 4 = 12\n",
      "3 x 5 = 15\n",
      "3 x 6 = 18\n",
      "3 x 7 = 21\n",
      "3 x 8 = 24\n",
      "3 x 9 = 27\n",
      "3 x 10 = 30\n",
      "\n",
      "Multiplication table of 4 :\n",
      "\n",
      "4 x 1 = 4\n",
      "4 x 2 = 8\n",
      "4 x 3 = 12\n",
      "4 x 4 = 16\n",
      "4 x 5 = 20\n",
      "4 x 6 = 24\n",
      "4 x 7 = 28\n",
      "4 x 8 = 32\n",
      "4 x 9 = 36\n",
      "4 x 10 = 40\n",
      "\n",
      "Multiplication table of 5 :\n",
      "\n",
      "5 x 1 = 5\n",
      "5 x 2 = 10\n",
      "5 x 3 = 15\n",
      "5 x 4 = 20\n",
      "5 x 5 = 25\n",
      "5 x 6 = 30\n",
      "5 x 7 = 35\n",
      "5 x 8 = 40\n",
      "5 x 9 = 45\n",
      "5 x 10 = 50\n",
      "\n"
     ]
    }
   ],
   "source": [
    "# generating a multiplication table for numbers from 1 to 5\n",
    "for i in range(1,6):\n",
    "    print(\"Multiplication table of\",i,\":\")\n",
    "    print()\n",
    "    for j in range(1,11):\n",
    "        print(i,\"x\",j,\"=\",i*j)\n",
    "    print()"
   ]
  },
  {
   "cell_type": "markdown",
   "id": "10ec9929-7ffc-408d-a163-2be2f46dc2ae",
   "metadata": {
    "tags": []
   },
   "source": [
    "17. Write a program that converts a list of Fahrenheit temperatures to Celsius using a `for` loop."
   ]
  },
  {
   "cell_type": "code",
   "execution_count": 3,
   "id": "fe6e6a52-ae77-4012-a5c7-8e794c60694a",
   "metadata": {},
   "outputs": [
    {
     "name": "stdin",
     "output_type": "stream",
     "text": [
      "Enter list of fahrenheit temperature seperated by spces : 89.6 100 104 99\n"
     ]
    },
    {
     "name": "stdout",
     "output_type": "stream",
     "text": [
      "Converted list of temperature in celcius : [32.0, 37.77777777777778, 40.0, 37.22222222222222]\n"
     ]
    }
   ],
   "source": [
    "# take user input as list of temperatures in celcius seperated by spaces\n",
    "user_input = input(\"Enter list of fahrenheit temperature seperated by spces :\").split()\n",
    "output_list = []\n",
    "for i in user_input:\n",
    "    i = float(i)\n",
    "    c = 5*(i-32)/9\n",
    "    output_list.append(c)\n",
    "    \n",
    "print(\"Converted list of temperature in celcius :\",output_list)"
   ]
  },
  {
   "cell_type": "markdown",
   "id": "ac77fb6a-00c5-462f-9411-c6e27d7c0f24",
   "metadata": {},
   "source": [
    "18. Create a program to print the common elements from two lists using a `for` loop."
   ]
  },
  {
   "cell_type": "code",
   "execution_count": 13,
   "id": "c71f83fd-6199-421c-bbc9-8c2d73d62056",
   "metadata": {},
   "outputs": [
    {
     "name": "stdout",
     "output_type": "stream",
     "text": [
      "The Common elements are :\n",
      "2\n",
      "4\n",
      "5\n"
     ]
    }
   ],
   "source": [
    "# declaring two list\n",
    "l1 = [1,2,3,4,5]\n",
    "l2 = [2,4,5,6,7,8,9]\n",
    "\n",
    "#displaying common elements from two list\n",
    "print(\"The Common elements are :\")\n",
    "for i in l1:\n",
    "    for j in l2:\n",
    "        if i == j:\n",
    "            print(i)"
   ]
  },
  {
   "cell_type": "markdown",
   "id": "888b1140-1dd7-4025-8fcb-185197430c78",
   "metadata": {},
   "source": [
    "19. Develop a program that prints the pattern of right-angled triangles using a `for` loop. Use ‘*’ to draw the\n",
    "pattern"
   ]
  },
  {
   "cell_type": "code",
   "execution_count": 1,
   "id": "3fbb2d14-13a4-4268-bad9-6410e536df42",
   "metadata": {},
   "outputs": [
    {
     "name": "stdin",
     "output_type": "stream",
     "text": [
      "Enter the number of lines : 5\n"
     ]
    },
    {
     "name": "stdout",
     "output_type": "stream",
     "text": [
      "The required pattern is :\n",
      "\n",
      "* \n",
      "* * \n",
      "* * * \n",
      "* * * * \n",
      "* * * * * \n"
     ]
    }
   ],
   "source": [
    "# printing right-angled triangle pattern\n",
    "n = int(input(\"Enter the number of lines :\"))\n",
    "print(\"The required pattern is :\")\n",
    "print()\n",
    "\n",
    "for i in range(n):\n",
    "    for j in range(i+1):\n",
    "        print(\"*\",end = \" \")\n",
    "    print()"
   ]
  },
  {
   "cell_type": "markdown",
   "id": "92ce1a11-b959-4e8b-a23a-bda79f42b9d2",
   "metadata": {},
   "source": [
    "20. Write a program to find the greatest common divisor (GCD) of two numbers using a `for` loop."
   ]
  },
  {
   "cell_type": "code",
   "execution_count": 21,
   "id": "75be4c77-0592-4258-9513-bdea250bf7b4",
   "metadata": {},
   "outputs": [],
   "source": [
    "# "
   ]
  },
  {
   "cell_type": "markdown",
   "id": "8e8c50df-f88e-46ea-b5a5-e5b271d7cdc3",
   "metadata": {
    "jupyter": {
     "source_hidden": true
    },
    "tags": []
   },
   "source": []
  },
  {
   "cell_type": "markdown",
   "id": "ff8a5846-9a7d-41e8-bcd9-f6c8e15481ac",
   "metadata": {},
   "source": [
    "Advanced Level:"
   ]
  },
  {
   "cell_type": "markdown",
   "id": "2ecbefc0-9ec5-46a0-80cd-3741e15c3f3a",
   "metadata": {},
   "source": [
    "21. Create a program that calculates the sum of the digits of numbers in a list using a list comprehension."
   ]
  },
  {
   "cell_type": "code",
   "execution_count": 14,
   "id": "78248a94-96c4-4014-904f-f74a8df1ede3",
   "metadata": {},
   "outputs": [
    {
     "name": "stdin",
     "output_type": "stream",
     "text": [
      "Enter list of numbers seperated by spaces : 1 22 33 444\n"
     ]
    },
    {
     "name": "stdout",
     "output_type": "stream",
     "text": [
      "Input list : [1, 22, 33, 444]\n",
      "Sum of digits of numbers in the list : 23\n"
     ]
    }
   ],
   "source": [
    "# take user input as list of numbers\n",
    "l = input(\"Enter list of numbers seperated by spaces :\").split()\n",
    "l = [int(i) for i in l]\n",
    "print(\"Input list :\",l)\n",
    "s = 0\n",
    "for i in l:\n",
    "    while i > 0:\n",
    "        dig = i % 10\n",
    "        s = s + dig\n",
    "        i = i // 10\n",
    "print(\"Sum of digits of numbers in the list :\",s)"
   ]
  },
  {
   "cell_type": "markdown",
   "id": "809234b2-1635-4795-ac92-9232c0fd841b",
   "metadata": {},
   "source": [
    "22. Write a program to find the prime factors of a given number using a `for` loop using list comprehension."
   ]
  },
  {
   "cell_type": "code",
   "execution_count": 15,
   "id": "37f07d18-f062-49ce-86d1-deb1c9953c2b",
   "metadata": {},
   "outputs": [
    {
     "name": "stdin",
     "output_type": "stream",
     "text": [
      "Enter a number : 15\n"
     ]
    },
    {
     "name": "stdout",
     "output_type": "stream",
     "text": [
      "The prime factors are :\n",
      "3\n",
      "5\n"
     ]
    }
   ],
   "source": [
    "# take user input as number\n",
    "n = int(input(\"Enter a number :\"))\n",
    "\n",
    "# find prime fcators\n",
    "print(\"The prime factors are :\")\n",
    "l1 = [i for i in range(1,n+1) if n % i == 0]\n",
    "\n",
    "for i in l1:\n",
    "    c = 0\n",
    "    for j in range(1,i+1):\n",
    "        if i % j ==0:\n",
    "            c += 1\n",
    "    if c == 2:\n",
    "        print(i)\n"
   ]
  },
  {
   "cell_type": "markdown",
   "id": "d1fee201-c3f6-4c59-9272-92b878b63d4e",
   "metadata": {},
   "source": [
    "23. Develop a program that extracts unique elements from a list and stores them in a new list using a list\n",
    "comprehension."
   ]
  },
  {
   "cell_type": "code",
   "execution_count": 24,
   "id": "0608d73e-5901-4b2c-9e86-4101b15222ca",
   "metadata": {},
   "outputs": [],
   "source": [
    "# "
   ]
  },
  {
   "cell_type": "markdown",
   "id": "657979e4-db73-4f82-838f-3afe57d9e37e",
   "metadata": {},
   "source": [
    "24. Create a program that generates a list of all palindromic numbers up to a specified limit using a list\n",
    "comprehension."
   ]
  },
  {
   "cell_type": "code",
   "execution_count": 25,
   "id": "b7f0c8fd-2a2b-4cf6-8ab5-05f7f1a90047",
   "metadata": {},
   "outputs": [],
   "source": [
    "# "
   ]
  },
  {
   "cell_type": "markdown",
   "id": "be16eb16-9636-4142-a9d7-5e6988e95559",
   "metadata": {},
   "source": [
    "25. Write a program to flatten a nested list using list comprehension."
   ]
  },
  {
   "cell_type": "code",
   "execution_count": 26,
   "id": "6becbc60-c2fe-4b48-a49d-ce0ccfff3801",
   "metadata": {},
   "outputs": [],
   "source": [
    "# "
   ]
  },
  {
   "cell_type": "markdown",
   "id": "3d742f7b-813d-4f81-a646-2262a9009f99",
   "metadata": {},
   "source": [
    "26. Develop a program that computes the sum of even and odd numbers in a list separately using list\n",
    "comprehension."
   ]
  },
  {
   "cell_type": "code",
   "execution_count": 51,
   "id": "de570e77-d9fc-42c1-8db2-2a2920a7539e",
   "metadata": {
    "tags": []
   },
   "outputs": [
    {
     "name": "stdin",
     "output_type": "stream",
     "text": [
      "Enter list of numbers seperated by spaces : 1 2 3 4 5 6\n"
     ]
    },
    {
     "name": "stdout",
     "output_type": "stream",
     "text": [
      "Sum of even numbers in the lsit : 12\n",
      "Sum of odd numbers in the lsit : 9\n"
     ]
    }
   ],
   "source": [
    "# take user input as list of numbers\n",
    "l = input(\"Enter list of numbers seperated by spaces :\").split()\n",
    "\n",
    "l1 = [int(i) for i in l if int(i) % 2 == 0]\n",
    "l2 = [int(i) for i in l if int(i) % 2 != 0]\n",
    "\n",
    "s1 = s2 = 0\n",
    "for i in l1:\n",
    "    s1 = s1+i\n",
    "\n",
    "for i in l2:\n",
    "    s2 = s2+i\n",
    "    \n",
    "print(\"Sum of even numbers in the lsit :\",s1)\n",
    "print(\"Sum of odd numbers in the lsit :\",s2)"
   ]
  },
  {
   "cell_type": "markdown",
   "id": "f7a8c084-04ab-43b9-ae1f-c511e12f1ace",
   "metadata": {},
   "source": [
    "27. Create a program that generates a list of squares of odd numbers between 1 and 10 using list comprehension."
   ]
  },
  {
   "cell_type": "code",
   "execution_count": 31,
   "id": "fa2a4215-4ae6-4ca4-88ce-a2f810606dae",
   "metadata": {
    "tags": []
   },
   "outputs": [
    {
     "name": "stdout",
     "output_type": "stream",
     "text": [
      "list of squares of odd numbers between 1 to 10 : [1, 9, 25, 49, 81]\n"
     ]
    }
   ],
   "source": [
    "l1 = [i*i for i in range(1,11) if i % 2 != 0]\n",
    "print(\"list of squares of odd numbers between 1 to 10 :\",l1)"
   ]
  },
  {
   "cell_type": "markdown",
   "id": "7c0fc44c-0168-4f43-95c9-f1287cd7a897",
   "metadata": {},
   "source": [
    "28. Write a program that combines two lists into a dictionary using list comprehension."
   ]
  },
  {
   "cell_type": "code",
   "execution_count": 29,
   "id": "a0869b56-a17f-44dc-a70e-960022ca5f57",
   "metadata": {},
   "outputs": [],
   "source": [
    "# "
   ]
  },
  {
   "cell_type": "markdown",
   "id": "13fdf9ba-73eb-4861-aa34-404baaa3d6c8",
   "metadata": {},
   "source": [
    "29. Develop a program that extracts the vowels from a string and stores them in a list using list comprehension."
   ]
  },
  {
   "cell_type": "code",
   "execution_count": 33,
   "id": "03103112-4eb1-46fc-a92d-ff33c955f407",
   "metadata": {},
   "outputs": [
    {
     "name": "stdin",
     "output_type": "stream",
     "text": [
      "Enter a sentence or word : beaware of fake calls\n"
     ]
    },
    {
     "name": "stdout",
     "output_type": "stream",
     "text": [
      "Vowels are : ['a', 'o', 'e']\n"
     ]
    }
   ],
   "source": [
    "# taking user input as string\n",
    "s = input(\"Enter a sentence or word :\")\n",
    "\n",
    "# declaring a list of vowels\n",
    "l = ['a','e','i','o','u','A','E','I','O','U']\n",
    "\n",
    "# extracting vowels from string\n",
    "l1 = [i for i in s if i in l]\n",
    "print(\"Vowels are :\",list(set(l1)))"
   ]
  },
  {
   "cell_type": "markdown",
   "id": "0fcd0189-ec5a-4b4c-a3e4-6a54abf47a82",
   "metadata": {},
   "source": [
    "30. Create a program that removes all non-numeric characters from a list of strings using list comprehension."
   ]
  },
  {
   "cell_type": "code",
   "execution_count": 31,
   "id": "1fff4966-54dd-4427-b25a-305d353623ce",
   "metadata": {},
   "outputs": [],
   "source": []
  },
  {
   "cell_type": "code",
   "execution_count": null,
   "id": "41cfad7b-75f2-46c5-9ebb-dc5e11fb53db",
   "metadata": {
    "jupyter": {
     "source_hidden": true
    },
    "tags": []
   },
   "outputs": [],
   "source": []
  },
  {
   "cell_type": "markdown",
   "id": "40422ef6-4066-4fa4-af53-fdb727934ac9",
   "metadata": {},
   "source": [
    "Challenge Level:"
   ]
  },
  {
   "cell_type": "markdown",
   "id": "31c8fc28-b9a3-427b-b48c-750de51f82b2",
   "metadata": {},
   "source": [
    "31. Write a program to generate a list of prime numbers using the Sieve of Eratosthenes algorithm and list\n",
    "comprehension."
   ]
  },
  {
   "cell_type": "code",
   "execution_count": 32,
   "id": "cb19a982-e147-4430-9b5b-650d29875e48",
   "metadata": {},
   "outputs": [],
   "source": [
    "# "
   ]
  },
  {
   "cell_type": "markdown",
   "id": "f1d337ed-1688-427a-adea-9fc2f1ef489d",
   "metadata": {},
   "source": [
    "32. Create a program that generates a list of all Pythagorean triplets up to a specified limit using list\n",
    "comprehension."
   ]
  },
  {
   "cell_type": "code",
   "execution_count": 33,
   "id": "8f30817e-a960-4a5f-8189-e505380e7247",
   "metadata": {},
   "outputs": [],
   "source": [
    "# "
   ]
  },
  {
   "cell_type": "markdown",
   "id": "edc75beb-f18a-481a-b30e-f39ebdfb4a3f",
   "metadata": {},
   "source": [
    "33. Develop a program that generates a list of all possible combinations of two lists using list comprehension."
   ]
  },
  {
   "cell_type": "code",
   "execution_count": 34,
   "id": "0ad762c2-e6a3-4766-acb6-6f30c5f5725a",
   "metadata": {},
   "outputs": [],
   "source": [
    "# "
   ]
  },
  {
   "cell_type": "markdown",
   "id": "88b4a069-1dcc-4284-a5f4-d016ab442cfe",
   "metadata": {},
   "source": [
    "34. Write a program that calculates the mean, median, and mode of a list of numbers using list\n",
    "comprehension."
   ]
  },
  {
   "cell_type": "code",
   "execution_count": 35,
   "id": "5f458ac4-a819-4745-ab55-e9bc8fc1706c",
   "metadata": {},
   "outputs": [],
   "source": [
    "# "
   ]
  },
  {
   "cell_type": "markdown",
   "id": "02b5b067-4ae8-4fde-9486-f2fd1e6dedc5",
   "metadata": {},
   "source": [
    "35. Create a program that generates Pascal's triangle up to a specified number of rows using list\n",
    "comprehension."
   ]
  },
  {
   "cell_type": "code",
   "execution_count": 36,
   "id": "5121da7a-528e-4456-8738-401ea2e93814",
   "metadata": {},
   "outputs": [],
   "source": [
    "# "
   ]
  },
  {
   "cell_type": "markdown",
   "id": "8445be0a-be43-4bff-b766-dedfa12ba465",
   "metadata": {},
   "source": [
    "36. Develop a program that calculates the sum of the digits of a factorial of numbers from 1 to 5 using list\n",
    "comprehension."
   ]
  },
  {
   "cell_type": "code",
   "execution_count": 5,
   "id": "cb2c92a2-dda1-4f63-b852-e39040c4dd04",
   "metadata": {},
   "outputs": [
    {
     "name": "stdout",
     "output_type": "stream",
     "text": [
      "Sum of digits of numbers in the list : 18\n"
     ]
    }
   ],
   "source": [
    "def fac(n):\n",
    "    p = 1\n",
    "    for i in range(n):\n",
    "        p = p * (i+1)\n",
    "    return p\n",
    "\n",
    "l = [fac(i) for i in range(1,6)]\n",
    "\n",
    "s = 0\n",
    "for i in l:\n",
    "    while i > 0:\n",
    "        dig = i % 10\n",
    "        s = s + dig\n",
    "        i = i // 10\n",
    "print(\"Sum of digits of numbers in the list :\",s)"
   ]
  },
  {
   "cell_type": "markdown",
   "id": "57eb7b21-4015-4b8c-a0f0-d57dea1af0b3",
   "metadata": {},
   "source": [
    "37. Write a program that finds the longest word in a sentence using list comprehension."
   ]
  },
  {
   "cell_type": "code",
   "execution_count": 16,
   "id": "4977c109-5342-4b2e-b322-ef1f7c1db469",
   "metadata": {},
   "outputs": [
    {
     "name": "stdin",
     "output_type": "stream",
     "text": [
      "Enter a sentence : i am a data scientist.\n"
     ]
    },
    {
     "name": "stdout",
     "output_type": "stream",
     "text": [
      "Longest word is : scientist\n"
     ]
    }
   ],
   "source": [
    "# take user input as sentence\n",
    "s = input(\"Enter a sentence :\")\n",
    "longest_word = 0\n",
    "w = ''\n",
    "lw = ''\n",
    "for i in s:\n",
    "    if i not in [' ','.'] :\n",
    "        w = w + i\n",
    "    else:\n",
    "        if len(w)>longest_word:\n",
    "            longest_word = len(w)\n",
    "            lw = w\n",
    "        w = ''\n",
    "\n",
    "print(\"Longest word is :\",lw)         "
   ]
  },
  {
   "cell_type": "markdown",
   "id": "77754003-de5a-441e-9ec2-e9a3c3e6584d",
   "metadata": {},
   "source": [
    "38. Create a program that filters a list of strings to include only those with more than three vowels using list\n",
    "comprehension."
   ]
  },
  {
   "cell_type": "code",
   "execution_count": 17,
   "id": "0fb45375-8161-4c91-9125-abcb41d657e7",
   "metadata": {},
   "outputs": [],
   "source": [
    "#"
   ]
  },
  {
   "cell_type": "markdown",
   "id": "52f3707a-d573-4c44-b173-01c27f3ff02c",
   "metadata": {},
   "source": [
    "39. Develop a program that calculates the sum of the digits of numbers from 1 to 1000 using list\n",
    "comprehension."
   ]
  },
  {
   "cell_type": "code",
   "execution_count": 1,
   "id": "4d734e66-f5a8-4566-acdc-9cccdbf238e2",
   "metadata": {},
   "outputs": [
    {
     "name": "stdout",
     "output_type": "stream",
     "text": [
      "Sum of digits of numbers in the list : 13501\n"
     ]
    }
   ],
   "source": [
    "l = [i for i in range(1,1001)]\n",
    "\n",
    "s = 0\n",
    "for i in l:\n",
    "    while i > 0:\n",
    "        dig = i % 10\n",
    "        s = s + dig\n",
    "        i = i // 10\n",
    "print(\"Sum of digits of numbers in the list :\",s)"
   ]
  },
  {
   "cell_type": "markdown",
   "id": "c4a0adef-96ae-454a-bd2b-961028580e32",
   "metadata": {},
   "source": [
    "40. Write a program that generates a list of prime palindromic numbers using list comprehension."
   ]
  },
  {
   "cell_type": "code",
   "execution_count": 41,
   "id": "c4fca872-142d-425d-9e4f-f3b53edadccc",
   "metadata": {},
   "outputs": [],
   "source": [
    "# "
   ]
  }
 ],
 "metadata": {
  "kernelspec": {
   "display_name": "Python 3 (ipykernel)",
   "language": "python",
   "name": "python3"
  },
  "language_info": {
   "codemirror_mode": {
    "name": "ipython",
    "version": 3
   },
   "file_extension": ".py",
   "mimetype": "text/x-python",
   "name": "python",
   "nbconvert_exporter": "python",
   "pygments_lexer": "ipython3",
   "version": "3.10.8"
  }
 },
 "nbformat": 4,
 "nbformat_minor": 5
}
