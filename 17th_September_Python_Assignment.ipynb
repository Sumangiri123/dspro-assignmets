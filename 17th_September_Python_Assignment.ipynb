{
 "cells": [
  {
   "cell_type": "markdown",
   "id": "a9411b91-9e1a-4459-8840-d70179c0a242",
   "metadata": {},
   "source": [
    "For Loop :-"
   ]
  },
  {
   "cell_type": "markdown",
   "id": "904510ee-b259-421f-a692-37cc773df6a2",
   "metadata": {},
   "source": [
    "1. Write a Python program to print numbers from 1 to 10 using a for loop."
   ]
  },
  {
   "cell_type": "code",
   "execution_count": 2,
   "id": "aa023b05-2c6b-467d-aca1-3c49756192bb",
   "metadata": {},
   "outputs": [
    {
     "name": "stdout",
     "output_type": "stream",
     "text": [
      "Numbers from 1 to 10 :\n",
      "1\n",
      "2\n",
      "3\n",
      "4\n",
      "5\n",
      "6\n",
      "7\n",
      "8\n",
      "9\n",
      "10\n"
     ]
    }
   ],
   "source": [
    "print(\"Numbers from 1 to 10 :\")\n",
    "for i in range(1,11):\n",
    "    print(i)"
   ]
  },
  {
   "cell_type": "markdown",
   "id": "2b1b6874-bd6a-4057-9c15-19f737d982b1",
   "metadata": {},
   "source": [
    "2. Explain the difference between a for loop and a while loop in Python."
   ]
  },
  {
   "cell_type": "code",
   "execution_count": 3,
   "id": "9b8687ee-9ab6-4ee7-8376-a48cead56151",
   "metadata": {},
   "outputs": [],
   "source": [
    "#"
   ]
  },
  {
   "cell_type": "markdown",
   "id": "cc382cf6-359e-474f-99af-68884927be87",
   "metadata": {},
   "source": [
    "3. Write a Python program to calculate the sum of all numbers from 1 to 100 using a for loop."
   ]
  },
  {
   "cell_type": "code",
   "execution_count": 5,
   "id": "0848b09f-ad88-46d6-ba8a-8a8a88ad6ce5",
   "metadata": {},
   "outputs": [
    {
     "name": "stdout",
     "output_type": "stream",
     "text": [
      "Sum of all numbers from  1 to 100 : 5050\n"
     ]
    }
   ],
   "source": [
    "s = 0\n",
    "for i in range(1,101):\n",
    "    s = s + i\n",
    "print(\"Sum of all numbers from  1 to 100 :\",s)"
   ]
  },
  {
   "cell_type": "markdown",
   "id": "a9e2eb38-e0ee-4c42-813e-1000d51b0d0b",
   "metadata": {},
   "source": [
    "4. How do you iterate through a list using a for loop in Python?"
   ]
  },
  {
   "cell_type": "code",
   "execution_count": 17,
   "id": "0fb75cec-8df6-4ef1-9ffe-7dbd30ab0c0d",
   "metadata": {},
   "outputs": [
    {
     "name": "stdout",
     "output_type": "stream",
     "text": [
      "Elements in a list :\n",
      "1\n",
      "2\n",
      "3\n",
      "4\n",
      "5\n"
     ]
    }
   ],
   "source": [
    "# declaring a list\n",
    "l = [1,2,3,4,5]\n",
    "\n",
    "print(\"Elements in a list :\")\n",
    "# we iterate through a list with the help of for loop using a following code:\n",
    "for i in l:\n",
    "    print(i)"
   ]
  },
  {
   "cell_type": "markdown",
   "id": "fc4ee9ca-32bb-4c83-a697-f57e6f0d35bd",
   "metadata": {},
   "source": [
    "5. Write a Python program to find the product of all elements in a list using a for loop"
   ]
  },
  {
   "cell_type": "code",
   "execution_count": 12,
   "id": "ac1332ff-12ff-4458-b378-79fa9fc9432d",
   "metadata": {},
   "outputs": [
    {
     "name": "stdout",
     "output_type": "stream",
     "text": [
      "Product of all elements in a list : 120\n"
     ]
    }
   ],
   "source": [
    "l = [1,2,3,4,5]\n",
    "p = 1\n",
    "for i in l:\n",
    "    p = p * i\n",
    "    \n",
    "print(\"Product of all elements in a list :\",p)"
   ]
  },
  {
   "cell_type": "markdown",
   "id": "d961e8bc-c9df-4492-9b26-5474b7a36ce7",
   "metadata": {},
   "source": [
    "6. Create a Python program that prints all even numbers from 1 to 20 using a for loop."
   ]
  },
  {
   "cell_type": "code",
   "execution_count": 13,
   "id": "d89bca5e-5e81-4747-bc04-8847969cfc7a",
   "metadata": {},
   "outputs": [
    {
     "name": "stdout",
     "output_type": "stream",
     "text": [
      "All even numbers from 1 to 20 :\n",
      "2\n",
      "4\n",
      "6\n",
      "8\n",
      "10\n",
      "12\n",
      "14\n",
      "16\n",
      "18\n",
      "20\n"
     ]
    }
   ],
   "source": [
    "print(\"All even numbers from 1 to 20 :\")\n",
    "for i in range(1,21):\n",
    "    if i % 2 == 0:\n",
    "        print(i)"
   ]
  },
  {
   "cell_type": "markdown",
   "id": "374f9b94-91c0-4379-8232-68b9d8329516",
   "metadata": {},
   "source": [
    "7. Write a Python program that calculates the factorial of a number using a for loop."
   ]
  },
  {
   "cell_type": "code",
   "execution_count": 14,
   "id": "35fb21e7-8cb9-4da6-8a7c-c1b51dc12009",
   "metadata": {},
   "outputs": [
    {
     "name": "stdin",
     "output_type": "stream",
     "text": [
      "Enter a number : 5\n"
     ]
    },
    {
     "name": "stdout",
     "output_type": "stream",
     "text": [
      "Factorial of 5 is : 120\n"
     ]
    }
   ],
   "source": [
    "n = int(input(\"Enter a number :\"))\n",
    "f = 1\n",
    "for i in range(1,n+1):\n",
    "    f = f * i\n",
    "print(\"Factorial of\",n,\"is :\",f)"
   ]
  },
  {
   "cell_type": "markdown",
   "id": "1960b98d-5d81-4f46-bb2e-1cf91c471b56",
   "metadata": {},
   "source": [
    "8. How can you iterate through the characters of a string using a for loop in Python?"
   ]
  },
  {
   "cell_type": "code",
   "execution_count": 18,
   "id": "6dfdf255-0971-49d4-b86f-40495cadaa95",
   "metadata": {},
   "outputs": [
    {
     "name": "stdout",
     "output_type": "stream",
     "text": [
      "Charcters of a string are :\n",
      "p\n",
      "w\n",
      "s\n",
      "k\n",
      "i\n",
      "l\n",
      "l\n",
      "s\n"
     ]
    }
   ],
   "source": [
    "# declaring a string\n",
    "s = \"pwskills\"\n",
    "\n",
    "print(\"Charcters of a string are :\")\n",
    "# we can iterate through the characters of a string with the help of for loop using following code:\n",
    "for ch in s:\n",
    "    print(ch)"
   ]
  },
  {
   "cell_type": "markdown",
   "id": "82b6b324-a649-4706-8032-ff0a0fd1769e",
   "metadata": {},
   "source": [
    "9. Write a Python program to find the largest number in a list using a for loop."
   ]
  },
  {
   "cell_type": "code",
   "execution_count": 20,
   "id": "15c39a3d-4443-4c88-a879-95887fb13073",
   "metadata": {},
   "outputs": [
    {
     "name": "stdout",
     "output_type": "stream",
     "text": [
      "Largest number in a list : 55\n"
     ]
    }
   ],
   "source": [
    "l = [1,2,3,4,55,6,7,8,9,10]\n",
    "largest = l[0]\n",
    "for i in l:\n",
    "    if i >= largest:\n",
    "        largest = i\n",
    "print(\"Largest number in a list :\",largest)"
   ]
  },
  {
   "cell_type": "markdown",
   "id": "df4cf42a-5bd1-4ea5-9455-6bc534f4af81",
   "metadata": {},
   "source": [
    "10. Create a Python program that prints the Fibonacci sequence up to a specified limit using a for loop"
   ]
  },
  {
   "cell_type": "code",
   "execution_count": 23,
   "id": "4ef05bf0-952b-4793-af84-ce87af114f4f",
   "metadata": {},
   "outputs": [
    {
     "name": "stdin",
     "output_type": "stream",
     "text": [
      "Enter the number of required elements in fibonacci series : 10\n"
     ]
    },
    {
     "name": "stdout",
     "output_type": "stream",
     "text": [
      "Fibonacci numbers are :\n",
      "0\n",
      "1\n",
      "1\n",
      "2\n",
      "3\n",
      "5\n",
      "8\n",
      "13\n",
      "21\n",
      "34\n"
     ]
    }
   ],
   "source": [
    "n = int(input(\"Enter the number of required elements in fibonacci series :\"))\n",
    "print(\"Fibonacci numbers are :\")\n",
    "a,b=0,1\n",
    "for i in range(n):\n",
    "    print(a)\n",
    "    a,b=b,a+b"
   ]
  },
  {
   "cell_type": "markdown",
   "id": "89eeeb0e-03d5-46db-9f1f-fe11e3239018",
   "metadata": {},
   "source": [
    "11. Write a Python program to count the number of vowels in a given string using a for loop."
   ]
  },
  {
   "cell_type": "code",
   "execution_count": 21,
   "id": "8afe6b68-67e3-4474-b5ca-be82c70a970b",
   "metadata": {},
   "outputs": [
    {
     "name": "stdin",
     "output_type": "stream",
     "text": [
      "Enter a string : I am a data scientist.\n"
     ]
    },
    {
     "name": "stdout",
     "output_type": "stream",
     "text": [
      "Number of vowels in a string : 8\n"
     ]
    }
   ],
   "source": [
    "# declaring a list of vouwels\n",
    "l = [\"a\",\"e\",\"i\",\"o\",\"u\",\"A\",\"E\",\"I\",\"O\",\"U\"]\n",
    "s = input(\"Enter a string :\")\n",
    "c = 0\n",
    "\n",
    "# counting number of vowel in a string\n",
    "for i in s:\n",
    "    if i in l:\n",
    "        c += 1\n",
    "        \n",
    "print(\"Number of vowels in a string :\",c)"
   ]
  },
  {
   "cell_type": "markdown",
   "id": "206dbd91-f5fe-4d52-8712-89d31e75cbe0",
   "metadata": {},
   "source": [
    "12. Create a Python program that generates a multiplication table for a given number using a for loop."
   ]
  },
  {
   "cell_type": "code",
   "execution_count": 25,
   "id": "3e10bcd0-da62-4e94-9097-be31d451fa03",
   "metadata": {},
   "outputs": [
    {
     "name": "stdin",
     "output_type": "stream",
     "text": [
      "Enter the number for which you want to generate multiplication table : 5\n"
     ]
    },
    {
     "name": "stdout",
     "output_type": "stream",
     "text": [
      "Multiplication table of 5 :\n",
      "5 x 1 = 5\n",
      "5 x 2 = 10\n",
      "5 x 3 = 15\n",
      "5 x 4 = 20\n",
      "5 x 5 = 25\n",
      "5 x 6 = 30\n",
      "5 x 7 = 35\n",
      "5 x 8 = 40\n",
      "5 x 9 = 45\n",
      "5 x 10 = 50\n"
     ]
    }
   ],
   "source": [
    "n = int(input(\"Enter the number for which you want to generate multiplication table :\"))\n",
    "print(\"Multiplication table of\",n,\":\")\n",
    "for i in range(1,11):\n",
    "    print(n,\"x\",i,\"=\",n*i)"
   ]
  },
  {
   "cell_type": "markdown",
   "id": "372bd892-514a-48eb-9f66-13a25f288c5c",
   "metadata": {},
   "source": [
    "13. Write a Python program to reverse a list using a for loop."
   ]
  },
  {
   "cell_type": "code",
   "execution_count": 12,
   "id": "f6ae77ce-2678-4407-8867-a12093002223",
   "metadata": {},
   "outputs": [
    {
     "name": "stdout",
     "output_type": "stream",
     "text": [
      "Reversed list : [5, 4, 3, 2, 1]\n"
     ]
    }
   ],
   "source": [
    "# declaring a list\n",
    "lst = [1,2,3,4,5]\n",
    "l1 = []\n",
    "l = len(lst)\n",
    "\n",
    "for i in range(l,0,-1):\n",
    "    l1.append(lst[i-1])\n",
    "    \n",
    "print(\"Reversed list :\",l1)"
   ]
  },
  {
   "cell_type": "markdown",
   "id": "7a87747c-137e-4877-92ed-0cb20267551d",
   "metadata": {},
   "source": [
    "14. Write a Python program to find the common elements between two lists using a for loop"
   ]
  },
  {
   "cell_type": "code",
   "execution_count": 15,
   "id": "1f4ce853-2141-4899-abc7-15a01cb3d7f7",
   "metadata": {},
   "outputs": [
    {
     "name": "stdout",
     "output_type": "stream",
     "text": [
      "Common elements between two lists :\n",
      "2\n",
      "3\n"
     ]
    }
   ],
   "source": [
    "# declaring two list\n",
    "l1 = [1,2,3,4]\n",
    "l2 = [2,3,5,6]\n",
    "print(\"Common elements between two lists :\")\n",
    "for i in l1:\n",
    "    if i in l2:\n",
    "        print(i)"
   ]
  },
  {
   "cell_type": "markdown",
   "id": "44abd362-6d04-42cc-9532-944343d1857a",
   "metadata": {},
   "source": [
    "15. Explain how to use a for loop to iterate through the keys and values of a dictionary in Python."
   ]
  },
  {
   "cell_type": "code",
   "execution_count": 14,
   "id": "335ab542-6caf-4052-9a4c-47191c55b4cd",
   "metadata": {},
   "outputs": [
    {
     "name": "stdout",
     "output_type": "stream",
     "text": [
      "Keys in dictionary are :\n",
      "name suman\n",
      "age 21\n",
      "study data science\n",
      "mentor sudhanshu\n"
     ]
    }
   ],
   "source": [
    "dic = {\"name\" : \"suman\",\"age\" : 21,\"study\" : \"data science\",\"mentor\" : \"sudhanshu\"}\n",
    "print(\"Keys in dictionary are :\")\n",
    "\n",
    "# we iterate through the keys and values by:\n",
    "for i,j in dic.items():\n",
    "    print(i,j)"
   ]
  },
  {
   "cell_type": "markdown",
   "id": "1d3a6cb9-0c6c-4931-a3e8-153ca1988638",
   "metadata": {},
   "source": [
    "16. Write a Python program to find the GCD (Greatest Common Divisor) of two numbers using a for loop."
   ]
  },
  {
   "cell_type": "code",
   "execution_count": 18,
   "id": "2089435f-ea81-4dfc-a1e8-c06ab8986c97",
   "metadata": {},
   "outputs": [],
   "source": [
    "# "
   ]
  },
  {
   "cell_type": "markdown",
   "id": "70d4be29-e3f2-417d-99d2-29b0be98d3a1",
   "metadata": {},
   "source": [
    "17. Create a Python program that checks if a string is a palindrome using a for loop."
   ]
  },
  {
   "cell_type": "code",
   "execution_count": 26,
   "id": "080f3a80-07c2-4aa4-9a2f-171cceddbe23",
   "metadata": {},
   "outputs": [
    {
     "name": "stdin",
     "output_type": "stream",
     "text": [
      "Enter a string : madam\n"
     ]
    },
    {
     "name": "stdout",
     "output_type": "stream",
     "text": [
      "Palindromic string\n"
     ]
    }
   ],
   "source": [
    "s = input(\"Enter a string :\")\n",
    "rev = \"\"\n",
    "for i in s:\n",
    "    rev = i + rev\n",
    "if rev == s:\n",
    "    print(\"Palindromic string\")\n",
    "else:\n",
    "    print(\"Non-Palindromic String\")"
   ]
  },
  {
   "cell_type": "markdown",
   "id": "b9ed8003-52f4-412e-82bd-c33559da2fbc",
   "metadata": {},
   "source": [
    "18. Write a Python program to remove duplicates from a list using a for loop."
   ]
  },
  {
   "cell_type": "code",
   "execution_count": 11,
   "id": "48574f3d-1596-4961-aa82-400e374413bc",
   "metadata": {},
   "outputs": [
    {
     "name": "stdout",
     "output_type": "stream",
     "text": [
      "New list : [1, 2, 3, 4, 5]\n"
     ]
    }
   ],
   "source": [
    "# declaring a list with some duplicates\n",
    "l = [1,2,2,3,3,3,4,4,4,4,5,5,5,5,5,5]\n",
    "s = set()\n",
    "for i in l:\n",
    "    s.add(i)\n",
    "print(\"New list :\",list(s))"
   ]
  },
  {
   "cell_type": "markdown",
   "id": "254b235c-5571-453e-8fa9-4ac2fe17b6f1",
   "metadata": {},
   "source": [
    "19. Create a Python program that counts the number of words in a sentence using a for loop."
   ]
  },
  {
   "cell_type": "code",
   "execution_count": 10,
   "id": "7e32b0ba-9ebf-41dc-88b2-454da062278c",
   "metadata": {},
   "outputs": [
    {
     "name": "stdin",
     "output_type": "stream",
     "text": [
      "Enter a sentence : I am a data scientist\n"
     ]
    },
    {
     "name": "stdout",
     "output_type": "stream",
     "text": [
      "Number of words in a sentence is : 5\n"
     ]
    }
   ],
   "source": [
    "s = input(\"Enter a sentence :\")\n",
    "count = 0\n",
    "for i in s.split():\n",
    "    count += 1\n",
    "    \n",
    "print(\"Number of words in a sentence is :\",count)"
   ]
  },
  {
   "cell_type": "markdown",
   "id": "e572c48c-5643-43c5-8492-845735e18e24",
   "metadata": {},
   "source": [
    "20. Write a Python program to find the sum of all odd numbers from 1 to 50 using a for loop."
   ]
  },
  {
   "cell_type": "code",
   "execution_count": 9,
   "id": "80e728d2-481c-4f5c-a762-74c16820ee48",
   "metadata": {},
   "outputs": [
    {
     "name": "stdout",
     "output_type": "stream",
     "text": [
      "The sum of all odd numbers from 1 to 50 : 625\n"
     ]
    }
   ],
   "source": [
    "s = 0\n",
    "for i in range(1,51):\n",
    "    if i % 2 != 0:\n",
    "        s = s + i\n",
    "\n",
    "print(\"The sum of all odd numbers from 1 to 50 :\",s)    "
   ]
  },
  {
   "cell_type": "markdown",
   "id": "98ae4f77-aad2-4d2d-9081-4990c4c00b37",
   "metadata": {},
   "source": [
    "21. Write a Python program that checks if a given year is a leap year using a for loop."
   ]
  },
  {
   "cell_type": "code",
   "execution_count": 24,
   "id": "3552f7bc-e31d-4e33-9453-d8a45b225fb4",
   "metadata": {},
   "outputs": [],
   "source": [
    "# "
   ]
  },
  {
   "cell_type": "markdown",
   "id": "bae8f6ff-00f3-498b-abe0-38d340ad813c",
   "metadata": {},
   "source": [
    "22. Create a Python program that calculates the square root of a number using a for loop."
   ]
  },
  {
   "cell_type": "code",
   "execution_count": 25,
   "id": "ccfebcab-b8ce-461a-867f-091d3dd1a99f",
   "metadata": {},
   "outputs": [],
   "source": [
    "# "
   ]
  },
  {
   "cell_type": "markdown",
   "id": "59b41897-c3e7-4605-b2f5-855ba605baad",
   "metadata": {},
   "source": [
    "23. Write a Python program to find the LCM (Least Common Multiple) of two numbers using a for loop."
   ]
  },
  {
   "cell_type": "code",
   "execution_count": 26,
   "id": "82baa9d4-8c46-468c-9f3a-6a61feb337eb",
   "metadata": {},
   "outputs": [],
   "source": [
    "# "
   ]
  },
  {
   "cell_type": "markdown",
   "id": "fd9a8508-fef4-436a-8aa1-0eba5f690fc8",
   "metadata": {
    "jupyter": {
     "source_hidden": true
    },
    "tags": []
   },
   "source": []
  },
  {
   "cell_type": "markdown",
   "id": "3c12f7d6-2bcd-448a-ba22-9fd33f47f56a",
   "metadata": {
    "jupyter": {
     "source_hidden": true
    },
    "tags": []
   },
   "source": []
  },
  {
   "cell_type": "markdown",
   "id": "f8625dd1-af97-4d64-906c-eb739d8d3d92",
   "metadata": {},
   "source": [
    "If else :"
   ]
  },
  {
   "cell_type": "markdown",
   "id": "336dfe0c-252c-41c9-a195-e3b3debde638",
   "metadata": {},
   "source": [
    "1. Write a Python program to check if a number is positive, negative, or zero using an if-else statement."
   ]
  },
  {
   "cell_type": "code",
   "execution_count": 16,
   "id": "f7d14bf9-40c4-4bdc-b12f-a1bc8db3b216",
   "metadata": {},
   "outputs": [
    {
     "name": "stdin",
     "output_type": "stream",
     "text": [
      "Enter a number : -6\n"
     ]
    },
    {
     "name": "stdout",
     "output_type": "stream",
     "text": [
      "Number is negative\n"
     ]
    }
   ],
   "source": [
    "n = int(input(\"Enter a number :\"))\n",
    "if n == 0:\n",
    "    print(\"Number is zero\")\n",
    "elif n > 0:\n",
    "    print(\"Number is positive\")\n",
    "else:\n",
    "    print(\"Number is negative\")"
   ]
  },
  {
   "cell_type": "markdown",
   "id": "9be512fb-5ea0-4e2a-ae5d-492ef64d7387",
   "metadata": {},
   "source": [
    "2. Create a Python program that checks if a given number is even or odd using an if-else statement."
   ]
  },
  {
   "cell_type": "code",
   "execution_count": 17,
   "id": "8808bd30-be36-49c5-be56-40a1526dadea",
   "metadata": {},
   "outputs": [
    {
     "name": "stdin",
     "output_type": "stream",
     "text": [
      "Enter a number : 7\n"
     ]
    },
    {
     "name": "stdout",
     "output_type": "stream",
     "text": [
      "Number is odd\n"
     ]
    }
   ],
   "source": [
    "n = int(input(\"Enter a number :\"))\n",
    "if n % 2 == 0:\n",
    "    print(\"Number is even\")\n",
    "else:\n",
    "    print(\"Number is odd\")"
   ]
  },
  {
   "cell_type": "markdown",
   "id": "2a989853-62fe-4b26-8af9-4d9d50567e50",
   "metadata": {},
   "source": [
    "3. How can you use nested if-else statements in Python, and provide an example?"
   ]
  },
  {
   "cell_type": "code",
   "execution_count": 29,
   "id": "d335bcc7-40b2-4c51-b3ef-07650dd2cd08",
   "metadata": {},
   "outputs": [],
   "source": [
    "# "
   ]
  },
  {
   "cell_type": "markdown",
   "id": "9c09b0be-2dc4-4624-b3c5-09d5f4d9607e",
   "metadata": {},
   "source": [
    "4. Write a Python program to determine the largest of three numbers using if-else."
   ]
  },
  {
   "cell_type": "code",
   "execution_count": 20,
   "id": "c3e4d10a-c92d-4725-9daf-51d20cadb090",
   "metadata": {},
   "outputs": [
    {
     "name": "stdin",
     "output_type": "stream",
     "text": [
      "Enter first number : 4\n",
      "Enter second number : 6\n",
      "Enter third number : 2\n"
     ]
    },
    {
     "name": "stdout",
     "output_type": "stream",
     "text": [
      "Largest number : 6\n"
     ]
    }
   ],
   "source": [
    "a,b,c = int(input(\"Enter first number :\")),int(input(\"Enter second number :\")),int(input(\"Enter third number :\"))\n",
    "if a > b and a > c:\n",
    "    largest = a\n",
    "elif b > a and b > c:\n",
    "    largest = b\n",
    "else:\n",
    "    largest = c\n",
    "print(\"Largest number :\",largest)"
   ]
  },
  {
   "cell_type": "markdown",
   "id": "e04dd2ad-7bf1-4830-b7c7-befc802fd8b3",
   "metadata": {},
   "source": [
    "5. Write a Python program that calculates the absolute value of a number using if-else."
   ]
  },
  {
   "cell_type": "code",
   "execution_count": 9,
   "id": "e7f0c853-0c74-4e16-ba37-1a7fed71f174",
   "metadata": {},
   "outputs": [
    {
     "name": "stdin",
     "output_type": "stream",
     "text": [
      "Enter a number : -6\n"
     ]
    },
    {
     "name": "stdout",
     "output_type": "stream",
     "text": [
      "Absolute value of the number : 6\n"
     ]
    }
   ],
   "source": [
    "n = int(input(\"Enter a number :\"))\n",
    "if n<0:\n",
    "    ab = -n\n",
    "else:\n",
    "    ab = n\n",
    "print(\"Absolute value of the number :\",ab)"
   ]
  },
  {
   "cell_type": "markdown",
   "id": "25a73cac-e1f1-4b27-bf78-310a09c28d30",
   "metadata": {},
   "source": [
    "6. Create a Python program that checks if a given character is a vowel or consonant using if-else."
   ]
  },
  {
   "cell_type": "code",
   "execution_count": 10,
   "id": "17b66928-a249-497a-8031-4aed9588b662",
   "metadata": {},
   "outputs": [
    {
     "name": "stdin",
     "output_type": "stream",
     "text": [
      "Enter a character : l\n"
     ]
    },
    {
     "name": "stdout",
     "output_type": "stream",
     "text": [
      "Given character is not a vowel\n"
     ]
    }
   ],
   "source": [
    "ch = input(\"Enter a character :\")\n",
    "l = [\"a\",\"e\",\"i\",\"o\",\"u\",\"A\",\"E\",\"I\",\"O\",\"U\"]\n",
    "if ch in l:\n",
    "    print(\"Given character is a vowel\")\n",
    "else:\n",
    "    print(\"Given character is not a vowel\")"
   ]
  },
  {
   "cell_type": "markdown",
   "id": "4a64f2e3-beef-456f-80bc-18a5a0d50f92",
   "metadata": {},
   "source": [
    "7. Write a Python program to determine if a user is eligible to vote based on their age using if-else."
   ]
  },
  {
   "cell_type": "code",
   "execution_count": 12,
   "id": "8a353853-205b-460b-9d7b-e31de9be0c8c",
   "metadata": {},
   "outputs": [
    {
     "name": "stdin",
     "output_type": "stream",
     "text": [
      "Enter the age of the person : 16\n"
     ]
    },
    {
     "name": "stdout",
     "output_type": "stream",
     "text": [
      "Person is not eligible to vote\n"
     ]
    }
   ],
   "source": [
    "age = int(input(\"Enter the age of the person :\"))\n",
    "if age >= 18:\n",
    "    print(\"Person is eligible to vote\")\n",
    "else:\n",
    "    print(\"Person is not eligible to vote\")"
   ]
  },
  {
   "cell_type": "markdown",
   "id": "07252cee-34bf-482a-a684-66f17b2b805d",
   "metadata": {},
   "source": [
    "8. Create a Python program that calculates the discount amount based on the purchase amount using if-else."
   ]
  },
  {
   "cell_type": "code",
   "execution_count": 11,
   "id": "d251a908-4277-44bf-ad0a-73e83ff598a9",
   "metadata": {},
   "outputs": [
    {
     "name": "stdin",
     "output_type": "stream",
     "text": [
      "Enter purchase amount : 2500\n"
     ]
    },
    {
     "name": "stdout",
     "output_type": "stream",
     "text": [
      "Discount amount(20% of purchase amount) : 500.0\n"
     ]
    }
   ],
   "source": [
    "amt = int(input(\"Enter purchase amount :\"))\n",
    "if amt <= 1000:\n",
    "    print(\"There is no discount\")\n",
    "elif 1000 < amt <= 2000:\n",
    "    print(\"Discount amount(10% of purchase amount) :\",0.1*amt)\n",
    "elif 2000 < amt <= 3000:\n",
    "    print(\"Discount amount(20% of purchase amount) :\",0.2*amt)\n",
    "elif 3000 < amt <= 4000:\n",
    "    print(\"Discount amount(30% of purchase amount) :\",0.3*amt)\n",
    "elif 4000 < amt <= 5000:\n",
    "    print(\"Discount amount(10% of purchase amount) :\",0.4*amt)\n",
    "else:\n",
    "    print(\"Discount amount(Max. 50% of purchase amount) :\",0.5*amt)"
   ]
  },
  {
   "cell_type": "markdown",
   "id": "4d4fb27f-02dc-4295-9516-fee3874ad4b4",
   "metadata": {},
   "source": [
    "9. Write a Python program to check if a number is within a specified range using if-else."
   ]
  },
  {
   "cell_type": "code",
   "execution_count": 10,
   "id": "082ea3f5-b659-49b8-8681-710c54014206",
   "metadata": {},
   "outputs": [
    {
     "name": "stdin",
     "output_type": "stream",
     "text": [
      "Enter lower limit of range : 1\n",
      "Enter upper limit of range : 5\n",
      "Enter a number for checking : 10\n"
     ]
    },
    {
     "name": "stdout",
     "output_type": "stream",
     "text": [
      "Number is not within a specified range\n"
     ]
    }
   ],
   "source": [
    "n1 = int(input(\"Enter lower limit of range :\"))\n",
    "n2 = int(input(\"Enter upper limit of range :\"))\n",
    "n = int(input(\"Enter a number for checking :\"))\n",
    "\n",
    "if n1 < n < n2:\n",
    "    print(\"Number is within a specified range\")\n",
    "else:\n",
    "    print(\"Number is not within a specified range\")"
   ]
  },
  {
   "cell_type": "markdown",
   "id": "ce158c5e-d7d3-49e1-9ef2-8e13d6bda251",
   "metadata": {},
   "source": [
    "10. Create a Python program that determines the grade of a student based on their score using if-else."
   ]
  },
  {
   "cell_type": "code",
   "execution_count": 37,
   "id": "7c3200b1-242e-4495-9513-7dfd01d44512",
   "metadata": {},
   "outputs": [],
   "source": [
    "score = int(input(\"Enter a number :\"))\n",
    "if score >= 90:\n",
    "    print(\"Grade : A\")\n",
    "elif 80 <= score < 90:\n",
    "    print(\"Grade : B\")\n",
    "elif 70 <= score < 80:\n",
    "    print(\"Grade : C\")\n",
    "elif 60 <= score < 70:\n",
    "    print(\"Grade : D\")\n",
    "elif 50 <= score < 60:\n",
    "    print(\"Grade : E\")\n",
    "else:\n",
    "    print(\"Grade : B\")"
   ]
  },
  {
   "cell_type": "markdown",
   "id": "e940ee86-95f0-4661-be97-15db1fe2cce1",
   "metadata": {},
   "source": [
    "11. Write a Python program to check if a string is empty or not using if-else."
   ]
  },
  {
   "cell_type": "code",
   "execution_count": 4,
   "id": "41001c9e-4160-4fa3-8ba6-d1802b1aebe6",
   "metadata": {},
   "outputs": [
    {
     "name": "stdin",
     "output_type": "stream",
     "text": [
      "Enter a string : My name is Ram.\n"
     ]
    },
    {
     "name": "stdout",
     "output_type": "stream",
     "text": [
      "String is not empty\n"
     ]
    }
   ],
   "source": [
    "s = input(\"Enter a string :\")\n",
    "if s == \"\":\n",
    "    print(\"String =is empty\")\n",
    "else:\n",
    "    print(\"String is not empty\")"
   ]
  },
  {
   "cell_type": "markdown",
   "id": "3fec2bd4-d286-4191-8449-02d6e07e443e",
   "metadata": {},
   "source": [
    "12. Create a Python program that identifies the type of a triangle (e.g., equilateral, isosceles, or scalene) based on input values using if-else."
   ]
  },
  {
   "cell_type": "code",
   "execution_count": 39,
   "id": "4b0122a7-8559-4009-a07a-c503714aea5f",
   "metadata": {},
   "outputs": [],
   "source": [
    "# "
   ]
  },
  {
   "cell_type": "markdown",
   "id": "36cfca86-9d15-44e8-8fb6-6f41960ac8f5",
   "metadata": {},
   "source": [
    "13. Write a Python program to determine the day of the week based on a user-provided number using if-else."
   ]
  },
  {
   "cell_type": "code",
   "execution_count": 8,
   "id": "48f42546-61ec-42dd-a205-7449253dd770",
   "metadata": {},
   "outputs": [
    {
     "name": "stdin",
     "output_type": "stream",
     "text": [
      "Enter a number :' 6\n"
     ]
    },
    {
     "name": "stdout",
     "output_type": "stream",
     "text": [
      "Today is Saturday\n"
     ]
    }
   ],
   "source": [
    "n = int(input(\"Enter a number :'\"))\n",
    "if n == 1:\n",
    "    print(\"Today is Monday\")\n",
    "elif n==2:\n",
    "    print(\"Today is Tuesday\")\n",
    "elif n==3:\n",
    "    print(\"Today is Wednesday\")\n",
    "elif n==4:\n",
    "    print(\"Today is Thursday\")\n",
    "elif n==5:\n",
    "    print(\"Today is Friday\")\n",
    "elif n==6:\n",
    "    print(\"Today is Saturday\")\n",
    "elif n==7:\n",
    "    print(\"Today is Sunday\")\n",
    "else:\n",
    "    print(\"Invalid Input\")"
   ]
  },
  {
   "cell_type": "markdown",
   "id": "3ea4484f-473e-4580-a536-925c9ad38de3",
   "metadata": {},
   "source": [
    "14. Create a Python program that checks if a given year is a leap year using both if-else and a function."
   ]
  },
  {
   "cell_type": "code",
   "execution_count": 11,
   "id": "1f445c8d-7f29-45ab-8951-3fed72ae6215",
   "metadata": {},
   "outputs": [
    {
     "name": "stdin",
     "output_type": "stream",
     "text": [
      "Enter a year : 2024\n"
     ]
    },
    {
     "name": "stdout",
     "output_type": "stream",
     "text": [
      "It is a leap year\n"
     ]
    }
   ],
   "source": [
    "yr = int(input(\"Enter a year :\"))\n",
    "if (yr % 400 == 0 or yr % 100 != 0) and yr % 4 == 0:\n",
    "    print(\"It is a leap year\")\n",
    "else:\n",
    "    print(\"It is not a leap year\")"
   ]
  },
  {
   "cell_type": "markdown",
   "id": "119bdc25-9da0-4a06-a935-7958fc1868d2",
   "metadata": {},
   "source": [
    "15. How do you use the \"assert\" statement in Python to add debugging checks within if-else blocks?"
   ]
  },
  {
   "cell_type": "code",
   "execution_count": 42,
   "id": "88c3a0b6-b2ae-474b-aea8-9f22b65f21ee",
   "metadata": {},
   "outputs": [],
   "source": [
    "# "
   ]
  },
  {
   "cell_type": "markdown",
   "id": "58dfc64c-34be-4a74-8435-8422fc8220f9",
   "metadata": {},
   "source": [
    "16. Create a Python program that determines the eligibility of a person for a senior citizen discount based on age using if-else."
   ]
  },
  {
   "cell_type": "code",
   "execution_count": 3,
   "id": "e12775f3-1609-4959-9c8c-47c2a2dff104",
   "metadata": {},
   "outputs": [
    {
     "name": "stdin",
     "output_type": "stream",
     "text": [
      "Enter the age of the person : 62\n"
     ]
    },
    {
     "name": "stdout",
     "output_type": "stream",
     "text": [
      "Eligible for a senior citizen discount\n"
     ]
    }
   ],
   "source": [
    "age = int(input(\"Enter the age of the person :\"))\n",
    "if age >= 60:\n",
    "    print(\"Eligible for a senior citizen discount\")\n",
    "else:\n",
    "    print(\"Not eligible for a senior citizen discount\")"
   ]
  },
  {
   "cell_type": "markdown",
   "id": "b8b8f116-9404-4bbb-9236-6189b4bf5ba1",
   "metadata": {},
   "source": [
    "17. Write a Python program to categorize a given character as uppercase, lowercase, or neither using if-else."
   ]
  },
  {
   "cell_type": "code",
   "execution_count": 7,
   "id": "2baba826-05d5-4c80-87fd-41fd4df1722d",
   "metadata": {},
   "outputs": [
    {
     "name": "stdin",
     "output_type": "stream",
     "text": [
      "Enter a charcter : j\n"
     ]
    },
    {
     "name": "stdout",
     "output_type": "stream",
     "text": [
      "Character is in lowercase\n"
     ]
    }
   ],
   "source": [
    "ch = input(\"Enter a charcter :\")\n",
    "if ch.isupper():\n",
    "    print(\"Character is in uppercase\")\n",
    "elif ch.islower():\n",
    "    print(\"Character is in lowercase\")\n",
    "else:\n",
    "    print(\"Character is neither in uppercase nor in lowercase\")"
   ]
  },
  {
   "cell_type": "markdown",
   "id": "a127adb1-36dc-49c1-9458-27055eaa9bda",
   "metadata": {},
   "source": [
    "18. Write a Python program to determine the roots of a quadratic equation using if-else."
   ]
  },
  {
   "cell_type": "code",
   "execution_count": 45,
   "id": "1adf21e1-4576-4036-9bac-49cf8087827c",
   "metadata": {},
   "outputs": [],
   "source": [
    "# "
   ]
  },
  {
   "cell_type": "markdown",
   "id": "e67a2d78-a1aa-47b9-8b9c-a3606463072e",
   "metadata": {},
   "source": [
    "19. Create a Python program that checks if a given year is a century year or not using if-else."
   ]
  },
  {
   "cell_type": "code",
   "execution_count": 2,
   "id": "7c524500-0499-4523-825c-98847a11423a",
   "metadata": {},
   "outputs": [
    {
     "name": "stdin",
     "output_type": "stream",
     "text": [
      "Enter the year : 1852\n"
     ]
    },
    {
     "name": "stdout",
     "output_type": "stream",
     "text": [
      "Not a century Year\n"
     ]
    }
   ],
   "source": [
    "yr = int(input(\"Enter the year :\"))\n",
    "if yr % 100 == 0:\n",
    "    print(\"century Year\")\n",
    "else:\n",
    "    print(\"Not a century Year\")"
   ]
  },
  {
   "cell_type": "markdown",
   "id": "abc98edf-ec98-4e26-8c4f-cc14a41089b5",
   "metadata": {},
   "source": [
    "20. Write a Python program to determine if a given number is a perfect square using if-else."
   ]
  },
  {
   "cell_type": "code",
   "execution_count": 48,
   "id": "790adc77-102c-45f0-8311-aebe6aff047f",
   "metadata": {},
   "outputs": [],
   "source": [
    "#"
   ]
  },
  {
   "cell_type": "markdown",
   "id": "3a29476b-6af8-4698-b956-467a2cb7ed16",
   "metadata": {},
   "source": [
    "21. Explain the purpose of the \"continue\" and \"break\" statements within if-else loops."
   ]
  },
  {
   "cell_type": "raw",
   "id": "ffb71db5-c969-4185-9642-0b228f966fa2",
   "metadata": {},
   "source": [
    "continue --- this statement is used to skip a particular iteration if the required condition is satisfied\n",
    "break --- this statement is used to stop further iteration on satisfying the condition."
   ]
  },
  {
   "cell_type": "markdown",
   "id": "2b336d93-f3e6-430d-9983-abe5c7d21547",
   "metadata": {},
   "source": [
    "22. Create a Python program that calculates the BMI (Body Mass Index) of a person based on their weight and height using if-else."
   ]
  },
  {
   "cell_type": "code",
   "execution_count": 50,
   "id": "4f21789c-9940-471e-9199-3d74e0c2f7ea",
   "metadata": {},
   "outputs": [],
   "source": [
    "# "
   ]
  },
  {
   "cell_type": "markdown",
   "id": "99e8a1ac-c60a-49f7-817e-97fdbb152fda",
   "metadata": {},
   "source": [
    "23. How can you use the \"filter()\" function with if-else statements to filter elements from a list?"
   ]
  },
  {
   "cell_type": "code",
   "execution_count": 51,
   "id": "b1f5b591-bbef-4106-8f7b-9c4f0a7836ae",
   "metadata": {},
   "outputs": [],
   "source": [
    "#"
   ]
  },
  {
   "cell_type": "markdown",
   "id": "8937baab-0815-45b3-8255-f5a38d909830",
   "metadata": {},
   "source": [
    "24. Write a Python program to determine if a given number is prime or not using if-else."
   ]
  },
  {
   "cell_type": "code",
   "execution_count": 1,
   "id": "383c8269-cd58-45ee-99f5-a9f6dd9ea570",
   "metadata": {},
   "outputs": [
    {
     "name": "stdin",
     "output_type": "stream",
     "text": [
      "Enter a number : 5\n"
     ]
    },
    {
     "name": "stdout",
     "output_type": "stream",
     "text": [
      "Given number is prime\n"
     ]
    }
   ],
   "source": [
    "n = int(input(\"Enter a number :\"))\n",
    "c = 0\n",
    "for i in range(1,n+1):\n",
    "    if n % i == 0:\n",
    "        c += 1\n",
    "if c == 2:\n",
    "    print(\"Given number is prime\")\n",
    "else:\n",
    "    print(\"Given number is prime\")"
   ]
  },
  {
   "cell_type": "markdown",
   "id": "9b048f12-b887-4405-a2f4-03a9e5b46f74",
   "metadata": {
    "jupyter": {
     "source_hidden": true
    },
    "tags": []
   },
   "source": []
  },
  {
   "cell_type": "markdown",
   "id": "420bf2f2-4ff7-4221-a60c-4688d39227a3",
   "metadata": {
    "jupyter": {
     "source_hidden": true
    },
    "tags": []
   },
   "source": []
  },
  {
   "cell_type": "markdown",
   "id": "01870b27-01c9-41a1-b9df-db346602cc46",
   "metadata": {},
   "source": [
    "Map :-"
   ]
  },
  {
   "cell_type": "markdown",
   "id": "3bbe1c6d-6fca-49b8-a228-9794e69f171a",
   "metadata": {},
   "source": [
    "1. Explain the purpose of the `map()` function in Python and provide an example of how it can be used to apply a function to each element of an iterable."
   ]
  },
  {
   "cell_type": "code",
   "execution_count": 53,
   "id": "48736d44-a248-4b5e-a3b9-ecd7c12786c6",
   "metadata": {},
   "outputs": [],
   "source": [
    "# "
   ]
  },
  {
   "cell_type": "markdown",
   "id": "4396fda6-d0e4-4de3-83d3-8746df0983cb",
   "metadata": {},
   "source": [
    "2. Write a Python program that uses the `map()` function to square each element of a list of numbers."
   ]
  },
  {
   "cell_type": "code",
   "execution_count": 27,
   "id": "7d0e8bdc-9af0-4fa6-b710-1b6f5ecc5f53",
   "metadata": {},
   "outputs": [
    {
     "name": "stdout",
     "output_type": "stream",
     "text": [
      "Desired list : [1, 4, 9, 16, 25]\n"
     ]
    }
   ],
   "source": [
    "# declaring a list of numbers\n",
    "l = [1,2,3,4,5]\n",
    "m = map(lambda a : a*a,l)\n",
    "print(\"Desired list :\",list(m))"
   ]
  },
  {
   "cell_type": "markdown",
   "id": "a4e000af-d2a2-467e-b64c-1e00dd2b93d8",
   "metadata": {},
   "source": [
    "3. How does the `map()` function differ from a list comprehension in Python, and when would you choose one over the other?"
   ]
  },
  {
   "cell_type": "code",
   "execution_count": 55,
   "id": "7c98bad4-80a7-4ee4-b1d2-80da057c62b9",
   "metadata": {},
   "outputs": [],
   "source": [
    "# "
   ]
  },
  {
   "cell_type": "markdown",
   "id": "9fbdd65f-308c-43c9-9c58-6f68091c2663",
   "metadata": {},
   "source": [
    "4. Create a Python program that uses the `map()` function to convert a list of names to uppercase."
   ]
  },
  {
   "cell_type": "code",
   "execution_count": 32,
   "id": "48f5778c-becc-431f-88a4-e5fc15ffef85",
   "metadata": {},
   "outputs": [
    {
     "name": "stdout",
     "output_type": "stream",
     "text": [
      "Converted list : ['SUDH', 'KRISH', 'AMAN', 'SUMAN']\n"
     ]
    }
   ],
   "source": [
    "# declaring a list of strings\n",
    "s = [\"sudh\",\"krish\",\"aman\",\"suman\"]\n",
    "print(\"Converted list :\",list(map(lambda c : c.upper(),s)))"
   ]
  },
  {
   "cell_type": "markdown",
   "id": "0e492005-0cb1-4621-b4ed-5f0f455987c6",
   "metadata": {},
   "source": [
    "5. Write a Python program that uses the `map()` function to calculate the length of each word in a list of strings."
   ]
  },
  {
   "cell_type": "code",
   "execution_count": 31,
   "id": "02938ff5-59dd-486f-bd46-265defad332c",
   "metadata": {},
   "outputs": [
    {
     "name": "stdout",
     "output_type": "stream",
     "text": [
      "Desired list : [4, 5, 4, 5]\n"
     ]
    }
   ],
   "source": [
    "# declaring a list of strings\n",
    "s = [\"sudh\",\"krish\",\"aman\",\"suman\"]\n",
    "print(\"Desired list :\",list(map(lambda a : len(a),s)))"
   ]
  },
  {
   "cell_type": "markdown",
   "id": "9e21df3e-67f4-4c60-9614-e052b4d899f1",
   "metadata": {},
   "source": [
    "6. How can you use the `map()` function to apply a custom function to elements of multiple lists simultaneously in Python?"
   ]
  },
  {
   "cell_type": "code",
   "execution_count": 58,
   "id": "83b1236c-c48b-4129-b59d-57f68d77fad3",
   "metadata": {},
   "outputs": [],
   "source": [
    "#"
   ]
  },
  {
   "cell_type": "markdown",
   "id": "2baee7da-62c5-42b8-b78b-2528907066e6",
   "metadata": {},
   "source": [
    "7. Create a Python program that uses `map()` to convert a list of temperatures from Celsius to Fahrenheit."
   ]
  },
  {
   "cell_type": "code",
   "execution_count": 8,
   "id": "5df79f15-a8c5-4710-9a23-61cda15a6eb1",
   "metadata": {},
   "outputs": [
    {
     "name": "stdin",
     "output_type": "stream",
     "text": [
      "Enter of list of temperates in celcius sepereted by spaces 32 33 35 36\n"
     ]
    },
    {
     "data": {
      "text/plain": [
       "[89.6, 91.4, 95.0, 96.8]"
      ]
     },
     "execution_count": 8,
     "metadata": {},
     "output_type": "execute_result"
    }
   ],
   "source": [
    "# declaring list of temperatues in celcius\n",
    "l = input(\"Enter of list of temperates in celcius sepereted by spaces\").split()\n",
    "list(map(lambda c : (9*int(c)/5)+32,l))\n",
    "\n",
    "# function for converting tempeartures from celcius to fahrenheit\n"
   ]
  },
  {
   "cell_type": "markdown",
   "id": "f2dbbbec-5875-45d6-9ecb-f62758e31ab4",
   "metadata": {},
   "source": [
    "8. Write a Python program that uses the `map()` function to round each element of a list of floating-point numbers to the nearest integer.\n"
   ]
  },
  {
   "cell_type": "code",
   "execution_count": 23,
   "id": "d0ace7c3-5617-4135-9e24-99585c046f6c",
   "metadata": {},
   "outputs": [
    {
     "data": {
      "text/plain": [
       "[12, 15, 13, 12, 10, 3, 89]"
      ]
     },
     "execution_count": 23,
     "metadata": {},
     "output_type": "execute_result"
    }
   ],
   "source": [
    "# declaring a list of floating-point numbers\n",
    "l = [11.6,14.58,13.4,12.1,9.5,3.2,88.9]\n",
    "\n",
    "list(map(lambda n: round(n),l))"
   ]
  },
  {
   "cell_type": "markdown",
   "id": "87c9467b-a594-48cd-ab4c-f09687b9f093",
   "metadata": {
    "jupyter": {
     "source_hidden": true
    },
    "tags": []
   },
   "source": []
  },
  {
   "cell_type": "markdown",
   "id": "0967ecc9-4a88-42db-bb9b-c914c7fd1f8f",
   "metadata": {
    "jupyter": {
     "source_hidden": true
    },
    "tags": []
   },
   "source": []
  },
  {
   "cell_type": "markdown",
   "id": "90e05de9-903a-4ebc-be65-71fb2577f541",
   "metadata": {},
   "source": [
    "Reduce :-"
   ]
  },
  {
   "cell_type": "markdown",
   "id": "9cab904e-6485-4a06-9a10-ce09b454d1db",
   "metadata": {},
   "source": [
    "1. What is the `reduce()` function in Python, and what module should you import to use it? Provide an example of its basic usage.\n"
   ]
  },
  {
   "cell_type": "code",
   "execution_count": 62,
   "id": "abd28756-150a-4ff9-8769-1a4190830e9b",
   "metadata": {},
   "outputs": [],
   "source": [
    "# "
   ]
  },
  {
   "cell_type": "markdown",
   "id": "079ddd0f-2371-4c1d-bd4a-4edb2e284859",
   "metadata": {},
   "source": [
    "2. Write a Python program that uses the `reduce()` function to find the product of all elements in a list.\n"
   ]
  },
  {
   "cell_type": "code",
   "execution_count": 35,
   "id": "e9106a51-c4eb-4c25-82b8-e4cb41356a57",
   "metadata": {},
   "outputs": [
    {
     "name": "stdout",
     "output_type": "stream",
     "text": [
      "Prodcut of all elements in a list : 120\n"
     ]
    }
   ],
   "source": [
    "# declaring a list of numbers\n",
    "l = [1,2,3,4,5]\n",
    "from functools import reduce\n",
    "m = reduce(lambda a,b : a*b,l)\n",
    "print(\"Prodcut of all elements in a list :\",m)"
   ]
  },
  {
   "cell_type": "markdown",
   "id": "92fa9139-57bd-4baa-b1b4-fdbb39466558",
   "metadata": {},
   "source": [
    "3. Create a Python program that uses `reduce()` to find the maximum element in a list of numbers."
   ]
  },
  {
   "cell_type": "code",
   "execution_count": 37,
   "id": "e11dc238-6d11-49a0-bca8-9a2118b0ede9",
   "metadata": {},
   "outputs": [
    {
     "name": "stdout",
     "output_type": "stream",
     "text": [
      "Maximum element in a list : 5\n"
     ]
    }
   ],
   "source": [
    "# declaring a list of numbers\n",
    "l = [1,2,3,4,5]\n",
    "from functools import reduce\n",
    "m = reduce(lambda a,b : max(a,b),l)\n",
    "print(\"Maximum element in a list :\",m)"
   ]
  },
  {
   "cell_type": "markdown",
   "id": "de072d06-bd91-4954-bbd8-f0be66ab49d3",
   "metadata": {},
   "source": [
    "4. How can you use the `reduce()` function to concatenate a list of strings into a single string?"
   ]
  },
  {
   "cell_type": "code",
   "execution_count": 40,
   "id": "81f06be5-3e40-4097-8eb3-0fc20d357307",
   "metadata": {},
   "outputs": [
    {
     "name": "stdout",
     "output_type": "stream",
     "text": [
      "New string : I am a data scientist\n"
     ]
    }
   ],
   "source": [
    "# declaring a list of string\n",
    "l = [\"I\",\"am\",\"a\",\"data\",\"scientist\"]\n",
    "from functools import reduce\n",
    "m = reduce(lambda a,b : a + \" \" + b ,l)\n",
    "print(\"New string :\",m)"
   ]
  },
  {
   "cell_type": "markdown",
   "id": "e07ae725-c333-4b84-953e-3b5105fecab0",
   "metadata": {},
   "source": [
    "5. Write a Python program that calculates the factorial of a number using the `reduce()` function."
   ]
  },
  {
   "cell_type": "code",
   "execution_count": 41,
   "id": "9a908575-f082-4d3f-a0ae-8634ddb3cc64",
   "metadata": {},
   "outputs": [
    {
     "name": "stdin",
     "output_type": "stream",
     "text": [
      "Enter a number : 5\n"
     ]
    },
    {
     "name": "stdout",
     "output_type": "stream",
     "text": [
      "Factorial of 5 is : 120\n"
     ]
    }
   ],
   "source": [
    "n = int(input(\"Enter a number :\"))\n",
    "from functools import reduce\n",
    "m = reduce(lambda a,b : a * b ,range(1,n+1))\n",
    "print(\"Factorial of\",n,\"is :\",m)"
   ]
  },
  {
   "cell_type": "markdown",
   "id": "9b471d34-e171-40bc-a6f9-3ff0cf31a64a",
   "metadata": {},
   "source": [
    "6. Create a Python program that uses `reduce()` to find the GCD (Greatest Common Divisor) of a list of numbers."
   ]
  },
  {
   "cell_type": "code",
   "execution_count": 26,
   "id": "4bbe53ec-9eea-4e65-8742-545d437ed9e9",
   "metadata": {},
   "outputs": [],
   "source": [
    "# "
   ]
  },
  {
   "cell_type": "markdown",
   "id": "f35d9356-c4aa-490a-ace6-f3eb24c10fdd",
   "metadata": {},
   "source": [
    "7. Write a Python program that uses the `reduce()` function to find the sum of the digits of a given number."
   ]
  },
  {
   "cell_type": "code",
   "execution_count": 5,
   "id": "1bb304cd-4a54-4eb7-abfa-c3670380a185",
   "metadata": {},
   "outputs": [
    {
     "name": "stdin",
     "output_type": "stream",
     "text": [
      "Input any number : 123\n"
     ]
    },
    {
     "data": {
      "text/plain": [
       "6"
      ]
     },
     "execution_count": 5,
     "metadata": {},
     "output_type": "execute_result"
    }
   ],
   "source": [
    "# function to find sum of digits\n",
    "n = int(input(\"Input any number :\"))\n",
    "s = str(n)\n",
    "from functools import reduce\n",
    "reduce(lambda a,b : int(a)+int(b),str(n))\n"
   ]
  },
  {
   "cell_type": "markdown",
   "id": "3d5eeb43-f9b3-4d25-9ab0-901a03e47e71",
   "metadata": {
    "jupyter": {
     "source_hidden": true
    },
    "tags": []
   },
   "source": []
  },
  {
   "cell_type": "markdown",
   "id": "2e9dbdf0-b556-4c32-a9a0-1ec95eafcd2f",
   "metadata": {
    "jupyter": {
     "source_hidden": true
    },
    "tags": []
   },
   "source": []
  },
  {
   "cell_type": "markdown",
   "id": "237a91c6-2133-4290-b5dc-2a58cdb6b482",
   "metadata": {},
   "source": [
    "Filter :-"
   ]
  },
  {
   "cell_type": "markdown",
   "id": "1e009c43-b450-4ae1-8493-75825d872d09",
   "metadata": {},
   "source": [
    "1. Explain the purpose of the `filter()` function in Python and provide an example of how it can be used to filter elements from an iterable.\n"
   ]
  },
  {
   "cell_type": "code",
   "execution_count": 70,
   "id": "783e209b-1065-42ca-9190-01b7ee015367",
   "metadata": {},
   "outputs": [],
   "source": [
    "# "
   ]
  },
  {
   "cell_type": "markdown",
   "id": "f49ffbdc-03b5-4457-98b1-4a96d295f0e9",
   "metadata": {},
   "source": [
    "2. Write a Python program that uses the `filter()` function to select even numbers from a list of integers."
   ]
  },
  {
   "cell_type": "code",
   "execution_count": 27,
   "id": "808e5cd4-f6ce-4b1e-bec5-e69180f24d04",
   "metadata": {},
   "outputs": [
    {
     "data": {
      "text/plain": [
       "[2, 4, 6, 8]"
      ]
     },
     "execution_count": 27,
     "metadata": {},
     "output_type": "execute_result"
    }
   ],
   "source": [
    "l = [1,2,3,4,5,6,7,8,9]\n",
    "list(filter(lambda a : a % 2 == 0,l))"
   ]
  },
  {
   "cell_type": "markdown",
   "id": "3d14a977-1b05-478a-86e7-4cff06ff780b",
   "metadata": {},
   "source": [
    "3. Create a Python program that uses the `filter()` function to select names that start with a specific letter from a list of strings."
   ]
  },
  {
   "cell_type": "code",
   "execution_count": 28,
   "id": "63c73cf0-4d88-4ff7-b276-c95b2b9a3dde",
   "metadata": {},
   "outputs": [
    {
     "data": {
      "text/plain": [
       "['suman', 'sudh']"
      ]
     },
     "execution_count": 28,
     "metadata": {},
     "output_type": "execute_result"
    }
   ],
   "source": [
    "l = [\"suman\",\"sudh\",\"aman\",\"krish\"]\n",
    "list(filter(lambda s : s[0] == 's',l))"
   ]
  },
  {
   "cell_type": "markdown",
   "id": "4fc3f8ff-1e6f-4d65-8ae8-4c68cd61c0c2",
   "metadata": {},
   "source": [
    "4. Write a Python program that uses the `filter()` function to select prime numbers from a list of integers."
   ]
  },
  {
   "cell_type": "code",
   "execution_count": 2,
   "id": "08450f26-2647-4971-99f9-30bf24de4843",
   "metadata": {},
   "outputs": [
    {
     "data": {
      "text/plain": [
       "[2, 3, 5, 7, 11, 13, 17, 19, 23, 29, 31, 37, 41, 43, 47]"
      ]
     },
     "execution_count": 2,
     "metadata": {},
     "output_type": "execute_result"
    }
   ],
   "source": [
    "def prime(n):\n",
    "    c = 0\n",
    "    for i in range(1,n+1):\n",
    "        if n % i == 0:\n",
    "            c += 1\n",
    "    if c == 2:\n",
    "        return n\n",
    "    \n",
    "list(filter(prime,range(1,50)))"
   ]
  },
  {
   "cell_type": "markdown",
   "id": "2ee6f3b7-bb83-423a-8f5a-a2767a9f7a45",
   "metadata": {},
   "source": [
    "5. How can you use the `filter()` function to remove None values from a list in Python?"
   ]
  },
  {
   "cell_type": "code",
   "execution_count": 74,
   "id": "d1ca3059-bdcf-42d0-99fd-0d851dd04948",
   "metadata": {},
   "outputs": [],
   "source": [
    "# "
   ]
  },
  {
   "cell_type": "markdown",
   "id": "ae392ec6-4f34-4062-9e9d-5bea972846f5",
   "metadata": {},
   "source": [
    "6. Create a Python program that uses `filter()` to select words longer than a certain length from a list of strings."
   ]
  },
  {
   "cell_type": "code",
   "execution_count": 1,
   "id": "f2290121-fae4-4ad1-9509-8eaef18349ff",
   "metadata": {},
   "outputs": [
    {
     "data": {
      "text/plain": [
       "['suman', 'farhan', 'abhishek']"
      ]
     },
     "execution_count": 1,
     "metadata": {},
     "output_type": "execute_result"
    }
   ],
   "source": [
    "# declaring a list of strings\n",
    "s = [\"suman\",\"aman\",\"farhan\",\"abhishek\"]\n",
    "list(filter(lambda s : len(s) > 4 , s))"
   ]
  },
  {
   "cell_type": "markdown",
   "id": "a73e461d-f62b-4d56-a255-99b485f4071d",
   "metadata": {},
   "source": [
    "7. Write a Python program that uses the `filter()` function to select elements greater than a specified threshold from a list of values."
   ]
  },
  {
   "cell_type": "code",
   "execution_count": 2,
   "id": "bf0fb272-b726-4d9f-8ada-fce6bde9dd99",
   "metadata": {},
   "outputs": [
    {
     "data": {
      "text/plain": [
       "[6, 7, 8, 9, 10]"
      ]
     },
     "execution_count": 2,
     "metadata": {},
     "output_type": "execute_result"
    }
   ],
   "source": [
    "# declaring a list of values\n",
    "l = [1,2,3,4,5,6,7,8,9,10]\n",
    "list(filter(lambda s : s > 5,l))"
   ]
  },
  {
   "cell_type": "markdown",
   "id": "8b92cfac-3219-453e-aad3-a7be534dc672",
   "metadata": {
    "jupyter": {
     "source_hidden": true
    },
    "tags": []
   },
   "source": []
  },
  {
   "cell_type": "markdown",
   "id": "74b164bd-6763-4108-913f-faa93d8d304b",
   "metadata": {
    "jupyter": {
     "source_hidden": true
    },
    "tags": []
   },
   "source": []
  },
  {
   "cell_type": "markdown",
   "id": "1e70ff35-b4df-4d9d-aa4d-54dbcd442ba5",
   "metadata": {},
   "source": [
    "Recursion:-"
   ]
  },
  {
   "cell_type": "markdown",
   "id": "e43a0eb1-d56e-46c9-8b07-bd13b4eacb16",
   "metadata": {},
   "source": [
    "1. Explain the concept of recursion in Python. How does it differ from iteration?"
   ]
  },
  {
   "cell_type": "code",
   "execution_count": 77,
   "id": "96292e03-ceef-447d-9d0f-b84ab200adbf",
   "metadata": {},
   "outputs": [],
   "source": [
    "# "
   ]
  },
  {
   "cell_type": "markdown",
   "id": "a19fadfc-bf42-4fa3-a111-cdbc606b28d3",
   "metadata": {},
   "source": [
    "2. Write a Python program to calculate the factorial of a number using recursion."
   ]
  },
  {
   "cell_type": "code",
   "execution_count": 17,
   "id": "544aaeaa-619c-40b5-b49f-dfde85072605",
   "metadata": {},
   "outputs": [
    {
     "name": "stdin",
     "output_type": "stream",
     "text": [
      "Enter a number : 6\n"
     ]
    },
    {
     "name": "stdout",
     "output_type": "stream",
     "text": [
      "Factorial of 6 is : 720\n"
     ]
    }
   ],
   "source": [
    "def fact(n):\n",
    "    if n == 0:\n",
    "        return 1\n",
    "    else:\n",
    "        return n*fact(n-1)\n",
    "n = int(input(\"Enter a number :\"))\n",
    "print(\"Factorial of\",n,\"is :\",fact(n))"
   ]
  },
  {
   "cell_type": "markdown",
   "id": "100c1f32-bdb0-413f-8e82-99b1a10b007b",
   "metadata": {},
   "source": [
    "3. Create a recursive Python function to find the nth Fibonacci number."
   ]
  },
  {
   "cell_type": "code",
   "execution_count": 18,
   "id": "d07fcf24-c5b2-4691-b75e-7977d30914cc",
   "metadata": {},
   "outputs": [
    {
     "data": {
      "text/plain": [
       "2"
      ]
     },
     "execution_count": 18,
     "metadata": {},
     "output_type": "execute_result"
    }
   ],
   "source": [
    "def fib(n):\n",
    "    if n == 1:\n",
    "        return 0\n",
    "    elif n == 2:\n",
    "        return 1\n",
    "    else:\n",
    "        return fib(n-2)+fib(n-1)\n",
    "    \n",
    "# displaying the 4th term of fibonacci sequence\n",
    "fib(4)"
   ]
  },
  {
   "cell_type": "markdown",
   "id": "ef9e86ce-f5f5-492a-8fed-72a12240611b",
   "metadata": {},
   "source": [
    "4. Write a recursive Python function to calculate the sum of all elements in a list."
   ]
  },
  {
   "cell_type": "code",
   "execution_count": 20,
   "id": "8dc717d3-0254-4617-a40b-86fd99b06400",
   "metadata": {},
   "outputs": [
    {
     "data": {
      "text/plain": [
       "6"
      ]
     },
     "execution_count": 20,
     "metadata": {},
     "output_type": "execute_result"
    }
   ],
   "source": [
    "def sum_of_list(l):\n",
    "    if len(l) == 1:\n",
    "        return l[0]\n",
    "    else:\n",
    "        return l[0]+sum_of_list(l[1:])\n",
    "\n",
    "l = [1,2,3]\n",
    "sum_of_list(l)"
   ]
  },
  {
   "cell_type": "markdown",
   "id": "c350857b-7a9c-452e-a97a-d802ad97267a",
   "metadata": {},
   "source": [
    "5. How can you prevent a recursive function from running indefinitely, causing a stack overflow error?"
   ]
  },
  {
   "cell_type": "code",
   "execution_count": 82,
   "id": "3f7239cb-c770-47d3-9eb3-a98ec6e112a4",
   "metadata": {},
   "outputs": [],
   "source": [
    "# "
   ]
  },
  {
   "cell_type": "markdown",
   "id": "555cdc71-2ef2-4f69-aa4a-49671d6c0224",
   "metadata": {},
   "source": [
    "6. Create a recursive Python function to find the greatest common divisor (GCD) of two numbers using the Euclidean algorithm."
   ]
  },
  {
   "cell_type": "code",
   "execution_count": 83,
   "id": "f81b4fcb-6d65-4aef-a60e-112bf4600ea1",
   "metadata": {},
   "outputs": [],
   "source": [
    "# "
   ]
  },
  {
   "cell_type": "markdown",
   "id": "3a3ea661-65b3-44cd-b003-c74f0ed05582",
   "metadata": {},
   "source": [
    "7. Write a recursive Python function to reverse a string."
   ]
  },
  {
   "cell_type": "code",
   "execution_count": 21,
   "id": "23e9f29e-36ac-4685-a5cc-99933f0fcf8a",
   "metadata": {},
   "outputs": [
    {
     "data": {
      "text/plain": [
       "'mar'"
      ]
     },
     "execution_count": 21,
     "metadata": {},
     "output_type": "execute_result"
    }
   ],
   "source": [
    "def rev(s):\n",
    "    if len(s) == 1:\n",
    "        return s[0]\n",
    "    else:\n",
    "        return rev(s[1:])+s[0]\n",
    "rev(\"ram\")"
   ]
  },
  {
   "cell_type": "markdown",
   "id": "0e293df4-6c7f-4acd-827d-5cb9bc1f07a4",
   "metadata": {},
   "source": [
    "8. Create a recursive Python function to calculate the power of a number (x^n)."
   ]
  },
  {
   "cell_type": "code",
   "execution_count": 14,
   "id": "c1dc5b6d-cb6b-4235-959b-679b635e847f",
   "metadata": {},
   "outputs": [
    {
     "data": {
      "text/plain": [
       "6"
      ]
     },
     "execution_count": 14,
     "metadata": {},
     "output_type": "execute_result"
    }
   ],
   "source": [
    "def power(x,n):\n",
    "    if n == 0:\n",
    "        return 1\n",
    "    else:\n",
    "        return n*power(x,n-1)\n",
    "\n",
    "# finding 2 to the power 3 by calling the function\n",
    "power(2,3)"
   ]
  },
  {
   "cell_type": "markdown",
   "id": "0fd72559-5108-4ec5-ab16-5444a2f65476",
   "metadata": {},
   "source": [
    "9. Write a recursive Python function to find all permutations of a given string."
   ]
  },
  {
   "cell_type": "code",
   "execution_count": 87,
   "id": "1b411cbc-e4c0-4d89-b670-8a37c2fc4e9d",
   "metadata": {},
   "outputs": [],
   "source": [
    "# "
   ]
  },
  {
   "cell_type": "markdown",
   "id": "e4babe18-c868-4e83-a893-0b2521760fcf",
   "metadata": {},
   "source": [
    "10. Write a recursive Python function to check if a string is a palindrome."
   ]
  },
  {
   "cell_type": "code",
   "execution_count": 23,
   "id": "5c4d9cad-afed-48e3-8b0c-20f294bd1ea7",
   "metadata": {},
   "outputs": [
    {
     "name": "stdin",
     "output_type": "stream",
     "text": [
      "Enter a string : madam\n"
     ]
    },
    {
     "name": "stdout",
     "output_type": "stream",
     "text": [
      "Palindromic String\n"
     ]
    }
   ],
   "source": [
    "def rev(s):\n",
    "    if len(s) == 1:\n",
    "        return s[0]\n",
    "    else:\n",
    "        return rev(s[1:])+s[0]\n",
    "s = input(\"Enter a string :\")\n",
    "if s == rev(s):\n",
    "    print(\"Palindromic String\")\n",
    "else:\n",
    "    print(\"Non-Palindromic String\")"
   ]
  },
  {
   "cell_type": "markdown",
   "id": "9c028f86-0185-440d-bd55-b9f99e90aa75",
   "metadata": {},
   "source": [
    "11. Create a recursive Python function to generate all possible combinations of a list of elements."
   ]
  },
  {
   "cell_type": "code",
   "execution_count": 89,
   "id": "abc2a2b9-5314-40eb-8ee5-bebc1baf6836",
   "metadata": {},
   "outputs": [],
   "source": [
    "# "
   ]
  },
  {
   "cell_type": "markdown",
   "id": "b08723df-753b-45a3-8012-ee9ab8346221",
   "metadata": {
    "jupyter": {
     "source_hidden": true
    },
    "tags": []
   },
   "source": []
  },
  {
   "cell_type": "markdown",
   "id": "ffcdcbff-089e-44b5-92ae-b14693700466",
   "metadata": {
    "jupyter": {
     "source_hidden": true
    },
    "tags": []
   },
   "source": []
  },
  {
   "cell_type": "markdown",
   "id": "309237bf-2e90-4c4c-a9a3-1ada6df8bcf0",
   "metadata": {},
   "source": [
    "Basics of Functions:"
   ]
  },
  {
   "cell_type": "markdown",
   "id": "f03ba37a-aadb-4a9b-be9c-dba814b091e6",
   "metadata": {},
   "source": [
    "1. What is a function in Python, and why is it used?"
   ]
  },
  {
   "cell_type": "code",
   "execution_count": 90,
   "id": "46695d9c-5a67-4ac0-a703-0a362c1feb78",
   "metadata": {},
   "outputs": [],
   "source": [
    "# "
   ]
  },
  {
   "cell_type": "markdown",
   "id": "34afa0af-b2a8-44cd-a4c5-d340937faefa",
   "metadata": {},
   "source": [
    "2. How do you define a function in Python? Provide an example."
   ]
  },
  {
   "cell_type": "code",
   "execution_count": 91,
   "id": "5f059e56-6636-42cf-85a4-d74cffdd9802",
   "metadata": {},
   "outputs": [],
   "source": [
    "# "
   ]
  },
  {
   "cell_type": "markdown",
   "id": "682c209a-edaa-4dee-8a5d-a0baa2080212",
   "metadata": {},
   "source": [
    "3. Explain the difference between a function definition and a function call."
   ]
  },
  {
   "cell_type": "code",
   "execution_count": 92,
   "id": "b76a2e32-8f30-4a2d-a404-bd17180bdf05",
   "metadata": {},
   "outputs": [],
   "source": [
    "# "
   ]
  },
  {
   "cell_type": "markdown",
   "id": "d8c964c1-d93d-430a-8011-8541e0b7f1d8",
   "metadata": {},
   "source": [
    "4. Write a Python program that defines a function to calculate the sum of two numbers and then calls the function."
   ]
  },
  {
   "cell_type": "code",
   "execution_count": 8,
   "id": "321bd40a-2b03-40a0-bedd-1b76a3004cfe",
   "metadata": {},
   "outputs": [
    {
     "data": {
      "text/plain": [
       "5"
      ]
     },
     "execution_count": 8,
     "metadata": {},
     "output_type": "execute_result"
    }
   ],
   "source": [
    "def sum_of(a,b):\n",
    "    return a+b\n",
    "\n",
    "# calling function to find sum of 2 and 3\n",
    "sum_of(2,3)"
   ]
  },
  {
   "cell_type": "markdown",
   "id": "b5b828be-5f4f-44e2-9ca5-0526a660119f",
   "metadata": {},
   "source": [
    "5. What is a function signature, and what information does it typically include?"
   ]
  },
  {
   "cell_type": "code",
   "execution_count": 94,
   "id": "cb2b51b5-1152-4b15-a8a8-bc87827dff05",
   "metadata": {},
   "outputs": [],
   "source": [
    "# "
   ]
  },
  {
   "cell_type": "markdown",
   "id": "97a23bc0-880a-4d27-b5f2-1cbd5aba955d",
   "metadata": {},
   "source": [
    "6. Create a Python function that takes two arguments and returns their product."
   ]
  },
  {
   "cell_type": "code",
   "execution_count": 7,
   "id": "91128455-29e7-448e-8c35-3d5755c1bbce",
   "metadata": {},
   "outputs": [
    {
     "data": {
      "text/plain": [
       "6"
      ]
     },
     "execution_count": 7,
     "metadata": {},
     "output_type": "execute_result"
    }
   ],
   "source": [
    "def prod(a,b):\n",
    "    return a*b\n",
    "\n",
    "# calling the function to find product of 2 and 3\n",
    "prod(2,3)"
   ]
  },
  {
   "cell_type": "markdown",
   "id": "64c8931b-d1ac-472d-b175-6744ac2a06b6",
   "metadata": {
    "jupyter": {
     "source_hidden": true
    },
    "tags": []
   },
   "source": []
  },
  {
   "cell_type": "markdown",
   "id": "58149358-e35d-4ade-b39b-3be10b612b3d",
   "metadata": {
    "jupyter": {
     "source_hidden": true
    },
    "tags": []
   },
   "source": []
  },
  {
   "cell_type": "markdown",
   "id": "9e557827-d439-4ee4-83b9-e947c90dcdc5",
   "metadata": {},
   "source": [
    "Function Parameters and Arguments:"
   ]
  },
  {
   "cell_type": "markdown",
   "id": "3f4dcfe0-e57d-41ab-9cb8-92a34394bcaf",
   "metadata": {},
   "source": [
    "1. Explain the concepts of formal parameters and actual arguments in Python functions."
   ]
  },
  {
   "cell_type": "code",
   "execution_count": 96,
   "id": "648dbba3-a0c5-438f-894d-87d34e7efda8",
   "metadata": {},
   "outputs": [],
   "source": [
    "# "
   ]
  },
  {
   "cell_type": "markdown",
   "id": "2713e8e5-b7ad-45c0-8fe3-8aacdde7ef73",
   "metadata": {},
   "source": [
    "2. Write a Python program that defines a function with default argument values."
   ]
  },
  {
   "cell_type": "code",
   "execution_count": 97,
   "id": "e800952e-cf47-4a6f-a6f7-81b3ec602e76",
   "metadata": {},
   "outputs": [],
   "source": [
    "# "
   ]
  },
  {
   "cell_type": "markdown",
   "id": "f89f53f3-bc95-4270-8cbe-1cef11d8b3e9",
   "metadata": {},
   "source": [
    "3. How do you use keyword arguments in Python function calls? Provide an example."
   ]
  },
  {
   "cell_type": "code",
   "execution_count": 98,
   "id": "28e68cb3-1f30-4035-b712-d51541734192",
   "metadata": {},
   "outputs": [],
   "source": [
    "# "
   ]
  },
  {
   "cell_type": "markdown",
   "id": "9071d064-0f04-4166-bf6a-ccc708bcb04e",
   "metadata": {},
   "source": [
    "4. Create a Python function that accepts a variable number of arguments and calculates their sum."
   ]
  },
  {
   "cell_type": "code",
   "execution_count": 6,
   "id": "79df8075-a55c-4ab2-96d4-50225e6c646c",
   "metadata": {},
   "outputs": [
    {
     "data": {
      "text/plain": [
       "45"
      ]
     },
     "execution_count": 6,
     "metadata": {},
     "output_type": "execute_result"
    }
   ],
   "source": [
    "def sum_of_numbers(*args):\n",
    "    s = 0\n",
    "    for i in args:\n",
    "        s = s + i\n",
    "    return s\n",
    "        \n",
    "sum_of_numbers(1,2,3,4,5,6,7,8,9)"
   ]
  },
  {
   "cell_type": "markdown",
   "id": "69d2f86c-2443-4a81-a548-ad0e93b6ad93",
   "metadata": {},
   "source": [
    "5. What is the purpose of the `*args` and `**kwargs` syntax in function parameter lists?"
   ]
  },
  {
   "cell_type": "code",
   "execution_count": 100,
   "id": "c95d2cdf-bb8c-4b3a-b313-b9a5ab96e08c",
   "metadata": {},
   "outputs": [],
   "source": [
    "# "
   ]
  },
  {
   "cell_type": "markdown",
   "id": "20ec1584-29b9-4cc7-b6a0-14d2cf37d402",
   "metadata": {
    "jupyter": {
     "source_hidden": true
    },
    "tags": []
   },
   "source": []
  },
  {
   "cell_type": "markdown",
   "id": "702f66d1-714f-4109-9ee8-0fb2389e4dd2",
   "metadata": {
    "jupyter": {
     "source_hidden": true
    },
    "tags": []
   },
   "source": []
  },
  {
   "cell_type": "markdown",
   "id": "b49f5aed-6136-48ee-b591-7eb95012ab89",
   "metadata": {},
   "source": [
    "Return Values and Scoping:"
   ]
  },
  {
   "cell_type": "markdown",
   "id": "50c868e1-9d54-40a5-8461-01ec1ff5d5d5",
   "metadata": {},
   "source": [
    "1. Describe the role of the `return` statement in Python functions and provide examples."
   ]
  },
  {
   "cell_type": "code",
   "execution_count": 101,
   "id": "8d2e9298-ddbe-48ff-ae7a-0295d7ab11c2",
   "metadata": {},
   "outputs": [],
   "source": [
    "# "
   ]
  },
  {
   "cell_type": "markdown",
   "id": "3d9c5ae3-c104-4fb7-a626-71f25ae76268",
   "metadata": {},
   "source": [
    "2. Explain the concept of variable scope in Python, including local and global variables."
   ]
  },
  {
   "cell_type": "code",
   "execution_count": 102,
   "id": "b00f0d61-654a-48ee-94b2-ab5dfd07859a",
   "metadata": {},
   "outputs": [],
   "source": [
    "# "
   ]
  },
  {
   "cell_type": "markdown",
   "id": "91bd52ea-26b4-4548-af2d-8c7bc3ea8b8f",
   "metadata": {},
   "source": [
    "3. Write a Python program that demonstrates the use of global variables within functions."
   ]
  },
  {
   "cell_type": "code",
   "execution_count": 103,
   "id": "78be1d61-d106-4a48-ad5f-cfbc782bcc12",
   "metadata": {},
   "outputs": [],
   "source": [
    "# "
   ]
  },
  {
   "cell_type": "markdown",
   "id": "b67415fa-d8a9-4522-b610-e39cf760d6dd",
   "metadata": {},
   "source": [
    "4. Create a Python function that calculates the factorial of a number and returns it."
   ]
  },
  {
   "cell_type": "code",
   "execution_count": 1,
   "id": "ef8730b8-63cd-40c8-8c6d-caaad83180bd",
   "metadata": {},
   "outputs": [
    {
     "name": "stdin",
     "output_type": "stream",
     "text": [
      "Enter a number : 5\n"
     ]
    },
    {
     "name": "stdout",
     "output_type": "stream",
     "text": [
      "Factorial of input number : 120\n"
     ]
    }
   ],
   "source": [
    "def factorial(n):\n",
    "    if n == 0:\n",
    "        return 1\n",
    "    else:\n",
    "        return n*factorial(n-1)\n",
    "\n",
    "n = int(input(\"Enter a number :\"))\n",
    "print(\"Factorial of input number :\",factorial(n))"
   ]
  },
  {
   "cell_type": "markdown",
   "id": "8051afea-0ff9-4575-9ee8-869770657615",
   "metadata": {},
   "source": [
    "5. How can you access variables defined outside a function from within the function?"
   ]
  },
  {
   "cell_type": "code",
   "execution_count": 105,
   "id": "027b4682-6437-49e2-9eb1-9e768da18a15",
   "metadata": {},
   "outputs": [],
   "source": [
    "# "
   ]
  },
  {
   "cell_type": "markdown",
   "id": "240c169a-ce96-4ac0-987d-ee81fa1ff9c3",
   "metadata": {
    "jupyter": {
     "source_hidden": true
    },
    "tags": []
   },
   "source": []
  },
  {
   "cell_type": "markdown",
   "id": "696d1f2a-ac52-42ab-86b2-79a3ffff08c5",
   "metadata": {
    "jupyter": {
     "source_hidden": true
    },
    "tags": []
   },
   "source": []
  },
  {
   "cell_type": "markdown",
   "id": "731cb515-5a4d-44aa-bc7f-61e52c805f50",
   "metadata": {},
   "source": [
    "Lambda Functions and Higher-Order Functions:"
   ]
  },
  {
   "cell_type": "markdown",
   "id": "7b070f8b-79a8-47bc-b7be-c144871fec56",
   "metadata": {},
   "source": [
    "1. What are lambda functions in Python, and when are they typically used?"
   ]
  },
  {
   "cell_type": "code",
   "execution_count": 106,
   "id": "e3cc1e3b-05b8-4d61-93a6-a4eb5073a327",
   "metadata": {},
   "outputs": [],
   "source": [
    "# "
   ]
  },
  {
   "cell_type": "markdown",
   "id": "12a2eb2d-6701-4f21-a245-1fa6b54985ab",
   "metadata": {},
   "source": [
    "2. Write a Python program that uses lambda functions to sort a list of tuples based on the second element."
   ]
  },
  {
   "cell_type": "code",
   "execution_count": 107,
   "id": "d2cf4ea7-87da-433d-b1a3-e418b340b9fb",
   "metadata": {},
   "outputs": [],
   "source": [
    "# "
   ]
  },
  {
   "cell_type": "markdown",
   "id": "6b2e2aa4-dd14-4b5e-9932-46127d056915",
   "metadata": {},
   "source": [
    "3. Explain the concept of higher-order functions in Python, and provide an example."
   ]
  },
  {
   "cell_type": "code",
   "execution_count": 108,
   "id": "f0a6d299-2ae9-4223-abb6-19bf7d3a2ada",
   "metadata": {},
   "outputs": [],
   "source": [
    "# "
   ]
  },
  {
   "cell_type": "markdown",
   "id": "32871a9a-2495-4210-b9a9-b95b8dce6024",
   "metadata": {},
   "source": [
    "4. Create a Python function that takes a list of numbers and a function as arguments, applying the function to each element in the list."
   ]
  },
  {
   "cell_type": "code",
   "execution_count": 109,
   "id": "702f9c06-d781-461b-8f50-48f899971cce",
   "metadata": {},
   "outputs": [],
   "source": [
    "# "
   ]
  },
  {
   "cell_type": "markdown",
   "id": "0897d01c-98a0-4471-9e87-95105603faf6",
   "metadata": {
    "jupyter": {
     "source_hidden": true
    },
    "tags": []
   },
   "source": []
  },
  {
   "cell_type": "markdown",
   "id": "d06bb6e9-2e5a-4034-b714-79ea4b51662f",
   "metadata": {
    "jupyter": {
     "source_hidden": true
    },
    "tags": []
   },
   "source": []
  },
  {
   "cell_type": "markdown",
   "id": "4d0cfcce-06e2-4e30-9f6f-c2a09bade759",
   "metadata": {},
   "source": [
    "Built-in Functions:"
   ]
  },
  {
   "cell_type": "markdown",
   "id": "4d1bdb26-16b9-45b7-ab17-6a83718f505e",
   "metadata": {},
   "source": [
    "1. Describe the role of built-in functions like `len()`, `max()`, and `min()` in Python."
   ]
  },
  {
   "cell_type": "raw",
   "id": "c376c9d8-c2b5-48c1-9c96-2d942ac85d01",
   "metadata": {},
   "source": [
    "len() --- It finds the length of any entity like string,list,tuple,etc.\n",
    "max() --- It finds the maximum from a given set of numbers declared inside list,tuple,etc.\n",
    "min() --- It finds the maximum from a given set of numbers declared inside list,tuple,etc."
   ]
  },
  {
   "cell_type": "markdown",
   "id": "a8f49a34-c967-4bee-aa2f-fa244017a023",
   "metadata": {},
   "source": [
    "2. Write a Python program that uses the `map()` function to apply a function to each element of a list."
   ]
  },
  {
   "cell_type": "code",
   "execution_count": 28,
   "id": "62e2af5e-6127-49df-a38f-b72df62fda30",
   "metadata": {},
   "outputs": [
    {
     "data": {
      "text/plain": [
       "[2, 4, 6, 8, 10]"
      ]
     },
     "execution_count": 28,
     "metadata": {},
     "output_type": "execute_result"
    }
   ],
   "source": [
    "# declaring a list of numbers\n",
    "l = [1,2,3,4,5]\n",
    "\n",
    "# multiply by 2 to each element of a list using map() function\n",
    "list(map(lambda a : a*2,l))"
   ]
  },
  {
   "cell_type": "markdown",
   "id": "0e80de53-d4c2-4045-8b61-cf6802289ac2",
   "metadata": {},
   "source": [
    "3. How does the `filter()` function work in Python, and when would you use it?"
   ]
  },
  {
   "cell_type": "code",
   "execution_count": 113,
   "id": "31bf3b4f-7272-484e-98d2-d472b5ba8f19",
   "metadata": {},
   "outputs": [],
   "source": [
    "# "
   ]
  },
  {
   "cell_type": "markdown",
   "id": "7f15598f-1f63-4c3c-a029-3c59861cda70",
   "metadata": {},
   "source": [
    "4. Create a Python program that uses the `reduce()` function to find the product of all elements in a list."
   ]
  },
  {
   "cell_type": "code",
   "execution_count": 29,
   "id": "12432623-632d-4e24-9e31-c646635fd566",
   "metadata": {},
   "outputs": [
    {
     "name": "stdout",
     "output_type": "stream",
     "text": [
      "Prodcut of all elements in a list : 120\n"
     ]
    }
   ],
   "source": [
    "# declaring a list of numbers\n",
    "l = [1,2,3,4,5]\n",
    "from functools import reduce\n",
    "m = reduce(lambda a,b : a*b,l)\n",
    "print(\"Prodcut of all elements in a list :\",m)"
   ]
  },
  {
   "cell_type": "markdown",
   "id": "b44bacc6-4c52-4f01-ac80-89b9a6c11d31",
   "metadata": {
    "jupyter": {
     "source_hidden": true
    },
    "tags": []
   },
   "source": []
  },
  {
   "cell_type": "markdown",
   "id": "e12b49f8-8ef8-4220-a007-1bb791009ef8",
   "metadata": {
    "jupyter": {
     "source_hidden": true
    },
    "tags": []
   },
   "source": []
  },
  {
   "cell_type": "markdown",
   "id": "b19e3ad9-c9d9-4232-b523-22e73d1ab12b",
   "metadata": {},
   "source": [
    "Function Documentation and Best Practices:"
   ]
  },
  {
   "cell_type": "markdown",
   "id": "a3298421-6c97-4900-a3dc-949679513691",
   "metadata": {},
   "source": [
    "1. Explain the purpose of docstrings in Python functions and how to write them."
   ]
  },
  {
   "cell_type": "code",
   "execution_count": 115,
   "id": "3d264ee9-f3aa-4ab8-a041-7b2464d00dd6",
   "metadata": {},
   "outputs": [],
   "source": [
    "# "
   ]
  },
  {
   "cell_type": "markdown",
   "id": "0f8aea6c-06c1-49bb-8145-3b953b47fdfe",
   "metadata": {},
   "source": [
    "2. Describe some best practices for naming functions and variables in Python, including naming conventions and guidelines"
   ]
  },
  {
   "cell_type": "code",
   "execution_count": 117,
   "id": "39266112-a057-49e7-8ab2-2b0daafef489",
   "metadata": {},
   "outputs": [],
   "source": [
    "# "
   ]
  }
 ],
 "metadata": {
  "kernelspec": {
   "display_name": "Python 3 (ipykernel)",
   "language": "python",
   "name": "python3"
  },
  "language_info": {
   "codemirror_mode": {
    "name": "ipython",
    "version": 3
   },
   "file_extension": ".py",
   "mimetype": "text/x-python",
   "name": "python",
   "nbconvert_exporter": "python",
   "pygments_lexer": "ipython3",
   "version": "3.10.8"
  }
 },
 "nbformat": 4,
 "nbformat_minor": 5
}
