{
 "cells": [
  {
   "cell_type": "markdown",
   "id": "4cf1eb5a-f230-4b0f-b49e-ded6ca325a51",
   "metadata": {},
   "source": [
    "TOPIC : Python Basics Variables"
   ]
  },
  {
   "cell_type": "markdown",
   "id": "9db9bee8-a10f-4835-9832-545df9a2becb",
   "metadata": {},
   "source": [
    "1. Declare two variables,`x` and `y`, and assign them integer values. Swap the values of these variables without using any temporary variable."
   ]
  },
  {
   "cell_type": "code",
   "execution_count": 3,
   "id": "6b385791-0c27-41d7-9151-a084ebf591c7",
   "metadata": {},
   "outputs": [
    {
     "name": "stdout",
     "output_type": "stream",
     "text": [
      "After swapping:\n",
      "x = 20\n",
      "y = 10\n"
     ]
    }
   ],
   "source": [
    "# taking two integer inputs\n",
    "x=10\n",
    "y=20\n",
    "\n",
    "# swapping the values of these variables\n",
    "x = x + y\n",
    "y = x - y\n",
    "x = x - y\n",
    "\n",
    "print(\"After swapping:\")\n",
    "print(\"x =\", x)\n",
    "print(\"y =\", y)"
   ]
  },
  {
   "cell_type": "markdown",
   "id": "c2fb70bb-6f06-49e8-97c6-3d3cbdac41dc",
   "metadata": {},
   "source": [
    "2. Create a program that calculates the area of a rectangle. Take the length and width as inputs from the user and store them in variables. Calculate and display the area."
   ]
  },
  {
   "cell_type": "code",
   "execution_count": 3,
   "id": "6a77522f-0ba6-448f-b2d8-586f3945b586",
   "metadata": {},
   "outputs": [
    {
     "name": "stdin",
     "output_type": "stream",
     "text": [
      "Enter the length of the rectangle : 5\n",
      "Enter the breadth of the rectangle : 4\n"
     ]
    },
    {
     "name": "stdout",
     "output_type": "stream",
     "text": [
      "Area of the Rectangle is 20\n"
     ]
    }
   ],
   "source": [
    "# Taking inputs from user and storing them in variables\n",
    "l = int(input(\"Enter the length of the rectangle :\"))\n",
    "b = int(input(\"Enter the breadth of the rectangle :\"))\n",
    "\n",
    "# Calculating and then displaying the area of rectangle \n",
    "area = l*b\n",
    "print(\"Area of the Rectangle is\",area)"
   ]
  },
  {
   "cell_type": "markdown",
   "id": "97c61abe-e84f-48c4-9536-060a1957b57d",
   "metadata": {},
   "source": [
    "3. Write a Python program that converts temperatures from Celsius to Fahrenheit. Take the temperature in Celsius as input, store it in a variable,convert it to Fahrenheit, and display the\n",
    "result."
   ]
  },
  {
   "cell_type": "code",
   "execution_count": 6,
   "id": "a522cf2a-28e5-4313-8a76-19fe49f26a72",
   "metadata": {},
   "outputs": [
    {
     "name": "stdin",
     "output_type": "stream",
     "text": [
      "Enter the temperature in celcius : 32\n"
     ]
    },
    {
     "name": "stdout",
     "output_type": "stream",
     "text": [
      "The given temperature is 89.6 F(Fahrenheit)\n"
     ]
    }
   ],
   "source": [
    "# Taking input as temperature in celcius from user\n",
    "temp = int(input(\"Enter the temperature in celcius :\"))\n",
    "\n",
    "# Converting the given temperature from celcius to fahrenheit\n",
    "f = (9*temp/5)+32\n",
    "\n",
    "# Displaying\n",
    "print(\"The given temperature is\",f,\"F(Fahrenheit)\")"
   ]
  },
  {
   "cell_type": "markdown",
   "id": "628f16b7-0642-4d91-b717-eca8fbbd9489",
   "metadata": {},
   "source": [
    "TOPIC : String Based Questions"
   ]
  },
  {
   "cell_type": "markdown",
   "id": "7363217c-6b25-46aa-be2e-5287c417bb5d",
   "metadata": {},
   "source": [
    "1. Write a Python program that takes a string as input and prints the length of the string."
   ]
  },
  {
   "cell_type": "code",
   "execution_count": 8,
   "id": "f258b964-36fa-4fea-8dfa-aba330b395b8",
   "metadata": {},
   "outputs": [
    {
     "name": "stdin",
     "output_type": "stream",
     "text": [
      "Enter a word : pwskills\n"
     ]
    },
    {
     "name": "stdout",
     "output_type": "stream",
     "text": [
      "Length of the string is 8\n"
     ]
    }
   ],
   "source": [
    "# Take input as a string from user\n",
    "s = input(\"Enter a word :\")\n",
    "\n",
    "# Displaying the length of the string\n",
    "print(\"Length of the string is\",len(s))"
   ]
  },
  {
   "cell_type": "markdown",
   "id": "ed98771b-457f-4bb9-90e4-c6d9f38e1a4d",
   "metadata": {},
   "source": [
    "2. Create a program that takes a sentence from the user and counts the number of vowels (a, e, i, o, u) in the string."
   ]
  },
  {
   "cell_type": "code",
   "execution_count": 15,
   "id": "86d96460-1e18-4fee-8f07-b9c6cac23c4f",
   "metadata": {},
   "outputs": [
    {
     "name": "stdin",
     "output_type": "stream",
     "text": [
      "Enter a sentence : i am great\n"
     ]
    },
    {
     "name": "stdout",
     "output_type": "stream",
     "text": [
      "The number of vowels in the string is 4\n"
     ]
    }
   ],
   "source": [
    "# Taking input as sentence from user\n",
    "s = input(\"Enter a sentence :\")\n",
    "\n",
    "# Calculating vowels in a string\n",
    "count = 0\n",
    "l = [\"a\",\"e\",\"i\",\"o\",\"u\"]\n",
    "i=0\n",
    "while i < len(s):\n",
    "    if s[i] in l:\n",
    "        count += 1\n",
    "    i = i+1\n",
    "print(\"The number of vowels in the string is\",count)\n"
   ]
  },
  {
   "cell_type": "markdown",
   "id": "71f8adc9-1dfd-4d0f-962f-ca5e80b81818",
   "metadata": {},
   "source": [
    "3. Given a string, reverse the order of characters using string slicing and print the reversed string."
   ]
  },
  {
   "cell_type": "code",
   "execution_count": 3,
   "id": "2b8b4f19-6d77-4aa7-8758-163465c1b2ce",
   "metadata": {},
   "outputs": [
    {
     "name": "stdin",
     "output_type": "stream",
     "text": [
      "Enter a word : pwskills\n"
     ]
    },
    {
     "name": "stdout",
     "output_type": "stream",
     "text": [
      "Reversed string is sllikswp\n"
     ]
    }
   ],
   "source": [
    "# Take input as string from user\n",
    "st = input(\"Enter a word :\")\n",
    "\n",
    "# Reversing the string by extracting characters\n",
    "rev = \"\"\n",
    "i = 0\n",
    "while i < len(st):\n",
    "    rev = st[i] + rev\n",
    "    i += 1\n",
    "\n",
    "# Displaying the reverse string\n",
    "print(\"Reversed string is\",rev)"
   ]
  },
  {
   "cell_type": "markdown",
   "id": "3c6349a0-8735-40e6-b701-237300cae0d9",
   "metadata": {},
   "source": [
    "4. Write a program that takes a string as input and checks if it is a palindrome(reads the same forwards and backwards)."
   ]
  },
  {
   "cell_type": "code",
   "execution_count": 4,
   "id": "71ece60e-c300-4c75-9b54-d09afd30d0b5",
   "metadata": {},
   "outputs": [
    {
     "name": "stdin",
     "output_type": "stream",
     "text": [
      "Enter a word : MADAM\n"
     ]
    },
    {
     "name": "stdout",
     "output_type": "stream",
     "text": [
      "It is Palindrome\n"
     ]
    }
   ],
   "source": [
    "# Take input as string from user\n",
    "st = input(\"Enter a word :\")\n",
    "\n",
    "# Reversing the string by extracting characters\n",
    "rev = \"\"\n",
    "i = 0\n",
    "while i < len(st):\n",
    "    rev = st[i] + rev\n",
    "    i += 1\n",
    "\n",
    "# Checking for palindrome\n",
    "if st == rev :\n",
    "    print(\"It is Palindrome\")\n",
    "else:\n",
    "    print(\"It is not Palindrome\")"
   ]
  },
  {
   "cell_type": "markdown",
   "id": "36770d9c-b6a6-4c3f-a9a2-690cface9c5d",
   "metadata": {},
   "source": [
    "5. Create a program that takes a string as input and removes all the spaces from it. Print the modified string without spaces."
   ]
  },
  {
   "cell_type": "code",
   "execution_count": 2,
   "id": "8bf511d4-c833-4f27-b1b5-f09a358860e5",
   "metadata": {},
   "outputs": [
    {
     "name": "stdin",
     "output_type": "stream",
     "text": [
      "Enter a string : p w ski ll s\n"
     ]
    },
    {
     "name": "stdout",
     "output_type": "stream",
     "text": [
      "The modified string is pwskills\n"
     ]
    }
   ],
   "source": [
    "# Take input as string from user\n",
    "s = input(\"Enter a string :\")\n",
    "\n",
    "# Removing spaces from the string\n",
    "mod = \"\"\n",
    "i = 0\n",
    "while i < len(s):\n",
    "    if s[i] == \" \":\n",
    "        mod = mod\n",
    "    else:\n",
    "        mod += s[i]\n",
    "    i += 1 \n",
    "\n",
    "# Displaying the modified string\n",
    "print(\"The modified string is\",mod)"
   ]
  }
 ],
 "metadata": {
  "kernelspec": {
   "display_name": "Python 3 (ipykernel)",
   "language": "python",
   "name": "python3"
  },
  "language_info": {
   "codemirror_mode": {
    "name": "ipython",
    "version": 3
   },
   "file_extension": ".py",
   "mimetype": "text/x-python",
   "name": "python",
   "nbconvert_exporter": "python",
   "pygments_lexer": "ipython3",
   "version": "3.10.8"
  }
 },
 "nbformat": 4,
 "nbformat_minor": 5
}
