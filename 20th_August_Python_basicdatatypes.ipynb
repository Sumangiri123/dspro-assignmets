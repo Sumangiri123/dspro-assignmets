{
 "cells": [
  {
   "cell_type": "markdown",
   "id": "fac7d9c3-d7b4-4199-a4e7-99ce294282a0",
   "metadata": {},
   "source": [
    "                                                Practice Questions"
   ]
  },
  {
   "cell_type": "markdown",
   "id": "c8c04d80-4256-4d22-a3ff-1b56fa82f5b8",
   "metadata": {},
   "source": [
    "TOPIC : String Based Assignment Problem "
   ]
  },
  {
   "cell_type": "markdown",
   "id": "5081e0a4-4165-4db3-a0ac-f4894ddcca11",
   "metadata": {},
   "source": [
    "1. Write a program to reverse a string."
   ]
  },
  {
   "cell_type": "code",
   "execution_count": 1,
   "id": "faf04139-4d60-407d-8ae4-38f5cb46dd94",
   "metadata": {},
   "outputs": [
    {
     "name": "stdin",
     "output_type": "stream",
     "text": [
      "Enter a word : pwskills\n"
     ]
    },
    {
     "name": "stdout",
     "output_type": "stream",
     "text": [
      "Reversed string is sllikswp\n"
     ]
    }
   ],
   "source": [
    "# Take input as string from user\n",
    "st = input(\"Enter a word :\")\n",
    "\n",
    "# Reversing the string by extracting characters\n",
    "rev = \"\"\n",
    "i = 0\n",
    "while i < len(st):\n",
    "    rev = st[i] + rev\n",
    "    i += 1\n",
    "\n",
    "# Displaying the reverse string\n",
    "print(\"Reversed string is\",rev)"
   ]
  },
  {
   "cell_type": "markdown",
   "id": "34dc2b19-7df5-44cb-af98-57a85190ab17",
   "metadata": {},
   "source": [
    "2. Check if a string is a palindrome."
   ]
  },
  {
   "cell_type": "code",
   "execution_count": 4,
   "id": "a0617c65-2b84-45a1-bef4-f66415c0baf0",
   "metadata": {},
   "outputs": [
    {
     "name": "stdin",
     "output_type": "stream",
     "text": [
      "Enter a word : MADAM\n"
     ]
    },
    {
     "name": "stdout",
     "output_type": "stream",
     "text": [
      "MADAM is a Palindromic string\n"
     ]
    }
   ],
   "source": [
    "# Take input as string from user\n",
    "st = input(\"Enter a word :\")\n",
    "\n",
    "# Reversing the string by extracting characters\n",
    "rev = \"\"\n",
    "i = 0\n",
    "while i < len(st):\n",
    "    rev = st[i] + rev\n",
    "    i += 1\n",
    "\n",
    "# Checking for palindrome\n",
    "if st == rev :\n",
    "    print(st,\"is a Palindromic string\")\n",
    "else:\n",
    "    print(st,\"is not a Palindromic string\")"
   ]
  },
  {
   "cell_type": "markdown",
   "id": "48f4ec76-b056-46ab-ab77-194efe2baa01",
   "metadata": {},
   "source": [
    "3. Convert a string to uppercase."
   ]
  },
  {
   "cell_type": "code",
   "execution_count": 5,
   "id": "fce54d99-0c14-45ed-89af-8970bbcadf84",
   "metadata": {},
   "outputs": [
    {
     "name": "stdin",
     "output_type": "stream",
     "text": [
      "Enter a word : pwskills\n"
     ]
    },
    {
     "name": "stdout",
     "output_type": "stream",
     "text": [
      "The given string in upper case is as : PWSKILLS\n"
     ]
    }
   ],
   "source": [
    "# take input as string from user\n",
    "s = input(\"Enter a word :\")\n",
    "\n",
    "# converting and displaying in upper case\n",
    "print(\"The given string in upper case is as :\",s.upper())"
   ]
  },
  {
   "cell_type": "markdown",
   "id": "947b2ee2-00a7-459d-94fd-50eda05ec084",
   "metadata": {},
   "source": [
    "4. Convert a string to lowercase."
   ]
  },
  {
   "cell_type": "code",
   "execution_count": 6,
   "id": "165074ad-0c2e-40f1-920f-4dfcf6dd6d20",
   "metadata": {},
   "outputs": [
    {
     "name": "stdin",
     "output_type": "stream",
     "text": [
      "Enter a word : MADAM\n"
     ]
    },
    {
     "name": "stdout",
     "output_type": "stream",
     "text": [
      "The given string in lower case is as : madam\n"
     ]
    }
   ],
   "source": [
    "# take input as string from user\n",
    "s = input(\"Enter a word :\")\n",
    "\n",
    "# converting and displaying in lower case\n",
    "print(\"The given string in lower case is as :\",s.lower())"
   ]
  },
  {
   "cell_type": "markdown",
   "id": "aa4c59a3-75c9-4955-a641-dacfdb6bcc59",
   "metadata": {},
   "source": [
    "5. Count the number of vowels in a string."
   ]
  },
  {
   "cell_type": "code",
   "execution_count": 7,
   "id": "ffd78d48-59eb-4079-97b8-a48c422515f2",
   "metadata": {},
   "outputs": [
    {
     "name": "stdin",
     "output_type": "stream",
     "text": [
      "Enter a sentence : i am great\n"
     ]
    },
    {
     "name": "stdout",
     "output_type": "stream",
     "text": [
      "The number of vowels in the string is 4\n"
     ]
    }
   ],
   "source": [
    "# Taking input as sentence from user\n",
    "s = input(\"Enter a sentence :\")\n",
    "\n",
    "# Calculating vowels in a string\n",
    "count = 0\n",
    "l = [\"a\",\"e\",\"i\",\"o\",\"u\"]\n",
    "i=0\n",
    "while i < len(s):\n",
    "    if s[i] in l:\n",
    "        count += 1\n",
    "    i = i+1\n",
    "print(\"The number of vowels in the string is\",count)"
   ]
  },
  {
   "cell_type": "markdown",
   "id": "affcf5c9-253f-46b0-b38f-b2cc585af13a",
   "metadata": {},
   "source": [
    "6. Count the number of consonants in a string."
   ]
  },
  {
   "cell_type": "code",
   "execution_count": 11,
   "id": "d1dea809-9c86-4865-8f8a-0dba9bd8937a",
   "metadata": {},
   "outputs": [
    {
     "name": "stdin",
     "output_type": "stream",
     "text": [
      "Enter a sentence : i am great\n"
     ]
    },
    {
     "name": "stdout",
     "output_type": "stream",
     "text": [
      "The number of consonants in the string is 4\n"
     ]
    }
   ],
   "source": [
    "#Taking input as sentence from user\n",
    "s = input(\"Enter a sentence :\")\n",
    "\n",
    "# Calculating consonants in a string\n",
    "count = 0\n",
    "l = [\"a\",\"e\",\"i\",\"o\",\"u\",\" \"]\n",
    "i=0\n",
    "while i < len(s):\n",
    "    if s[i] in l:\n",
    "        count = count\n",
    "    else:\n",
    "        count += 1\n",
    "    i = i+1\n",
    "print(\"The number of consonants in the string is\",count)"
   ]
  },
  {
   "cell_type": "markdown",
   "id": "3fb2ee67-cb37-4575-8a37-5dd21d4c0126",
   "metadata": {},
   "source": [
    "7. Remove all whitespaces from a string."
   ]
  },
  {
   "cell_type": "code",
   "execution_count": 12,
   "id": "ab9a1a4a-faf2-4d11-b828-540f50ae5ef9",
   "metadata": {},
   "outputs": [
    {
     "name": "stdin",
     "output_type": "stream",
     "text": [
      "Enter a string : p w ski ll s\n"
     ]
    },
    {
     "name": "stdout",
     "output_type": "stream",
     "text": [
      "The modified string is pwskills\n"
     ]
    }
   ],
   "source": [
    "# Take input as string from user\n",
    "s = input(\"Enter a string :\")\n",
    "\n",
    "# Removing spaces from the string\n",
    "mod = \"\"\n",
    "i = 0\n",
    "while i < len(s):\n",
    "    if s[i] == \" \":\n",
    "        mod = mod\n",
    "    else:\n",
    "        mod += s[i]\n",
    "    i += 1 \n",
    "\n",
    "# Displaying the modified string\n",
    "print(\"The modified string is\",mod)"
   ]
  },
  {
   "cell_type": "markdown",
   "id": "b6d006dd-9f62-4a56-ada0-304e688d714c",
   "metadata": {},
   "source": [
    "8. Find the length of a string without using the `len()` function."
   ]
  },
  {
   "cell_type": "code",
   "execution_count": 20,
   "id": "6b7328af-6228-4842-8f4f-08901dda6d31",
   "metadata": {},
   "outputs": [
    {
     "name": "stdin",
     "output_type": "stream",
     "text": [
      "Enter a sentence : I am Suman Giri.\n"
     ]
    },
    {
     "name": "stdout",
     "output_type": "stream",
     "text": [
      "The length of the string is 16\n"
     ]
    }
   ],
   "source": [
    "# take input as string from user\n",
    "s = input(\"Enter a sentence :\")\n",
    "\n",
    "# calculating length of the string\n",
    "c = 0\n",
    "for i in s:\n",
    "    c += 1\n",
    "    \n",
    "print(\"The length of the string is\",c) "
   ]
  },
  {
   "cell_type": "markdown",
   "id": "106f0961-9082-4fa0-8578-d6f825bc4695",
   "metadata": {},
   "source": [
    "9. Check if a string contains a specific word."
   ]
  },
  {
   "cell_type": "code",
   "execution_count": 2,
   "id": "60fe09ed-e507-4206-b45c-33949f4dca16",
   "metadata": {},
   "outputs": [
    {
     "name": "stdin",
     "output_type": "stream",
     "text": [
      "Enter a sentence : i am genius\n",
      "Enter the word you are searching for : is\n"
     ]
    },
    {
     "name": "stdout",
     "output_type": "stream",
     "text": [
      "The string doesn't contains the input word\n"
     ]
    }
   ],
   "source": [
    "# take user input as string and a word for searching\n",
    "s = input(\"Enter a sentence :\")\n",
    "w = input(\"Enter the word you are searching for :\")\n",
    "\n",
    "# checking if the word exists or not\n",
    "if w in s:\n",
    "    print(\"The string contains the input word\")\n",
    "else:\n",
    "    print(\"The string doesn't contains the input word\")"
   ]
  },
  {
   "cell_type": "markdown",
   "id": "8e828516-b128-49b0-ac30-d2abccf54a73",
   "metadata": {},
   "source": [
    "10. Replace a word in a string with another word."
   ]
  },
  {
   "cell_type": "code",
   "execution_count": 3,
   "id": "ac8bf35c-f711-4d13-9c59-7460a9cf3d48",
   "metadata": {},
   "outputs": [
    {
     "name": "stdin",
     "output_type": "stream",
     "text": [
      "Enter a sentence : i am a female\n",
      "Enter the word to replace : female\n",
      "Enter the new word : male\n"
     ]
    },
    {
     "name": "stdout",
     "output_type": "stream",
     "text": [
      "After replacing:\n",
      "i am a male\n"
     ]
    }
   ],
   "source": [
    "# take user input as string\n",
    "s = input(\"Enter a sentence :\")\n",
    "w1 = input(\"Enter the word to replace :\")\n",
    "w2 = input(\"Enter the new word :\")\n",
    "\n",
    "# Repalcing a word in a string with another word\n",
    "s = s.replace(w1,w2)\n",
    "print(\"After replacing:\")\n",
    "print(s)"
   ]
  },
  {
   "cell_type": "markdown",
   "id": "812b5c1a-3730-4547-941b-470652ec9410",
   "metadata": {},
   "source": [
    "11. Count the occurrences of a word in a string."
   ]
  },
  {
   "cell_type": "code",
   "execution_count": 14,
   "id": "0a9e069b-a4d1-4852-9ed9-6f7efbcc6dbd",
   "metadata": {},
   "outputs": [
    {
     "name": "stdin",
     "output_type": "stream",
     "text": [
      "Enter a sentence : i am not am the guy\n",
      "Enter the word you wish to find its occurence in the string : am\n"
     ]
    },
    {
     "name": "stdout",
     "output_type": "stream",
     "text": [
      "The number of occurence is 2\n"
     ]
    }
   ],
   "source": [
    "# take user input as string\n",
    "s = input(\"Enter a sentence :\")\n",
    "w = input(\"Enter the word you wish to find its occurence in the string :\")\n",
    "\n",
    "# counting the occurence of a word in a string\n",
    "print(\"The number of occurence is\",s.count(w))"
   ]
  },
  {
   "cell_type": "markdown",
   "id": "e2809f22-8d1b-42b1-8023-6ba91737b345",
   "metadata": {},
   "source": [
    "12. Find the first occurrence of a word in a string."
   ]
  },
  {
   "cell_type": "code",
   "execution_count": 6,
   "id": "2f666190-f154-4fe2-9645-8352d1bec8da",
   "metadata": {},
   "outputs": [
    {
     "name": "stdin",
     "output_type": "stream",
     "text": [
      "Enter a sentence : he is a good boy as well as smartest boy in the class\n",
      "Enter the word searching for : boy\n"
     ]
    },
    {
     "name": "stdout",
     "output_type": "stream",
     "text": [
      "Found at : 13\n"
     ]
    }
   ],
   "source": [
    "# taking the required inputs\n",
    "s = input(\"Enter a sentence :\")\n",
    "w = input(\"Enter the word searching for :\")\n",
    "\n",
    "# finding the first occurence of a word in string\n",
    "print(\"Found at :\",s.index(w))"
   ]
  },
  {
   "cell_type": "markdown",
   "id": "8ee217c9-c994-493c-be22-435e55cc3437",
   "metadata": {},
   "source": [
    "13. Find the last occurrence of a word in a string."
   ]
  },
  {
   "cell_type": "code",
   "execution_count": 10,
   "id": "8325e70d-9818-497a-acf6-f9b1cd0a1553",
   "metadata": {},
   "outputs": [
    {
     "name": "stdin",
     "output_type": "stream",
     "text": [
      "Enter a sentence : he is a good boy as well as smartest boy in the class\n",
      "Enter the word searching for : boy\n"
     ]
    },
    {
     "name": "stdout",
     "output_type": "stream",
     "text": [
      "Last occurence of the word is at : 37\n"
     ]
    }
   ],
   "source": [
    "# taking the required inputs\n",
    "s = input(\"Enter a sentence :\")\n",
    "w = input(\"Enter the word searching for :\")\n",
    "\n",
    "# extracting words and then finding the last occurence of it\n",
    "w1 = ''\n",
    "c = 0\n",
    "for i in s:\n",
    "    c += 1\n",
    "    if i not in [\" \",\".\"]:\n",
    "        w1 = w1 + i\n",
    "    else:\n",
    "        if w1 == w:\n",
    "            found = c-len(w1)-1\n",
    "        w1 = ''\n",
    "\n",
    "print(\"Last occurence of the word is at :\",found)"
   ]
  },
  {
   "cell_type": "markdown",
   "id": "afa1fc2a-15c4-4cdb-bce2-977fb2bd6c41",
   "metadata": {},
   "source": [
    "14. Split a string into a list of words."
   ]
  },
  {
   "cell_type": "code",
   "execution_count": 12,
   "id": "024f0664-4af7-41a1-b660-bf35a823f4f1",
   "metadata": {},
   "outputs": [
    {
     "name": "stdin",
     "output_type": "stream",
     "text": [
      "Enter a sentence : I am a data scientist.\n"
     ]
    },
    {
     "name": "stdout",
     "output_type": "stream",
     "text": [
      "Required list : ['I', 'am', 'a', 'data', 'scientist']\n"
     ]
    }
   ],
   "source": [
    "# taking input as string\n",
    "s = input(\"Enter a sentence :\")\n",
    "\n",
    "# splitting a string into list of words\n",
    "l = []\n",
    "w1 = ''\n",
    "for i in s:\n",
    "    if i not in [\" \",\".\"]:\n",
    "        w1 = w1 + i\n",
    "    else:\n",
    "        l.append(w1)\n",
    "        w1 = ''\n",
    "        \n",
    "print(\"Required list :\",l)"
   ]
  },
  {
   "cell_type": "markdown",
   "id": "ad0f7861-1da0-4ac2-9f7b-3571c715736f",
   "metadata": {},
   "source": [
    "15. Join a list of words into a string."
   ]
  },
  {
   "cell_type": "code",
   "execution_count": 18,
   "id": "792ff122-ff12-425f-ae57-edf36dabdde8",
   "metadata": {},
   "outputs": [
    {
     "name": "stdin",
     "output_type": "stream",
     "text": [
      "Enter list of words to join seperated by spaces : i am a data scientist\n"
     ]
    },
    {
     "name": "stdout",
     "output_type": "stream",
     "text": [
      "List of words to join : ['i', 'am', 'a', 'data', 'scientist']\n",
      "New string : i am a data scientist\n"
     ]
    }
   ],
   "source": [
    "# taking input as string\n",
    "list_words = input(\"Enter list of words to join seperated by spaces :\").split()\n",
    "print(\"List of words to join :\",list_words)\n",
    "# joining list of words into a string\n",
    "s1 = \" \".join(list_words)\n",
    "\n",
    "print(\"New string :\",s1)"
   ]
  },
  {
   "cell_type": "markdown",
   "id": "e1623866-a1dd-4970-aae7-ad33f2ef8173",
   "metadata": {},
   "source": [
    "16. Convert a string where words are separated by spaces to one where words\n",
    "are separated by underscores."
   ]
  },
  {
   "cell_type": "code",
   "execution_count": 21,
   "id": "fa0aa146-b104-4c9e-bd88-89e94d878e87",
   "metadata": {},
   "outputs": [
    {
     "name": "stdout",
     "output_type": "stream",
     "text": [
      "New converted string : I_am_a_data_scientist\n"
     ]
    }
   ],
   "source": [
    "s = \"I am a data scientist\"\n",
    "s1 = \"\"\n",
    "for i in s:\n",
    "    if i == \" \":\n",
    "        s1 = s1 + \"_\"\n",
    "    else:\n",
    "        s1 = s1 + i\n",
    "        \n",
    "print(\"New converted string :\",s1)"
   ]
  },
  {
   "cell_type": "markdown",
   "id": "6ba2052f-eee8-4a12-858c-524cc525fc17",
   "metadata": {},
   "source": [
    "17. Check if a string starts with a specific word or phrase."
   ]
  },
  {
   "cell_type": "code",
   "execution_count": 20,
   "id": "b4ef33e0-78ab-4899-ac09-d16d5e93dd7e",
   "metadata": {},
   "outputs": [
    {
     "name": "stdout",
     "output_type": "stream",
     "text": [
      "The string doesn't starts with the word 'Suman'\n"
     ]
    }
   ],
   "source": [
    "s = \"Suman is a data scientist\"\n",
    "if s.startswith(\"is\"):\n",
    "    print(\"The string starts with the word 'Suman'\")\n",
    "else:\n",
    "    print(\"The string doesn't starts with the word 'Suman'\")"
   ]
  },
  {
   "cell_type": "markdown",
   "id": "f622fb66-da5c-4d3d-9ff2-703b6cd66bc6",
   "metadata": {},
   "source": [
    "18. Check if a string ends with a specific word or phrase."
   ]
  },
  {
   "cell_type": "code",
   "execution_count": 18,
   "id": "24391a8a-d031-4d1f-9d14-eb0bdc5e10dd",
   "metadata": {},
   "outputs": [
    {
     "name": "stdout",
     "output_type": "stream",
     "text": [
      "The string ends with the word 'scientist'\n"
     ]
    }
   ],
   "source": [
    "s = \"I am a data scientist\"\n",
    "if s.endswith(\"scientist\"):\n",
    "    print(\"The string ends with the word 'scientist'\")\n",
    "else:\n",
    "    print(\"The string doesn't ends with the word 'scientist'\")"
   ]
  },
  {
   "cell_type": "markdown",
   "id": "c4f69330-8477-4a61-80f1-e2feebacdc04",
   "metadata": {},
   "source": [
    "19. Convert a string to title case (e.g., \"hello world\" to \"Hello World\")."
   ]
  },
  {
   "cell_type": "code",
   "execution_count": 12,
   "id": "c6238244-c7d8-4bf1-8cae-f88ab315b77e",
   "metadata": {},
   "outputs": [
    {
     "data": {
      "text/plain": [
       "'Hello World'"
      ]
     },
     "execution_count": 12,
     "metadata": {},
     "output_type": "execute_result"
    }
   ],
   "source": [
    "s = \"hello world\"\n",
    "s.title()"
   ]
  },
  {
   "cell_type": "markdown",
   "id": "edf909df-7514-44d4-8242-7dd866122b4a",
   "metadata": {},
   "source": [
    "20. Find the longest word in a string."
   ]
  },
  {
   "cell_type": "code",
   "execution_count": 7,
   "id": "32363055-2174-4e67-81b4-ac2d82962808",
   "metadata": {},
   "outputs": [
    {
     "name": "stdout",
     "output_type": "stream",
     "text": [
      "Longest word in a string : scientist\n"
     ]
    }
   ],
   "source": [
    "s = \"I am a data scientist.\"\n",
    "w = \"\"\n",
    "longest_word = \"\"\n",
    "length_word = 0\n",
    "for i in s:\n",
    "    if i not in [\" \",\".\"]:\n",
    "        w = w + i\n",
    "    else:\n",
    "        if len(w) >= length_word:\n",
    "            longest_word = w\n",
    "            length_word = len(w)\n",
    "        w = \"\"\n",
    "        \n",
    "print(\"Longest word in a string :\",longest_word)"
   ]
  },
  {
   "cell_type": "markdown",
   "id": "e4bc179e-15a8-4896-b732-3fdc36545417",
   "metadata": {},
   "source": [
    "21. Find the shortest word in a string."
   ]
  },
  {
   "cell_type": "code",
   "execution_count": 9,
   "id": "06628cb2-fb4e-48b3-8bb3-eec54c3e473e",
   "metadata": {},
   "outputs": [
    {
     "name": "stdout",
     "output_type": "stream",
     "text": [
      "Longest word in a string : a\n"
     ]
    }
   ],
   "source": [
    "s = \"I am a data scientist.\"\n",
    "w = \"\"\n",
    "shortest_word = \"\"\n",
    "length_word = 1\n",
    "for i in s:\n",
    "    if i not in [\" \",\".\"]:\n",
    "        w = w + i\n",
    "    else:\n",
    "        if len(w) <= length_word:\n",
    "            shortest_word = w\n",
    "            length_word = len(w)\n",
    "        w = \"\"\n",
    "        \n",
    "print(\"Longest word in a string :\",shortest_word)"
   ]
  },
  {
   "cell_type": "markdown",
   "id": "c3535ba5-c802-4fc1-a90b-833f90845403",
   "metadata": {},
   "source": [
    "22. Reverse the order of words in a string."
   ]
  },
  {
   "cell_type": "code",
   "execution_count": 11,
   "id": "b28e035a-ec9f-4194-9170-67ea468f01fc",
   "metadata": {},
   "outputs": [
    {
     "name": "stdout",
     "output_type": "stream",
     "text": [
      "New string : scientist data a am I \n"
     ]
    }
   ],
   "source": [
    "s = \"I am a data scientist.\"\n",
    "w = \"\"\n",
    "rev = \"\"\n",
    "for i in s:\n",
    "    if i not in [\" \",\".\"]:\n",
    "        w = w + i\n",
    "    else:\n",
    "        rev = w + \" \" + rev\n",
    "        w = \"\"\n",
    "        \n",
    "print(\"New string :\",rev)"
   ]
  },
  {
   "cell_type": "markdown",
   "id": "adbe3824-b4ec-417a-9bcb-5da66bb678a6",
   "metadata": {},
   "source": [
    "23. Check if a string is alphanumeric."
   ]
  },
  {
   "cell_type": "code",
   "execution_count": 11,
   "id": "faa7c7e7-cd1b-4f02-9fd3-8d08dcd285c8",
   "metadata": {},
   "outputs": [
    {
     "name": "stdout",
     "output_type": "stream",
     "text": [
      "Given string is alphanumeric\n"
     ]
    }
   ],
   "source": [
    "s = \"Pwskills2023\"\n",
    "\n",
    "if s.isalnum():\n",
    "    print(\"Given string is alphanumeric\")\n",
    "else:\n",
    "    print(\"Given string is not alphanumeric\")"
   ]
  },
  {
   "cell_type": "markdown",
   "id": "022cf874-d5c2-408f-9c10-e3e1af144eff",
   "metadata": {},
   "source": [
    "24. Extract all digits from a string."
   ]
  },
  {
   "cell_type": "code",
   "execution_count": 8,
   "id": "80504c0d-e82a-4ca3-9c09-98bbc639dc36",
   "metadata": {},
   "outputs": [
    {
     "name": "stdout",
     "output_type": "stream",
     "text": [
      "Digits present in a string :\n",
      "2\n",
      "4\n",
      "3\n"
     ]
    }
   ],
   "source": [
    "s = '23Pwskills24'\n",
    "print(\"Digits present in a string :\")\n",
    "s1 = set()\n",
    "for i in s:\n",
    "    if i.isnumeric():\n",
    "        s1.add(i)\n",
    "\n",
    "for i in s1:\n",
    "    print(i)"
   ]
  },
  {
   "cell_type": "markdown",
   "id": "ec637c51-870a-48d1-989e-efabe7332d1f",
   "metadata": {},
   "source": [
    "25. Extract all alphabets from a string."
   ]
  },
  {
   "cell_type": "code",
   "execution_count": 9,
   "id": "b18a8d41-4f4f-4ee3-b959-228b5a1a2943",
   "metadata": {},
   "outputs": [
    {
     "name": "stdout",
     "output_type": "stream",
     "text": [
      "Alphabets present in a string :\n",
      "l\n",
      "P\n",
      "w\n",
      "k\n",
      "s\n",
      "i\n"
     ]
    }
   ],
   "source": [
    "s = '23Pwskills24'\n",
    "print(\"Alphabets present in a string :\")\n",
    "s1 = set()\n",
    "for i in s:\n",
    "    if i.isalpha():\n",
    "        s1.add(i)\n",
    "\n",
    "for i in s1:\n",
    "    print(i)"
   ]
  },
  {
   "cell_type": "markdown",
   "id": "59cddf10-3a20-48d3-8dc8-3c272321d12c",
   "metadata": {},
   "source": [
    "26. Count the number of uppercase letters in a string."
   ]
  },
  {
   "cell_type": "code",
   "execution_count": 1,
   "id": "68f43843-3fc9-4ade-a461-168892170890",
   "metadata": {},
   "outputs": [
    {
     "name": "stdin",
     "output_type": "stream",
     "text": [
      "Enter a sentence : I am a Data Scientist\n"
     ]
    },
    {
     "name": "stdout",
     "output_type": "stream",
     "text": [
      "The number of uppercase letters in the given string is 3\n"
     ]
    }
   ],
   "source": [
    "# Take user input as string\n",
    "s = input(\"Enter a sentence :\")\n",
    "\n",
    "# Counting the number of uppercase letters\n",
    "count = 0\n",
    "i = 0\n",
    "while i < len(s):\n",
    "    if s[i].isupper():\n",
    "        count += 1\n",
    "    i += 1\n",
    "    \n",
    "print(\"The number of uppercase letters in the given string is\",count)"
   ]
  },
  {
   "cell_type": "markdown",
   "id": "75a29d57-d284-44ce-9e8c-3def6d4c9520",
   "metadata": {},
   "source": [
    "27. Count the number of lowercase letters in a string."
   ]
  },
  {
   "cell_type": "code",
   "execution_count": 2,
   "id": "5dbf6e2c-0f2c-465a-902b-7d896869a53b",
   "metadata": {},
   "outputs": [
    {
     "name": "stdin",
     "output_type": "stream",
     "text": [
      "Enter a sentence : Patience is the key to success\n"
     ]
    },
    {
     "name": "stdout",
     "output_type": "stream",
     "text": [
      "The number of lowercase letters in the given string is 24\n"
     ]
    }
   ],
   "source": [
    "# Take user input as string\n",
    "s = input(\"Enter a sentence :\")\n",
    "\n",
    "# Counting the number of lowercase letters\n",
    "count = 0\n",
    "i = 0\n",
    "while i < len(s):\n",
    "    if s[i].islower():\n",
    "        count += 1\n",
    "    i += 1\n",
    "    \n",
    "print(\"The number of lowercase letters in the given string is\",count)"
   ]
  },
  {
   "cell_type": "markdown",
   "id": "6ba84ad9-cbf6-4e36-9761-68c438fb80bc",
   "metadata": {},
   "source": [
    "28. Swap the case of each character in a string."
   ]
  },
  {
   "cell_type": "code",
   "execution_count": 5,
   "id": "32c12351-bfa7-43b7-b573-210e23f8ef83",
   "metadata": {},
   "outputs": [
    {
     "name": "stdin",
     "output_type": "stream",
     "text": [
      "Enter a Sentence : Pw is a Brand\n"
     ]
    },
    {
     "name": "stdout",
     "output_type": "stream",
     "text": [
      "After swapping the string becomes : pW IS A bRAND\n"
     ]
    }
   ],
   "source": [
    "# Take user input as string\n",
    "s = input(\"Enter a Sentence :\")\n",
    "\n",
    "# swapping case of each character\n",
    "s1 = \"\"\n",
    "i = 0\n",
    "while i < len(s):\n",
    "    if s[i].isupper():\n",
    "        s1 = s1 + s[i].lower()\n",
    "    elif s[i].islower():\n",
    "        s1 = s1 + s[i].upper()    \n",
    "    else:\n",
    "        s1 = s1 + s[i]\n",
    "    i += 1\n",
    "\n",
    "print(\"After swapping the string becomes :\",s1)"
   ]
  },
  {
   "cell_type": "markdown",
   "id": "5686f01a-cdd6-45eb-87cb-4d9501f70baf",
   "metadata": {},
   "source": [
    "29. Remove a specific word from a string."
   ]
  },
  {
   "cell_type": "code",
   "execution_count": 16,
   "id": "796bcd9f-fff7-49aa-846e-4f148f480db7",
   "metadata": {},
   "outputs": [
    {
     "name": "stdin",
     "output_type": "stream",
     "text": [
      "Enter word to remove in a declared string : data\n"
     ]
    },
    {
     "name": "stdout",
     "output_type": "stream",
     "text": [
      "New string :  I am a scientist\n"
     ]
    }
   ],
   "source": [
    "s = \"I am a data scientist\"\n",
    "s1 = \"\"\n",
    "l = s.split()\n",
    "w = input(\"Enter word to remove in a declared string :\")\n",
    "l.remove(w)\n",
    "for i in l:\n",
    "    s1 = s1 + \" \" + i\n",
    "print(\"New string :\",s1)"
   ]
  },
  {
   "cell_type": "markdown",
   "id": "2a7a0bb8-b141-4d50-b52c-e9d7cebb20d7",
   "metadata": {},
   "source": [
    "30. Check if a string is a valid email address."
   ]
  },
  {
   "cell_type": "code",
   "execution_count": 23,
   "id": "bb834704-b2d0-47f6-b7df-c25e12d70997",
   "metadata": {},
   "outputs": [],
   "source": [
    "# "
   ]
  },
  {
   "cell_type": "markdown",
   "id": "9636e4f0-2dba-4ad2-a039-ad2294518fad",
   "metadata": {},
   "source": [
    "31. Extract the username from an email address string."
   ]
  },
  {
   "cell_type": "code",
   "execution_count": 24,
   "id": "537e350d-d405-4617-a38d-1f8ae4c115ee",
   "metadata": {},
   "outputs": [],
   "source": [
    "# "
   ]
  },
  {
   "cell_type": "markdown",
   "id": "33656c82-b9a5-4274-b103-a650e6704e10",
   "metadata": {},
   "source": [
    "32. Extract the domain name from an email address string."
   ]
  },
  {
   "cell_type": "code",
   "execution_count": 25,
   "id": "3304d7d6-1757-4b47-90b8-514522ab9239",
   "metadata": {},
   "outputs": [],
   "source": [
    "# "
   ]
  },
  {
   "cell_type": "markdown",
   "id": "6aec4f6c-87d4-434c-9ad0-3749684fbb28",
   "metadata": {},
   "source": [
    "33. Replace multiple spaces in a string with a single space."
   ]
  },
  {
   "cell_type": "code",
   "execution_count": 19,
   "id": "37de8893-a1d7-4317-8eff-a6fc49c938f4",
   "metadata": {},
   "outputs": [
    {
     "name": "stdout",
     "output_type": "stream",
     "text": [
      "New String :  I am a data scientist\n"
     ]
    }
   ],
   "source": [
    "s = \"I  am   a    data      scientist\"\n",
    "l = s.split()\n",
    "s1 = \"\"\n",
    "for i in l:\n",
    "    s1 = s1 + \" \" + i\n",
    "    \n",
    "print(\"New String :\",s1)"
   ]
  },
  {
   "cell_type": "markdown",
   "id": "0373a369-73aa-4f82-9531-c625faa3edf6",
   "metadata": {},
   "source": [
    "34. Check if a string is a valid URL."
   ]
  },
  {
   "cell_type": "code",
   "execution_count": 27,
   "id": "afb6ad61-c5cb-4782-abd7-1e68dc686bf0",
   "metadata": {},
   "outputs": [],
   "source": [
    "# "
   ]
  },
  {
   "cell_type": "markdown",
   "id": "11acc12e-3f7b-4774-86d6-13ff19b09f32",
   "metadata": {},
   "source": [
    "35. Extract the protocol (http or https) from a URL string."
   ]
  },
  {
   "cell_type": "code",
   "execution_count": 28,
   "id": "95ba55fd-6b7e-48ca-87c8-ff60ae61f259",
   "metadata": {},
   "outputs": [],
   "source": [
    "# "
   ]
  },
  {
   "cell_type": "markdown",
   "id": "5566418d-7435-4a78-a3ef-513271966536",
   "metadata": {},
   "source": [
    "36. Find the frequency of each character in a string."
   ]
  },
  {
   "cell_type": "code",
   "execution_count": 32,
   "id": "02a4f61f-5691-41c7-af00-6a1445c1dcf9",
   "metadata": {},
   "outputs": [
    {
     "name": "stdout",
     "output_type": "stream",
     "text": [
      "Set of characters in the string : {'n', ' ', 'a', 't', 'c', 'I', 'm', 's', 'i', 'd', 'e'}\n",
      "Frequency of charcter n ---  1\n",
      "Frequency of charcter   ---  4\n",
      "Frequency of charcter a ---  4\n",
      "Frequency of charcter t ---  3\n",
      "Frequency of charcter c ---  1\n",
      "Frequency of charcter I ---  1\n",
      "Frequency of charcter m ---  1\n",
      "Frequency of charcter s ---  2\n",
      "Frequency of charcter i ---  2\n",
      "Frequency of charcter d ---  1\n",
      "Frequency of charcter e ---  1\n"
     ]
    }
   ],
   "source": [
    "s = \"I am a data scientist\"\n",
    "ch = set(s)\n",
    "print(\"Set of characters in the string :\",ch) \n",
    "for i in ch:\n",
    "    f = 0\n",
    "    for j in s:\n",
    "        if i == j:\n",
    "            f += 1\n",
    "    print(\"Frequency of charcter\",i,\"--- \",f)"
   ]
  },
  {
   "cell_type": "markdown",
   "id": "98fd77e3-b531-4be4-8292-163874acd797",
   "metadata": {},
   "source": [
    "37. Remove all punctuation from a string."
   ]
  },
  {
   "cell_type": "code",
   "execution_count": 30,
   "id": "2fc59440-11ca-4aa2-99a7-b9427d2e2a06",
   "metadata": {},
   "outputs": [],
   "source": [
    "# list of punctuation\n",
    "l = [\".\",\",\",\"?\",\"!\",\":\",\";\",\"'\"]\n",
    "s = \"\""
   ]
  },
  {
   "cell_type": "markdown",
   "id": "e60d27fb-9f8d-4150-a0eb-1191e025badb",
   "metadata": {},
   "source": [
    "38. Check if a string contains only digits."
   ]
  },
  {
   "cell_type": "code",
   "execution_count": 29,
   "id": "19c0b176-b1a7-4b7a-b094-40e92ecd52ab",
   "metadata": {},
   "outputs": [
    {
     "name": "stdout",
     "output_type": "stream",
     "text": [
      "String contains only digits\n"
     ]
    }
   ],
   "source": [
    "s = \"9748494087\"\n",
    "\n",
    "if s.isnumeric():\n",
    "    print(\"String contains only digits\")\n",
    "else:\n",
    "    print(\"String doesn't contain only digits\")"
   ]
  },
  {
   "cell_type": "markdown",
   "id": "e42dfaf6-d4d2-4ff9-a480-574e3cd0f6f9",
   "metadata": {},
   "source": [
    "39. Check if a string contains only alphabets."
   ]
  },
  {
   "cell_type": "code",
   "execution_count": 26,
   "id": "b2f0242c-c668-4ae1-b976-0f04ffeef05d",
   "metadata": {},
   "outputs": [
    {
     "name": "stdout",
     "output_type": "stream",
     "text": [
      "Input string contains only alphabets\n"
     ]
    }
   ],
   "source": [
    "s = \"Pwskills\"\n",
    "\n",
    "if s.isalpha():\n",
    "    print(\"Input string contains only alphabets\")\n",
    "else:\n",
    "    print(\"Input string doen't contain only alphabets\")"
   ]
  },
  {
   "cell_type": "markdown",
   "id": "206e19d3-ff64-428a-9a55-2e87ea870a0c",
   "metadata": {},
   "source": [
    "40. Convert a string to a list of characters."
   ]
  },
  {
   "cell_type": "code",
   "execution_count": 23,
   "id": "102629ad-345d-437e-aeef-bab84ddff6f7",
   "metadata": {},
   "outputs": [
    {
     "name": "stdout",
     "output_type": "stream",
     "text": [
      "List of characters in a string : ['l', 'P', 'w', 'k', 's', 'i']\n"
     ]
    }
   ],
   "source": [
    "s = \"Pwskills\"\n",
    "print(\"List of characters in a string :\",list(set(s)))"
   ]
  },
  {
   "cell_type": "markdown",
   "id": "7e8d9b1d-35d3-4189-800b-fb0f2b774fc4",
   "metadata": {},
   "source": [
    "41. Check if two strings are anagrams."
   ]
  },
  {
   "cell_type": "code",
   "execution_count": 34,
   "id": "7d645ed7-4250-4cba-9a9c-e7a46333be53",
   "metadata": {},
   "outputs": [],
   "source": [
    "# "
   ]
  },
  {
   "cell_type": "markdown",
   "id": "1398a138-78f4-4ea3-a490-2b3e36e04b66",
   "metadata": {},
   "source": [
    "42. Encode a string using a Caesar cipher."
   ]
  },
  {
   "cell_type": "code",
   "execution_count": 35,
   "id": "3c5d6899-dbad-45b7-a870-e8ed3ec51b07",
   "metadata": {},
   "outputs": [],
   "source": [
    "# "
   ]
  },
  {
   "cell_type": "markdown",
   "id": "8c7793a5-ddb8-4693-89c5-0e467565421a",
   "metadata": {},
   "source": [
    "43. Decode a Caesar cipher encoded string."
   ]
  },
  {
   "cell_type": "code",
   "execution_count": 36,
   "id": "02c3c489-bde9-4d5e-b56e-e11416139e02",
   "metadata": {},
   "outputs": [],
   "source": [
    "# "
   ]
  },
  {
   "cell_type": "markdown",
   "id": "77faf165-faf1-4163-8975-e27d7e7c0a7b",
   "metadata": {},
   "source": [
    "44. Find the most frequent word in a string."
   ]
  },
  {
   "cell_type": "code",
   "execution_count": 16,
   "id": "122805d0-717e-4734-840e-e0e09c2ef6f5",
   "metadata": {},
   "outputs": [
    {
     "name": "stdin",
     "output_type": "stream",
     "text": [
      "Enter a string I am a data scientist and data analyst\n"
     ]
    },
    {
     "name": "stdout",
     "output_type": "stream",
     "text": [
      "Most frequent word : data\n"
     ]
    }
   ],
   "source": [
    "s = input(\"Enter a string\")\n",
    "l = s.split()\n",
    "high_freq = 0\n",
    "highfreq_word = \"\"\n",
    "for i in l:\n",
    "    count_words = 0\n",
    "    for j in l:\n",
    "        if i == j:\n",
    "            count_words += 1\n",
    "    if count_words >= high_freq:\n",
    "        highfreq_word = i\n",
    "        high_freq = count_words\n",
    "print(\"Most frequent word :\",highfreq_word)"
   ]
  },
  {
   "cell_type": "markdown",
   "id": "7ee62207-81db-466d-9365-ceeff65f142f",
   "metadata": {},
   "source": [
    "45. Find all unique words in a string."
   ]
  },
  {
   "cell_type": "code",
   "execution_count": 15,
   "id": "e042f631-8da9-497e-9d03-c9ca1a2227ba",
   "metadata": {},
   "outputs": [
    {
     "name": "stdin",
     "output_type": "stream",
     "text": [
      "Enter the string : I am a data scientist and data analyst\n"
     ]
    },
    {
     "name": "stdout",
     "output_type": "stream",
     "text": [
      "List of unique words : ['a', 'and', 'am', 'data', 'scientist', 'analyst', 'I']\n"
     ]
    }
   ],
   "source": [
    "s = input(\"Enter the string :\")\n",
    "print(\"List of unique words :\",list(set(s.split())))\n"
   ]
  },
  {
   "cell_type": "markdown",
   "id": "9dfb3b70-a68b-4f6b-9598-e179f2790a95",
   "metadata": {},
   "source": [
    "46. Count the number of syllables in a string."
   ]
  },
  {
   "cell_type": "code",
   "execution_count": 39,
   "id": "2203ba51-5b93-4597-833c-15f01b154625",
   "metadata": {},
   "outputs": [],
   "source": [
    "# "
   ]
  },
  {
   "cell_type": "markdown",
   "id": "ed6645f0-b446-4fd3-b2eb-4d224d326b12",
   "metadata": {},
   "source": [
    "47. Check if a string contains any special characters."
   ]
  },
  {
   "cell_type": "code",
   "execution_count": 13,
   "id": "46720061-eaf9-41af-9f4e-0b0e495274f0",
   "metadata": {},
   "outputs": [
    {
     "name": "stdin",
     "output_type": "stream",
     "text": [
      "Enter a string : Hurrah! i have become a data scientist\n"
     ]
    },
    {
     "name": "stdout",
     "output_type": "stream",
     "text": [
      "String contains special characters\n"
     ]
    }
   ],
   "source": [
    "# declaring a list if special characters\n",
    "s = input(\"Enter a string :\")\n",
    "l = [\" \",\"@\",\"$\",\"_\",\"!\",\",\"]\n",
    "for i in s:\n",
    "    if i in l:\n",
    "        c = True\n",
    "        break\n",
    "    else:\n",
    "        c = False\n",
    "if c == True:\n",
    "    print(\"String contains special characters\")\n",
    "else:\n",
    "    print(\"String doesn't contains special characters\")"
   ]
  },
  {
   "cell_type": "markdown",
   "id": "4b59567d-1ed8-432a-9599-3a9e37cde0e1",
   "metadata": {},
   "source": [
    "48. Remove the nth word from a string."
   ]
  },
  {
   "cell_type": "code",
   "execution_count": 8,
   "id": "f6ba1f60-bb12-49a3-873a-8ab200322dba",
   "metadata": {},
   "outputs": [
    {
     "name": "stdin",
     "output_type": "stream",
     "text": [
      "Enter a string : I am a data scientist\n",
      "Enter the nth position of word to remove : 4\n"
     ]
    },
    {
     "name": "stdout",
     "output_type": "stream",
     "text": [
      "New string : I am a scientist \n"
     ]
    }
   ],
   "source": [
    "s = input(\"Enter a string :\")\n",
    "n = int(input(\"Enter the nth position of word to remove :\"))\n",
    "words = s.split()\n",
    "words.pop(n-1)\n",
    "s1 = \"\"\n",
    "for i in words:\n",
    "        s1 = s1 + i + \" \"\n",
    "print(\"New string :\",s1)\n",
    "    "
   ]
  },
  {
   "cell_type": "markdown",
   "id": "622aab17-f812-414e-b661-083111e6e492",
   "metadata": {},
   "source": [
    "49. Insert a word at the nth position in a string."
   ]
  },
  {
   "cell_type": "code",
   "execution_count": 3,
   "id": "882b204e-c671-4f8e-87c8-704c77b5aa4d",
   "metadata": {},
   "outputs": [
    {
     "name": "stdin",
     "output_type": "stream",
     "text": [
      "Enter a string : I am a scientist.\n",
      "Enter the index position for word to insert in a string : 7\n",
      "Enter word to insert : data\n"
     ]
    },
    {
     "name": "stdout",
     "output_type": "stream",
     "text": [
      "New string : I am a data scientist.\n"
     ]
    }
   ],
   "source": [
    "s = input(\"Enter a string :\")\n",
    "n = int(input(\"Enter the index position for word to insert in a string :\"))\n",
    "w = input(\"Enter word to insert :\")\n",
    "s1 = \"\"\n",
    "c = 0\n",
    "for i in s:\n",
    "    if n == c :\n",
    "        s1 = s1 + w + \" \"\n",
    "    c += 1\n",
    "    s1 = s1 + i \n",
    "print(\"New string :\",s1)    "
   ]
  },
  {
   "cell_type": "markdown",
   "id": "676308eb-fcf8-4dd2-877d-b6b098bdcba0",
   "metadata": {},
   "source": [
    "50. Convert a CSV string to a list of lists."
   ]
  },
  {
   "cell_type": "code",
   "execution_count": 43,
   "id": "2c62c9ea-fd26-443b-8524-c620e5cbc1d4",
   "metadata": {},
   "outputs": [],
   "source": [
    "# "
   ]
  },
  {
   "cell_type": "markdown",
   "id": "32724eb9-8c25-49ad-bffd-b267d8d86f9b",
   "metadata": {
    "jupyter": {
     "source_hidden": true
    },
    "tags": []
   },
   "source": []
  },
  {
   "cell_type": "markdown",
   "id": "a3eae5c0-90b6-4033-bc35-155891f7dd24",
   "metadata": {},
   "source": [
    "List Based Practice Problem :"
   ]
  },
  {
   "cell_type": "markdown",
   "id": "e24149a9-505a-4ea6-80fa-f1c6c6346703",
   "metadata": {},
   "source": [
    "1. Create a list with integers from 1 to 10."
   ]
  },
  {
   "cell_type": "code",
   "execution_count": 26,
   "id": "931cc1c7-9976-4b60-b8f1-8d74d1376144",
   "metadata": {},
   "outputs": [],
   "source": [
    "# list of integers from 1 to 10\n",
    "l = [1,2,3,4,5,6,7,8,9,10]"
   ]
  },
  {
   "cell_type": "markdown",
   "id": "7c6a5eae-3844-4091-b6fe-fd976913d3bb",
   "metadata": {},
   "source": [
    "2. Find the length of a list without using the `len()` function."
   ]
  },
  {
   "cell_type": "code",
   "execution_count": 27,
   "id": "2d3d4236-565d-4523-b403-80380fd83ff5",
   "metadata": {},
   "outputs": [
    {
     "name": "stdout",
     "output_type": "stream",
     "text": [
      "The list is :\n",
      "[1, 2, 3, 4, 5, 6, 7, 8, 9, 10]\n",
      "The length of the list : 10\n"
     ]
    }
   ],
   "source": [
    "# displaying the list\n",
    "print(\"The list is :\")\n",
    "print(l)\n",
    "\n",
    "# findind the length of the above list\n",
    "c = 0\n",
    "for i in l:\n",
    "    c += 1\n",
    "\n",
    "print(\"The length of the list :\",c)"
   ]
  },
  {
   "cell_type": "markdown",
   "id": "d4857b1b-7eb9-4902-acd3-9cc60024c351",
   "metadata": {},
   "source": [
    "3. Append an element to the end of a list."
   ]
  },
  {
   "cell_type": "code",
   "execution_count": 28,
   "id": "f74063f3-21ef-45a8-9330-54ec63292fe5",
   "metadata": {},
   "outputs": [
    {
     "name": "stdout",
     "output_type": "stream",
     "text": [
      "The list is :\n",
      "[1, 2, 3, 4, 5, 6, 7, 8, 9, 10]\n",
      "\n",
      "The modified list is :\n",
      "[1, 2, 3, 4, 5, 6, 7, 8, 9, 10, 'pwskills']\n"
     ]
    }
   ],
   "source": [
    "# displaying the list\n",
    "print(\"The list is :\")\n",
    "print(l)\n",
    "print()\n",
    "\n",
    "# appending an element to the end of the list\n",
    "l.append(\"pwskills\")\n",
    "print(\"The modified list is :\")\n",
    "print(l)"
   ]
  },
  {
   "cell_type": "markdown",
   "id": "362a66f4-810b-49f4-96ef-ee863d9654b4",
   "metadata": {},
   "source": [
    "4. Insert an element at a specific index in a list."
   ]
  },
  {
   "cell_type": "code",
   "execution_count": 30,
   "id": "a134efab-f562-4d1d-9964-3c4d022f7300",
   "metadata": {},
   "outputs": [
    {
     "name": "stdout",
     "output_type": "stream",
     "text": [
      "The list is :\n",
      "[1, 2, 3, 4, 5, 6, 7, 8, 9, 10, 'pwskills']\n",
      "\n",
      "The modified list is :\n",
      "[1, 2, 3, 'skills', 4, 5, 6, 7, 8, 9, 10, 'pwskills']\n"
     ]
    }
   ],
   "source": [
    "# displaying the list\n",
    "print(\"The list is :\")\n",
    "print(l)\n",
    "print()\n",
    "\n",
    "# appending an element to\n",
    "l.insert(3,\"skills\")\n",
    "print(\"The modified list is :\")\n",
    "print(l)"
   ]
  },
  {
   "cell_type": "markdown",
   "id": "672efd18-fbb3-48c6-b194-ad58c297a368",
   "metadata": {},
   "source": [
    "5. Remove an element from a list by its value."
   ]
  },
  {
   "cell_type": "code",
   "execution_count": 36,
   "id": "af39e8c5-288c-48d1-aa3c-0eb07c416cc9",
   "metadata": {},
   "outputs": [
    {
     "data": {
      "text/plain": [
       "[1, 2, 4, 'kolkata']"
      ]
     },
     "execution_count": 36,
     "metadata": {},
     "output_type": "execute_result"
    }
   ],
   "source": [
    "l = [1,2,\"india\",4,\"kolkata\"]\n",
    "\n",
    "l.remove(\"india\")\n",
    "l"
   ]
  },
  {
   "cell_type": "markdown",
   "id": "698b7b80-fbbb-46f7-860d-36dfc47b7cce",
   "metadata": {},
   "source": [
    "6. Remove an element from a list by its index."
   ]
  },
  {
   "cell_type": "code",
   "execution_count": 39,
   "id": "18ccb5b7-2d61-4f68-b0c4-2408c28067d4",
   "metadata": {},
   "outputs": [
    {
     "data": {
      "text/plain": [
       "[1, 'india', 4, 'kolkata']"
      ]
     },
     "execution_count": 39,
     "metadata": {},
     "output_type": "execute_result"
    }
   ],
   "source": [
    "l = [1,2,\"india\",4,\"kolkata\"]\n",
    "\n",
    "l.pop(1)\n",
    "l"
   ]
  },
  {
   "cell_type": "markdown",
   "id": "07c86df0-9b90-4c55-ba03-4222942863dc",
   "metadata": {},
   "source": [
    "7. Check if an element exists in a list."
   ]
  },
  {
   "cell_type": "code",
   "execution_count": 41,
   "id": "0a38543e-cbb9-4175-a80e-d88f5f752ee4",
   "metadata": {},
   "outputs": [
    {
     "name": "stdin",
     "output_type": "stream",
     "text": [
      "Enter the element you want to search 6\n"
     ]
    },
    {
     "name": "stdout",
     "output_type": "stream",
     "text": [
      "It's not present in the list\n"
     ]
    }
   ],
   "source": [
    "l = [1,2,3,4,5]\n",
    "\n",
    "if int(input(\"Enter the element you want to search\")) in l:\n",
    "    print(\"It's present in the list\")\n",
    "else:\n",
    "    print(\"It's not present in the list\")"
   ]
  },
  {
   "cell_type": "markdown",
   "id": "a7e13dcc-905e-4f37-b469-3c0e9b99a545",
   "metadata": {},
   "source": [
    "8. Find the index of the first occurrence of an element in a list."
   ]
  },
  {
   "cell_type": "code",
   "execution_count": 49,
   "id": "32570539-4279-4afb-848f-842d5970c844",
   "metadata": {},
   "outputs": [
    {
     "data": {
      "text/plain": [
       "2"
      ]
     },
     "execution_count": 49,
     "metadata": {},
     "output_type": "execute_result"
    }
   ],
   "source": [
    "l = [1,2,3,1,4,3]\n",
    "\n",
    "l.index(3)"
   ]
  },
  {
   "cell_type": "markdown",
   "id": "a9b54ea4-2737-41a3-bbbf-af9e78763628",
   "metadata": {},
   "source": [
    "9. Count the occurrences of an element in a list."
   ]
  },
  {
   "cell_type": "code",
   "execution_count": 51,
   "id": "f11925dc-a206-4358-ae18-f52277538c6c",
   "metadata": {},
   "outputs": [
    {
     "data": {
      "text/plain": [
       "2"
      ]
     },
     "execution_count": 51,
     "metadata": {},
     "output_type": "execute_result"
    }
   ],
   "source": [
    "l = [1,2,3,1,4,3]\n",
    "\n",
    "l.count(3)"
   ]
  },
  {
   "cell_type": "markdown",
   "id": "963989b2-e408-49bb-9de4-9e9cfad7c197",
   "metadata": {},
   "source": [
    "10. Reverse the order of elements in a list."
   ]
  },
  {
   "cell_type": "code",
   "execution_count": 47,
   "id": "1b0148b3-1511-460f-9044-156e7bb62d4b",
   "metadata": {},
   "outputs": [
    {
     "data": {
      "text/plain": [
       "[5, 4, 3, 2, 1]"
      ]
     },
     "execution_count": 47,
     "metadata": {},
     "output_type": "execute_result"
    }
   ],
   "source": [
    "l = [1,2,3,4,5]\n",
    "\n",
    "l[::-1]"
   ]
  },
  {
   "cell_type": "markdown",
   "id": "d11fbf2e-b194-41b7-bdc8-fecd68e32032",
   "metadata": {},
   "source": [
    "11. Sort a list in ascending order."
   ]
  },
  {
   "cell_type": "code",
   "execution_count": 45,
   "id": "ad8835bf-f6db-4add-b8c2-7cd4e4ba3eff",
   "metadata": {},
   "outputs": [
    {
     "data": {
      "text/plain": [
       "[1, 2, 3, 4, 6, 7, 8, 9]"
      ]
     },
     "execution_count": 45,
     "metadata": {},
     "output_type": "execute_result"
    }
   ],
   "source": [
    "l = [1,9,3,8,6,4,7,2]\n",
    "\n",
    "sorted(l)"
   ]
  },
  {
   "cell_type": "markdown",
   "id": "a5a9fda4-7b55-4972-a544-7fbfcec7fda1",
   "metadata": {},
   "source": [
    "12. Sort a list in descending order."
   ]
  },
  {
   "cell_type": "code",
   "execution_count": 46,
   "id": "8efba5e8-3fd8-4f2b-8bf9-a49cbd8def53",
   "metadata": {},
   "outputs": [
    {
     "data": {
      "text/plain": [
       "[9, 8, 7, 6, 4, 3, 2, 1]"
      ]
     },
     "execution_count": 46,
     "metadata": {},
     "output_type": "execute_result"
    }
   ],
   "source": [
    "l = [1,9,3,8,6,4,7,2]\n",
    "\n",
    "sorted(l,reverse=True) "
   ]
  },
  {
   "cell_type": "markdown",
   "id": "be08067e-ca0b-416f-8b23-fb919c888230",
   "metadata": {},
   "source": [
    "13. Create a list of even numbers from 1 to 20."
   ]
  },
  {
   "cell_type": "code",
   "execution_count": 42,
   "id": "323a37db-9b82-46d2-8ee4-57a74a7d2a5a",
   "metadata": {},
   "outputs": [
    {
     "name": "stdout",
     "output_type": "stream",
     "text": [
      "List of even numbers from 1 to 20 : [2, 4, 6, 8, 10, 12, 14, 16, 18, 20]\n"
     ]
    }
   ],
   "source": [
    "l = []\n",
    "for i in [i for i in range(1,21) if i % 2 == 0]:\n",
    "    l.append(i)\n",
    "    \n",
    "print(\"List of even numbers from 1 to 20 :\",l)    "
   ]
  },
  {
   "cell_type": "markdown",
   "id": "dfd1c2a7-9599-4730-8a7e-1e60d75b0537",
   "metadata": {},
   "source": [
    "14. Create a list of odd numbers from 1 to 20."
   ]
  },
  {
   "cell_type": "code",
   "execution_count": 43,
   "id": "8f0e2efc-1d3e-4fee-87b0-ebb1d90acafc",
   "metadata": {},
   "outputs": [
    {
     "name": "stdout",
     "output_type": "stream",
     "text": [
      "List of odd numbers from 1 to 20 : [1, 3, 5, 7, 9, 11, 13, 15, 17, 19]\n"
     ]
    }
   ],
   "source": [
    "l = []\n",
    "for i in [i for i in range(1,21) if i % 2 != 0]:\n",
    "    l.append(i)\n",
    "    \n",
    "print(\"List of odd numbers from 1 to 20 :\",l)    "
   ]
  },
  {
   "cell_type": "markdown",
   "id": "5d609fdb-b7d6-464b-a7f2-68a93b8dba48",
   "metadata": {},
   "source": [
    "15. Find the sum of all elements in a list."
   ]
  },
  {
   "cell_type": "code",
   "execution_count": 44,
   "id": "d28f576c-ca78-471a-a1bc-deffe4f6a8c5",
   "metadata": {},
   "outputs": [
    {
     "name": "stdout",
     "output_type": "stream",
     "text": [
      "Sum of all elements in the list : 15\n"
     ]
    }
   ],
   "source": [
    "l = [1,2,3,4,5]\n",
    "s = 0\n",
    "for i in l:\n",
    "    s += i\n",
    "    \n",
    "print(\"Sum of all elements in the list :\",s)"
   ]
  },
  {
   "cell_type": "markdown",
   "id": "bc02477e-2776-4e67-b8f5-a34c51f77439",
   "metadata": {},
   "source": [
    "16. Find the maximum value in a list."
   ]
  },
  {
   "cell_type": "code",
   "execution_count": 52,
   "id": "bf1edad9-174a-4250-8c92-dc45e4e25273",
   "metadata": {},
   "outputs": [
    {
     "name": "stdout",
     "output_type": "stream",
     "text": [
      "Maximum value in the list : 5\n"
     ]
    }
   ],
   "source": [
    "l = [1,2,3,4,5]\n",
    "\n",
    "print(\"Maximum value in the list :\",max(l))"
   ]
  },
  {
   "cell_type": "markdown",
   "id": "17dc78fe-caea-451f-91e4-eeab578e5704",
   "metadata": {},
   "source": [
    "17. Find the minimum value in a list."
   ]
  },
  {
   "cell_type": "code",
   "execution_count": 53,
   "id": "13750d28-f4af-439f-9ec9-accb882670b9",
   "metadata": {},
   "outputs": [
    {
     "name": "stdout",
     "output_type": "stream",
     "text": [
      "Minimum value in a list : 1\n"
     ]
    }
   ],
   "source": [
    "l = [1,2,3,4,5]\n",
    "\n",
    "print(\"Minimum value in a list :\",min(l))"
   ]
  },
  {
   "cell_type": "markdown",
   "id": "a63e1df2-3af1-4b2c-92f4-6848578b9e83",
   "metadata": {},
   "source": [
    "18. Create a list of squares of numbers from 1 to 10."
   ]
  },
  {
   "cell_type": "code",
   "execution_count": 54,
   "id": "a58b1e5c-b26a-4555-8a1b-53e0c307c85c",
   "metadata": {},
   "outputs": [
    {
     "name": "stdout",
     "output_type": "stream",
     "text": [
      "List of Squares of numbers from 1 to 10 : [1, 4, 9, 16, 25, 36, 49, 64, 81, 100]\n"
     ]
    }
   ],
   "source": [
    "l = []\n",
    "\n",
    "for i in range(1,11):\n",
    "    l.append(i**2)\n",
    "    \n",
    "print(\"List of Squares of numbers from 1 to 10 :\",l)"
   ]
  },
  {
   "cell_type": "markdown",
   "id": "5e966840-c7b2-4993-b57e-7d4655e2a765",
   "metadata": {},
   "source": [
    "19. Create a list of random numbers."
   ]
  },
  {
   "cell_type": "code",
   "execution_count": 56,
   "id": "2f92dd00-0fd0-4d0e-a869-05ea498684cc",
   "metadata": {},
   "outputs": [
    {
     "name": "stdin",
     "output_type": "stream",
     "text": [
      "Enter the number of random numbers required : 4\n",
      "Enter any number : 1\n",
      "Enter any number : 5\n",
      "Enter any number : 9\n",
      "Enter any number : 7\n"
     ]
    },
    {
     "name": "stdout",
     "output_type": "stream",
     "text": [
      "User input list : [1, 5, 9, 7]\n"
     ]
    }
   ],
   "source": [
    "n = int(input(\"Enter the number of random numbers required :\"))\n",
    "l = []\n",
    "for i in range(n):\n",
    "    a = int(input(\"Enter any number :\"))\n",
    "    l.append(a)\n",
    "    \n",
    "print(\"User input list :\",l)"
   ]
  },
  {
   "cell_type": "markdown",
   "id": "547b2daf-983b-4d82-9a9e-f5d50c092890",
   "metadata": {},
   "source": [
    "20. Remove duplicates from a list."
   ]
  },
  {
   "cell_type": "code",
   "execution_count": 57,
   "id": "d95f0ebb-bfb3-471c-b0d0-5b4fa61401bc",
   "metadata": {},
   "outputs": [
    {
     "name": "stdout",
     "output_type": "stream",
     "text": [
      "List after remooving duplicates : [1, 2, 3, 4]\n"
     ]
    }
   ],
   "source": [
    "l = [1,2,2,3,3,3,4,4,4,4]\n",
    "\n",
    "print(\"List after remooving duplicates :\",list(set(l)))"
   ]
  },
  {
   "cell_type": "markdown",
   "id": "ea10e6e4-e8da-4566-ad60-d90de2d1dfcb",
   "metadata": {},
   "source": [
    "21. Find the common elements between two lists."
   ]
  },
  {
   "cell_type": "code",
   "execution_count": 58,
   "id": "d7b127bb-079b-44b9-8b30-2b95e3e5cd79",
   "metadata": {},
   "outputs": [
    {
     "name": "stdout",
     "output_type": "stream",
     "text": [
      "Common elements between two lists : [3, 4]\n"
     ]
    }
   ],
   "source": [
    "l1 = [1,2,3,4]\n",
    "l2 = [3,4,5,6,8,9]\n",
    "\n",
    "print(\"Common elements between two lists :\",list(set(l1).intersection(set(l2))))"
   ]
  },
  {
   "cell_type": "markdown",
   "id": "2267348d-fd16-4d68-b958-624d76bc9a04",
   "metadata": {},
   "source": [
    "22. Find the difference between two lists."
   ]
  },
  {
   "cell_type": "code",
   "execution_count": 65,
   "id": "4c3b1197-1b97-4576-8dfc-63da8b9aa7ce",
   "metadata": {},
   "outputs": [],
   "source": [
    "# "
   ]
  },
  {
   "cell_type": "markdown",
   "id": "f90f5190-686a-4225-9e41-f1bb5b1c6271",
   "metadata": {},
   "source": [
    "23. Merge two lists."
   ]
  },
  {
   "cell_type": "code",
   "execution_count": 60,
   "id": "633e31e7-3b35-44dd-baa1-b20124c37512",
   "metadata": {},
   "outputs": [
    {
     "name": "stdout",
     "output_type": "stream",
     "text": [
      "Merged List : [1, 2, 3, 4, 3, 4, 5, 6, 8, 9]\n"
     ]
    }
   ],
   "source": [
    "l1 = [1,2,3,4]\n",
    "l2 = [3,4,5,6,8,9]\n",
    "\n",
    "print(\"Merged List :\",l1+l2)"
   ]
  },
  {
   "cell_type": "markdown",
   "id": "07e77c2a-fc70-4ab9-9588-aed96e005bc9",
   "metadata": {},
   "source": [
    "24. Multiply all elements in a list by 2."
   ]
  },
  {
   "cell_type": "code",
   "execution_count": 66,
   "id": "4c0501bf-acef-4b1c-83f2-374c44b84b1a",
   "metadata": {},
   "outputs": [
    {
     "name": "stdout",
     "output_type": "stream",
     "text": [
      "New list : [2, 4, 6, 8]\n"
     ]
    }
   ],
   "source": [
    "l1 = [1,2,3,4]\n",
    "l3 = []\n",
    "\n",
    "for i in l1:\n",
    "    l3.append(i*2)\n",
    "    \n",
    "print(\"New list :\",l3)    "
   ]
  },
  {
   "cell_type": "markdown",
   "id": "d6fc0c2e-612d-476d-9008-befc758faa22",
   "metadata": {},
   "source": [
    "25. Filter out all even numbers from a list."
   ]
  },
  {
   "cell_type": "code",
   "execution_count": 67,
   "id": "55bf9636-49ab-4673-97d4-2825ed7eb832",
   "metadata": {},
   "outputs": [
    {
     "name": "stdout",
     "output_type": "stream",
     "text": [
      "All even numbers from a list :\n",
      "4\n",
      "6\n",
      "8\n"
     ]
    }
   ],
   "source": [
    "l2 = [3,4,5,6,8,9]\n",
    "\n",
    "print(\"All even numbers from a list :\")\n",
    "for i in l2:\n",
    "    if i % 2 == 0:\n",
    "        print(i)"
   ]
  },
  {
   "cell_type": "markdown",
   "id": "af82a142-6322-484f-a90f-5743a732f914",
   "metadata": {},
   "source": [
    "26. Convert a list of strings to a list of integers."
   ]
  },
  {
   "cell_type": "code",
   "execution_count": 68,
   "id": "6a2a7791-de3e-48eb-8555-e69e837dab49",
   "metadata": {},
   "outputs": [
    {
     "name": "stdout",
     "output_type": "stream",
     "text": [
      "List after conversion : [1, 2, 3, 4]\n"
     ]
    }
   ],
   "source": [
    "l = ['1','2','3','4']\n",
    "l1 = []\n",
    "\n",
    "for i in l:\n",
    "    l1.append(int(i))\n",
    "    \n",
    "print(\"List after conversion :\",l1)"
   ]
  },
  {
   "cell_type": "markdown",
   "id": "0a41cf35-f982-418c-af94-21b1130b2ed7",
   "metadata": {},
   "source": [
    "27. Convert a list of integers to a list of strings."
   ]
  },
  {
   "cell_type": "code",
   "execution_count": 71,
   "id": "0d7b8dcf-1e14-4493-9836-d03b176affb6",
   "metadata": {},
   "outputs": [
    {
     "name": "stdout",
     "output_type": "stream",
     "text": [
      "List after conversion : ['1', '2', '3', '4']\n"
     ]
    }
   ],
   "source": [
    "l = [1,2,3,4]\n",
    "l1 = []\n",
    "\n",
    "for i in l:\n",
    "    l1.append(str(i))\n",
    "    \n",
    "print(\"List after conversion :\",l1)"
   ]
  },
  {
   "cell_type": "markdown",
   "id": "d8222544-8450-48e9-8322-7a5409b701bb",
   "metadata": {},
   "source": [
    "28. Flatten a nested list."
   ]
  },
  {
   "cell_type": "code",
   "execution_count": 71,
   "id": "7d095e9c-8d82-48e5-8c32-d8ee96eb42ab",
   "metadata": {},
   "outputs": [],
   "source": [
    "# "
   ]
  },
  {
   "cell_type": "markdown",
   "id": "81c1978c-9841-4aea-b441-115eb24951fc",
   "metadata": {},
   "source": [
    "29. Create a list of the first 10 Fibonacci numbers."
   ]
  },
  {
   "cell_type": "code",
   "execution_count": 72,
   "id": "22c1e6ec-af4c-4e4a-b82c-64fbfb115828",
   "metadata": {},
   "outputs": [
    {
     "name": "stdout",
     "output_type": "stream",
     "text": [
      "List of first 10 fibonacci numbers : [0, 1, 1, 2, 3, 5, 8, 13, 21, 34]\n"
     ]
    }
   ],
   "source": [
    "l = []\n",
    "\n",
    "a,b=0,1\n",
    "for i in range(10):\n",
    "    l.append(a)\n",
    "    a,b=b,a+b\n",
    "    \n",
    "print(\"List of first 10 fibonacci numbers :\",l)"
   ]
  },
  {
   "cell_type": "markdown",
   "id": "67ec99df-ef69-4cd3-bae5-7c03069448ae",
   "metadata": {},
   "source": [
    "30. Check if a list is sorted."
   ]
  },
  {
   "cell_type": "code",
   "execution_count": 70,
   "id": "61dce797-2c35-4990-811c-00d12f13df3c",
   "metadata": {},
   "outputs": [
    {
     "name": "stdout",
     "output_type": "stream",
     "text": [
      "List is not Sorted\n"
     ]
    }
   ],
   "source": [
    "l = [1,2,6,4,5]\n",
    "\n",
    "if l == sorted(l):\n",
    "    print(\"List is Sorted\")\n",
    "else: \n",
    "    print(\"List is not Sorted\")"
   ]
  },
  {
   "cell_type": "markdown",
   "id": "1d19b145-c5e2-4c42-8e5a-a0a0c60cbf99",
   "metadata": {},
   "source": [
    "31. Rotate a list to the left by `n` positions."
   ]
  },
  {
   "cell_type": "code",
   "execution_count": 74,
   "id": "ffd58554-fafa-4569-97b8-d2271cea9132",
   "metadata": {},
   "outputs": [],
   "source": [
    "# "
   ]
  },
  {
   "cell_type": "markdown",
   "id": "b6e48883-6c40-41cc-8250-4413e0a3aa18",
   "metadata": {},
   "source": [
    "32. Rotate a list to the right by `n` positions."
   ]
  },
  {
   "cell_type": "code",
   "execution_count": 75,
   "id": "9c86781a-22dc-4f0d-bced-fb1d30449c09",
   "metadata": {},
   "outputs": [],
   "source": [
    "# "
   ]
  },
  {
   "cell_type": "markdown",
   "id": "ad7ee25b-b1d8-4fa4-ba21-2982fedbf4ff",
   "metadata": {},
   "source": [
    "33. Create a list of prime numbers up to 50."
   ]
  },
  {
   "cell_type": "code",
   "execution_count": 76,
   "id": "ad50e122-86d6-4fc4-ba6a-519c0cd3dc19",
   "metadata": {},
   "outputs": [
    {
     "name": "stdout",
     "output_type": "stream",
     "text": [
      "List of Prime numbers up to 50 : [2, 3, 5, 7, 11, 13, 17, 19, 23, 29, 31, 37, 41, 43, 47]\n"
     ]
    }
   ],
   "source": [
    "l = []\n",
    "\n",
    "for i in range(1,51):\n",
    "    c = 0\n",
    "    for j in range(1,i+1):\n",
    "        if i % j == 0:\n",
    "            c += 1\n",
    "    if c == 2:\n",
    "        l.append(i)\n",
    "\n",
    "print(\"List of Prime numbers up to 50 :\",l)    "
   ]
  },
  {
   "cell_type": "markdown",
   "id": "798aba69-6431-4a84-8614-37c429233431",
   "metadata": {},
   "source": [
    "34. Split a list into chunks of size `n`."
   ]
  },
  {
   "cell_type": "code",
   "execution_count": 78,
   "id": "4410b8f7-8411-4487-b909-b0dbe1fa1b48",
   "metadata": {},
   "outputs": [
    {
     "name": "stdin",
     "output_type": "stream",
     "text": [
      "Enter the length of chunks required : 6\n"
     ]
    },
    {
     "data": {
      "text/plain": [
       "'[0, 1, 2, 3, 4, 5, 6, 7, 8, 9]'"
      ]
     },
     "execution_count": 78,
     "metadata": {},
     "output_type": "execute_result"
    }
   ],
   "source": [
    "# l = [0,1,2,3,4,5,6,7,8,9]\n",
    "\n",
    "# n = int(input(\"Enter the length of chunks required :\"))"
   ]
  },
  {
   "cell_type": "markdown",
   "id": "128c76aa-3a11-4fd9-8948-0803dd395ec3",
   "metadata": {},
   "source": [
    "35. Find the second largest number in a list."
   ]
  },
  {
   "cell_type": "code",
   "execution_count": 4,
   "id": "25262a41-6432-4d6d-a89b-b1ede10b18c1",
   "metadata": {},
   "outputs": [
    {
     "name": "stdout",
     "output_type": "stream",
     "text": [
      "Second largest number in a list : 4\n"
     ]
    }
   ],
   "source": [
    "l = [1,2,3,4,5]\n",
    "lar = max(l)\n",
    "s_lar = l[0]\n",
    "\n",
    "for i in l:\n",
    "    if i >= s_lar and i < lar:\n",
    "        s_lar = i\n",
    "        \n",
    "print(\"Second largest number in a list :\",s_lar)"
   ]
  },
  {
   "cell_type": "markdown",
   "id": "9d330081-41d6-413e-acdf-e0360d596cd4",
   "metadata": {},
   "source": [
    "36. Replace every element in a list with its square."
   ]
  },
  {
   "cell_type": "code",
   "execution_count": 1,
   "id": "f7fdeb15-1e94-48d8-802a-3457e58808b4",
   "metadata": {},
   "outputs": [
    {
     "name": "stdout",
     "output_type": "stream",
     "text": [
      "[1, 9, 25, 49, 81]\n"
     ]
    }
   ],
   "source": [
    "l = [1,3,5,7,9]\n",
    "l1 = []\n",
    "\n",
    "for i in l:\n",
    "    l1.append(i*i)\n",
    "    \n",
    "print(l1)"
   ]
  },
  {
   "cell_type": "markdown",
   "id": "178d369e-17bf-429d-aacd-3643cf0718a4",
   "metadata": {},
   "source": [
    "37. Convert a list to a dictionary where list elements become keys and their\n",
    "indices become values."
   ]
  },
  {
   "cell_type": "code",
   "execution_count": 2,
   "id": "d2c58c19-050d-400f-84a1-eb586cfc120f",
   "metadata": {},
   "outputs": [],
   "source": [
    "# "
   ]
  },
  {
   "cell_type": "markdown",
   "id": "f41f7684-3004-4137-b2c2-3b094eb16dc7",
   "metadata": {},
   "source": [
    "38. Shuffle the elements of a list randomly."
   ]
  },
  {
   "cell_type": "code",
   "execution_count": 104,
   "id": "ee9ad5ff-f963-4282-a54e-69eea3a37541",
   "metadata": {},
   "outputs": [],
   "source": [
    "# l = [1,2,3,4,5]"
   ]
  },
  {
   "cell_type": "markdown",
   "id": "ec290276-01ca-416d-964b-d7c1fdfb14c2",
   "metadata": {},
   "source": [
    "39. Create a list of the first 10 factorial numbers."
   ]
  },
  {
   "cell_type": "code",
   "execution_count": 5,
   "id": "7d624f05-ce54-44e9-8ac1-af8ac718584a",
   "metadata": {},
   "outputs": [
    {
     "name": "stdout",
     "output_type": "stream",
     "text": [
      "List of the first 10 factorial numbers : [1, 1, 2, 6, 24, 120, 720, 5040, 40320, 362880]\n"
     ]
    }
   ],
   "source": [
    "l = []\n",
    "for i in range(10):\n",
    "    if i == 0:\n",
    "        l.append(1)\n",
    "    else:\n",
    "        f = 1\n",
    "        for j in range(1,i+1):\n",
    "            f = f*j\n",
    "        l.append(f)\n",
    "    \n",
    "print(\"List of the first 10 factorial numbers :\",l)"
   ]
  },
  {
   "cell_type": "markdown",
   "id": "59e0646b-2d8c-4bfb-88b4-8d5cc35a5b2f",
   "metadata": {},
   "source": [
    "40. Check if two lists have at least one element in common."
   ]
  },
  {
   "cell_type": "code",
   "execution_count": 96,
   "id": "05080dac-b268-4d1a-88a2-8d45fa72083e",
   "metadata": {},
   "outputs": [
    {
     "name": "stdout",
     "output_type": "stream",
     "text": [
      "Two lists have at least one element in common\n"
     ]
    }
   ],
   "source": [
    "l1 = [1,2,3,4]\n",
    "l2 = [8,5,6,7,4]\n",
    "\n",
    "if set(l1).intersection(set(l2)) != set():\n",
    "    print(\"Two lists have at least one element in common\")\n",
    "else:\n",
    "    print(\"Two lists have no elements in common\")"
   ]
  },
  {
   "cell_type": "markdown",
   "id": "d4159879-02cc-4e2f-982a-6af5f2eb7026",
   "metadata": {},
   "source": [
    "41. Remove all elements from a list."
   ]
  },
  {
   "cell_type": "code",
   "execution_count": 98,
   "id": "575b5c64-a3b9-4842-b91d-34d2ee7305cf",
   "metadata": {},
   "outputs": [
    {
     "name": "stdout",
     "output_type": "stream",
     "text": [
      "[]\n"
     ]
    }
   ],
   "source": [
    "l = [1,2,3,4,5]\n",
    "l.clear()\n",
    "print(l)"
   ]
  },
  {
   "cell_type": "markdown",
   "id": "29be3c8a-60ed-4d3b-a97f-c92d1cdd15c0",
   "metadata": {},
   "source": [
    "42. Replace negative numbers in a list with 0."
   ]
  },
  {
   "cell_type": "code",
   "execution_count": 97,
   "id": "ab037641-66ff-4db9-b2f6-16f5fc8ca0e4",
   "metadata": {},
   "outputs": [
    {
     "name": "stdout",
     "output_type": "stream",
     "text": [
      "Desired list : [1, 0, 2, 0, 3, 0]\n"
     ]
    }
   ],
   "source": [
    "l = [1,-1,2,-2,3,-3]\n",
    "l1 = []\n",
    "for i in l:\n",
    "    if i < 0:\n",
    "        l1.append(0)\n",
    "    else:\n",
    "        l1.append(i)\n",
    "        \n",
    "print(\"Desired list :\",l1)"
   ]
  },
  {
   "cell_type": "markdown",
   "id": "6393126b-9710-4393-8cf0-3bee775589fe",
   "metadata": {},
   "source": [
    "43. Convert a string into a list of words."
   ]
  },
  {
   "cell_type": "code",
   "execution_count": 92,
   "id": "08f831af-19bf-491a-a31d-05d8dc1ce1f7",
   "metadata": {},
   "outputs": [
    {
     "name": "stdout",
     "output_type": "stream",
     "text": [
      "['P', 'w', 's', 'k', 'i', 'l', 'l', 's']\n"
     ]
    }
   ],
   "source": [
    "s = 'Pwskills'\n",
    "print(list(s))"
   ]
  },
  {
   "cell_type": "markdown",
   "id": "9d013d71-1114-415b-9dfd-088518d9791c",
   "metadata": {},
   "source": [
    "44. Convert a list of words into a string."
   ]
  },
  {
   "cell_type": "code",
   "execution_count": 91,
   "id": "ee5890a5-5c25-401a-a6da-b9ba86bc1c5e",
   "metadata": {},
   "outputs": [
    {
     "name": "stdout",
     "output_type": "stream",
     "text": [
      "Desired string :  I am a data scientist\n"
     ]
    }
   ],
   "source": [
    "l = [\"I\",\"am\",\"a\",\"data\",\"scientist\"]\n",
    "s = \"\"\n",
    "for i in l:\n",
    "    s = s + \" \" +i\n",
    "\n",
    "print(\"Desired string :\",s)"
   ]
  },
  {
   "cell_type": "markdown",
   "id": "15dfe4b2-6048-4d52-864a-83fecfc55b4b",
   "metadata": {},
   "source": [
    "45. Create a list of the first `n` powers of 2."
   ]
  },
  {
   "cell_type": "code",
   "execution_count": 90,
   "id": "006c9f1d-28c8-4fde-b1bb-984f27a8c38c",
   "metadata": {},
   "outputs": [
    {
     "name": "stdin",
     "output_type": "stream",
     "text": [
      "Enter the value of n : 5\n"
     ]
    },
    {
     "name": "stdout",
     "output_type": "stream",
     "text": [
      "List of the first 5 powers of 2 : [1, 2, 4, 8, 16]\n"
     ]
    }
   ],
   "source": [
    "n = int(input(\"Enter the value of n :\"))\n",
    "l = []\n",
    "\n",
    "for i in range(n):\n",
    "    l.append(2**i)\n",
    "    \n",
    "print(\"List of the first\",n,\"powers of 2 :\",l)"
   ]
  },
  {
   "cell_type": "markdown",
   "id": "2bc78414-1f40-4068-9f02-71834e4121f9",
   "metadata": {},
   "source": [
    "46. Find the longest string in a list of strings."
   ]
  },
  {
   "cell_type": "code",
   "execution_count": 89,
   "id": "4c7df8a8-ef5b-420a-991e-5c8c7300ad36",
   "metadata": {},
   "outputs": [
    {
     "name": "stdout",
     "output_type": "stream",
     "text": [
      "Shortest string in a list of strings : abhishek\n"
     ]
    }
   ],
   "source": [
    "l = [\"sudh\",\"krish\",\"ramesh\",\"ram\",\"abhishek\"]\n",
    "llw = len(l[0])\n",
    "lw = ''\n",
    "for i in l:\n",
    "    if len(i)>=llw:\n",
    "        lw = i\n",
    "        llw = len(i)\n",
    "        \n",
    "print(\"Shortest string in a list of strings :\",lw)"
   ]
  },
  {
   "cell_type": "markdown",
   "id": "11100cc2-e32d-44fb-93b5-df674cfa0588",
   "metadata": {},
   "source": [
    "47. Find the shortest string in a list of strings."
   ]
  },
  {
   "cell_type": "code",
   "execution_count": 87,
   "id": "6afcf44b-7623-4d35-a061-5a6ba6d4add3",
   "metadata": {},
   "outputs": [
    {
     "name": "stdout",
     "output_type": "stream",
     "text": [
      "Shortest string in a list of strings : sudh\n"
     ]
    }
   ],
   "source": [
    "l = [\"sudh\",\"krish\",\"suman\",\"sunny\",\"imran\"]\n",
    "lsw = len(l[0])\n",
    "sw = ''\n",
    "for i in l:\n",
    "    if len(i)<=lsw:\n",
    "        sw = i\n",
    "        lsw = len(i)\n",
    "        \n",
    "print(\"Shortest string in a list of strings :\",sw)"
   ]
  },
  {
   "cell_type": "markdown",
   "id": "50708eff-1f4f-4c6b-918e-3e9e1e23f9fa",
   "metadata": {},
   "source": [
    "48. Create a list of the first `n` triangular numbers."
   ]
  },
  {
   "cell_type": "code",
   "execution_count": 81,
   "id": "fe2f40a0-02c4-4ab9-a6f5-3864f8b88b90",
   "metadata": {},
   "outputs": [],
   "source": [
    "# "
   ]
  },
  {
   "cell_type": "markdown",
   "id": "1d15b10d-be9d-4949-a795-d8b7fcd2f0f2",
   "metadata": {},
   "source": [
    "49. Check if a list contains another list as a subsequence."
   ]
  },
  {
   "cell_type": "code",
   "execution_count": 84,
   "id": "16449a3a-8093-4537-a1f0-ca35b80af986",
   "metadata": {},
   "outputs": [
    {
     "name": "stdout",
     "output_type": "stream",
     "text": [
      "The list contains another list as a subsequence\n"
     ]
    }
   ],
   "source": [
    "l1 = [1,2,3,4,5,6,7,8,9]\n",
    "l2 = [1,3,5,7,9]\n",
    "\n",
    "for i in l2:\n",
    "    if i in l1:\n",
    "        c = True\n",
    "    else:\n",
    "        c = False\n",
    "        break\n",
    "\n",
    "if c== True:\n",
    "    print(\"The list contains another list as a subsequence\")\n",
    "else:\n",
    "    print(\"The list doesn't contains another list as a subsequence\")"
   ]
  },
  {
   "cell_type": "markdown",
   "id": "049b3473-0441-4626-9f30-f30a03247316",
   "metadata": {},
   "source": [
    "50. Swap two elements in a list by their indices."
   ]
  },
  {
   "cell_type": "code",
   "execution_count": 79,
   "id": "42a9bffa-5cbe-4fae-b9db-d0b2b3bb4bba",
   "metadata": {},
   "outputs": [
    {
     "name": "stdin",
     "output_type": "stream",
     "text": [
      "Enter the indices for swapping seperated by spaces : 2 3\n"
     ]
    },
    {
     "name": "stdout",
     "output_type": "stream",
     "text": [
      "After Swapping: [1, 2, 4, 3, 5, 6, 7, 8, 9]\n"
     ]
    }
   ],
   "source": [
    "l = [1,2,3,4,5,6,7,8,9]\n",
    "a,b = input(\"Enter the indices for swapping seperated by spaces :\").split()\n",
    "\n",
    "a,b = int(a),int(b)\n",
    "temp = l[a]\n",
    "l[a] = l[b]\n",
    "l[b] = temp\n",
    "\n",
    "print(\"After Swapping:\",l)"
   ]
  },
  {
   "cell_type": "markdown",
   "id": "1dc3d22b-6440-434b-915d-b934b134eb23",
   "metadata": {
    "jupyter": {
     "source_hidden": true
    },
    "tags": []
   },
   "source": []
  },
  {
   "cell_type": "markdown",
   "id": "af539b4e-74fc-4da7-bbac-0fecb6dc4a3b",
   "metadata": {},
   "source": [
    "Tuple Based Practice Problem : "
   ]
  },
  {
   "cell_type": "markdown",
   "id": "062801e1-06ce-4d4b-bdfd-65a3094cd892",
   "metadata": {},
   "source": [
    "1. Create a tuple with integers from 1 to 5."
   ]
  },
  {
   "cell_type": "code",
   "execution_count": 48,
   "id": "d6f86bd1-9dbb-4291-b9eb-3ff93ddcde8e",
   "metadata": {},
   "outputs": [
    {
     "name": "stdout",
     "output_type": "stream",
     "text": [
      "(1, 2, 3, 4, 5)\n"
     ]
    }
   ],
   "source": [
    "l = []\n",
    "for i in range(1,6):\n",
    "    l.append(i)\n",
    "t = tuple(l)\n",
    "print(t)"
   ]
  },
  {
   "cell_type": "markdown",
   "id": "d88aa927-aee6-4866-9a74-988a0e3783a4",
   "metadata": {},
   "source": [
    "2. Access the third element of a tuple."
   ]
  },
  {
   "cell_type": "code",
   "execution_count": 49,
   "id": "e8248bdf-131c-4a45-8ca5-40e493d72e16",
   "metadata": {},
   "outputs": [
    {
     "name": "stdout",
     "output_type": "stream",
     "text": [
      "Third element of a tuple : 3\n"
     ]
    }
   ],
   "source": [
    "t = (1,2,3,4,5,6,7)\n",
    "\n",
    "print(\"Third element of a tuple :\",t[2])"
   ]
  },
  {
   "cell_type": "markdown",
   "id": "f03e838e-98aa-4638-b83c-a45e4f3d22e1",
   "metadata": {},
   "source": [
    "3. Find the length of a tuple without using the `len()` function."
   ]
  },
  {
   "cell_type": "code",
   "execution_count": 50,
   "id": "b856c54d-834c-4f1f-8493-7e07e3172824",
   "metadata": {},
   "outputs": [
    {
     "name": "stdout",
     "output_type": "stream",
     "text": [
      "Length of tuple is : 5\n"
     ]
    }
   ],
   "source": [
    "t = (1,2,3,4,5)\n",
    "c = 0\n",
    "\n",
    "for i in t:\n",
    "    c += 1\n",
    "    \n",
    "print(\"Length of tuple is :\",c)"
   ]
  },
  {
   "cell_type": "markdown",
   "id": "a8fee6b7-1932-410f-ae27-e6f2d72e8979",
   "metadata": {},
   "source": [
    "4. Count the occurrences of an element in a tuple."
   ]
  },
  {
   "cell_type": "code",
   "execution_count": 51,
   "id": "18d23f46-c877-461a-85aa-ab28cf44e5f4",
   "metadata": {},
   "outputs": [
    {
     "name": "stdout",
     "output_type": "stream",
     "text": [
      "Occurence of desired element : 3\n"
     ]
    }
   ],
   "source": [
    "t = (1,2,3,4,4,4,5,5,6)\n",
    "\n",
    "print(\"Occurence of desired element :\",t.count(4))"
   ]
  },
  {
   "cell_type": "markdown",
   "id": "88cc5c0b-cea1-40b8-b6ff-428a644d8278",
   "metadata": {},
   "source": [
    "5. Find the index of the first occurrence of an element in a tuple."
   ]
  },
  {
   "cell_type": "code",
   "execution_count": 54,
   "id": "660d639c-9114-4afd-877f-0f40cb20a34d",
   "metadata": {},
   "outputs": [
    {
     "name": "stdout",
     "output_type": "stream",
     "text": [
      "First Occurence of desired element : 6\n"
     ]
    }
   ],
   "source": [
    "t = (1,2,3,4,4,4,5,5,6)\n",
    "\n",
    "print(\"First Occurence of desired element :\",t.index(5))"
   ]
  },
  {
   "cell_type": "markdown",
   "id": "be442cb5-1f7c-4513-b02d-45a1a99e3cdc",
   "metadata": {},
   "source": [
    "6. Check if an element exists in a tuple."
   ]
  },
  {
   "cell_type": "code",
   "execution_count": 103,
   "id": "9ca77104-3f98-4661-bd76-962f86498e86",
   "metadata": {},
   "outputs": [],
   "source": [
    "t = (1,2,3,4,5)\n",
    "if "
   ]
  },
  {
   "cell_type": "markdown",
   "id": "896f6090-1740-4f50-ac14-77edbbb95568",
   "metadata": {},
   "source": [
    "7. Convert a tuple to a list."
   ]
  },
  {
   "cell_type": "code",
   "execution_count": 55,
   "id": "c784f825-5e4b-41f5-9de3-b5e4b020d195",
   "metadata": {},
   "outputs": [
    {
     "name": "stdout",
     "output_type": "stream",
     "text": [
      "Desired list : [1, 2, 3]\n"
     ]
    }
   ],
   "source": [
    "t = (1,2,3)\n",
    "\n",
    "l = list(t)\n",
    "print(\"Desired list :\",l)"
   ]
  },
  {
   "cell_type": "markdown",
   "id": "fbd369d2-102c-462c-984c-36a04ddbae94",
   "metadata": {},
   "source": [
    "8. Convert a list to a tuple."
   ]
  },
  {
   "cell_type": "code",
   "execution_count": 56,
   "id": "b4456b53-e852-4235-923a-05f7b6bbaa36",
   "metadata": {},
   "outputs": [
    {
     "name": "stdout",
     "output_type": "stream",
     "text": [
      "Desired list : (1, 2, 3)\n"
     ]
    }
   ],
   "source": [
    "l = [1,2,3]\n",
    "\n",
    "t = tuple(l)\n",
    "print(\"Desired list :\",t)"
   ]
  },
  {
   "cell_type": "markdown",
   "id": "1eb58009-a94d-4ed6-97e6-0d486cda32df",
   "metadata": {},
   "source": [
    "9. Unpack the elements of a tuple into variables."
   ]
  },
  {
   "cell_type": "code",
   "execution_count": 59,
   "id": "b4146164-79af-4f8e-8767-cdd36a8dc5df",
   "metadata": {},
   "outputs": [
    {
     "name": "stdout",
     "output_type": "stream",
     "text": [
      "1 2 3\n"
     ]
    }
   ],
   "source": [
    "t = (1,2,3)\n",
    "\n",
    "a,b,c = t\n",
    "print(a,b,c)"
   ]
  },
  {
   "cell_type": "markdown",
   "id": "78bfe0bc-d04f-4636-957f-3b9824e11abe",
   "metadata": {},
   "source": [
    "10. Create a tuple of even numbers from 1 to 10."
   ]
  },
  {
   "cell_type": "code",
   "execution_count": 60,
   "id": "bb30b3a7-6948-42a0-bd2c-f3bc4ce6dd86",
   "metadata": {},
   "outputs": [
    {
     "name": "stdout",
     "output_type": "stream",
     "text": [
      "Tuple of even numbers from 1 to 10 : (2, 4, 6, 8, 10)\n"
     ]
    }
   ],
   "source": [
    "l = []\n",
    "for i in [i for i in range(1,11) if i % 2==0]:\n",
    "    l.append(i)\n",
    "    \n",
    "print(\"Tuple of even numbers from 1 to 10 :\",tuple(l))"
   ]
  },
  {
   "cell_type": "markdown",
   "id": "9ed30316-9fd1-4861-b8e6-0612e34ac60b",
   "metadata": {},
   "source": [
    "11. Create a tuple of odd numbers from 1 to 10."
   ]
  },
  {
   "cell_type": "code",
   "execution_count": 61,
   "id": "acd84e6f-8ad0-4a56-8545-a09a17853c30",
   "metadata": {},
   "outputs": [
    {
     "name": "stdout",
     "output_type": "stream",
     "text": [
      "Tuple of odd numbers from 1 to 10 : (1, 3, 5, 7, 9)\n"
     ]
    }
   ],
   "source": [
    "l = []\n",
    "for i in [i for i in range(1,11) if i % 2 != 0]:\n",
    "    l.append(i)\n",
    "    \n",
    "print(\"Tuple of odd numbers from 1 to 10 :\",tuple(l))"
   ]
  },
  {
   "cell_type": "markdown",
   "id": "5a4e17d3-3c65-442b-8cc3-eba494b3a7dc",
   "metadata": {},
   "source": [
    "12. Concatenate two tuples."
   ]
  },
  {
   "cell_type": "code",
   "execution_count": 62,
   "id": "72617339-b45c-443c-a92d-10adfe594e93",
   "metadata": {},
   "outputs": [
    {
     "data": {
      "text/plain": [
       "(1, 2, 3, 4, 5, 6)"
      ]
     },
     "execution_count": 62,
     "metadata": {},
     "output_type": "execute_result"
    }
   ],
   "source": [
    "t1 = (1,2,3)\n",
    "t2 = (4,5,6)\n",
    "\n",
    "t1 + t2"
   ]
  },
  {
   "cell_type": "markdown",
   "id": "f945c0fa-ecc5-4e2f-81c6-f8355ec59b11",
   "metadata": {},
   "source": [
    "13. Repeat a tuple three times."
   ]
  },
  {
   "cell_type": "code",
   "execution_count": 63,
   "id": "8b5542bd-8367-41cf-bbd0-4fb57a6c9d5f",
   "metadata": {},
   "outputs": [
    {
     "data": {
      "text/plain": [
       "(1, 2, 3, 1, 2, 3, 1, 2, 3)"
      ]
     },
     "execution_count": 63,
     "metadata": {},
     "output_type": "execute_result"
    }
   ],
   "source": [
    "t1 = (1,2,3)\n",
    "\n",
    "t1*3"
   ]
  },
  {
   "cell_type": "markdown",
   "id": "52be308a-cd4e-47df-8539-4ae8603b24eb",
   "metadata": {},
   "source": [
    "14. Check if a tuple is empty."
   ]
  },
  {
   "cell_type": "code",
   "execution_count": 64,
   "id": "0eea9cd5-c085-43ce-960b-f93984cda656",
   "metadata": {},
   "outputs": [
    {
     "name": "stdout",
     "output_type": "stream",
     "text": [
      "Tuple is not empty\n"
     ]
    }
   ],
   "source": [
    "t1 = (1,2,3)\n",
    " \n",
    "if t1 == ():\n",
    "    print(\"Tuple is empty\")\n",
    "else:\n",
    "    print(\"Tuple is not empty\")"
   ]
  },
  {
   "cell_type": "markdown",
   "id": "3bd532bc-3a62-4dde-89a9-a0bb03d14bf3",
   "metadata": {},
   "source": [
    "15. Create a nested tuple."
   ]
  },
  {
   "cell_type": "code",
   "execution_count": 67,
   "id": "0935e35a-f19a-462d-bea4-4b5ef76bb827",
   "metadata": {},
   "outputs": [],
   "source": [
    "t = (1,2,3,(4,5,6))"
   ]
  },
  {
   "cell_type": "markdown",
   "id": "e4054a6b-c4d5-42d7-a46d-4ce188ec5288",
   "metadata": {},
   "source": [
    "16. Access the first element of a nested tuple."
   ]
  },
  {
   "cell_type": "code",
   "execution_count": 2,
   "id": "380d93b1-ac4d-43bb-b4aa-9a3786e708e2",
   "metadata": {},
   "outputs": [
    {
     "name": "stdout",
     "output_type": "stream",
     "text": [
      "First element of a nested tuple : 4\n"
     ]
    }
   ],
   "source": [
    "t = (1,2,3,(4,5,6))\n",
    "for i in t:\n",
    "    if type(i) == tuple:\n",
    "        print(\"First element of a nested tuple :\",i[0])\n",
    "        "
   ]
  },
  {
   "cell_type": "markdown",
   "id": "2982230c-7000-4e0f-a61e-8cfc1a7fe789",
   "metadata": {},
   "source": [
    "17. Create a tuple with a single element."
   ]
  },
  {
   "cell_type": "code",
   "execution_count": 5,
   "id": "475d50e1-5532-4c8a-9e08-679949fa90ca",
   "metadata": {},
   "outputs": [
    {
     "data": {
      "text/plain": [
       "(1,)"
      ]
     },
     "execution_count": 5,
     "metadata": {},
     "output_type": "execute_result"
    }
   ],
   "source": [
    "t = (1,) \n",
    "t"
   ]
  },
  {
   "cell_type": "markdown",
   "id": "8e4b7372-735d-4b49-a8e4-a0413629929a",
   "metadata": {},
   "source": [
    "18. Compare two tuples."
   ]
  },
  {
   "cell_type": "code",
   "execution_count": 116,
   "id": "b010982c-20e3-435f-9b79-9d54dc235ad5",
   "metadata": {},
   "outputs": [],
   "source": [
    "#"
   ]
  },
  {
   "cell_type": "markdown",
   "id": "14d54da5-637a-4f76-a619-e4a08f3512e6",
   "metadata": {},
   "source": [
    "19. Delete a tuple."
   ]
  },
  {
   "cell_type": "code",
   "execution_count": 118,
   "id": "4d81e4c0-724b-4d3b-8d4e-e5bc91b6a086",
   "metadata": {},
   "outputs": [],
   "source": [
    "t = (1,2,3)"
   ]
  },
  {
   "cell_type": "markdown",
   "id": "ed01b464-ba55-4a14-8508-98a2c753df2f",
   "metadata": {},
   "source": [
    "20. Slice a tuple."
   ]
  },
  {
   "cell_type": "code",
   "execution_count": 6,
   "id": "d96b139b-09be-4ca6-8a33-071f2c7c602e",
   "metadata": {},
   "outputs": [
    {
     "data": {
      "text/plain": [
       "(3, 4)"
      ]
     },
     "execution_count": 6,
     "metadata": {},
     "output_type": "execute_result"
    }
   ],
   "source": [
    "t = (1,2,3,4,5)\n",
    "\n",
    "# tuple slicing\n",
    "t[2:4]"
   ]
  },
  {
   "cell_type": "markdown",
   "id": "275d2eae-363f-4f10-999f-8323ec4d2049",
   "metadata": {},
   "source": [
    "21. Find the maximum value in a tuple."
   ]
  },
  {
   "cell_type": "code",
   "execution_count": 7,
   "id": "1ab3f4a0-c377-458a-8159-cceda6a5ad83",
   "metadata": {},
   "outputs": [
    {
     "name": "stdout",
     "output_type": "stream",
     "text": [
      "Maximum value in a tuple : 5\n"
     ]
    }
   ],
   "source": [
    "t = (1,2,3,4,5)\n",
    "\n",
    "print(\"Maximum value in a tuple :\",max(t))"
   ]
  },
  {
   "cell_type": "markdown",
   "id": "b4914450-6a21-41c7-a3be-00f1a4088d34",
   "metadata": {},
   "source": [
    "22. Find the minimum value in a tuple."
   ]
  },
  {
   "cell_type": "code",
   "execution_count": 8,
   "id": "20bb9f5f-a245-44e8-a3f1-4d298bb4b799",
   "metadata": {},
   "outputs": [
    {
     "name": "stdout",
     "output_type": "stream",
     "text": [
      "Minimum value in a tuple : 1\n"
     ]
    }
   ],
   "source": [
    "t = (1,2,3,4,5)\n",
    "\n",
    "print(\"Minimum value in a tuple :\",min(t))"
   ]
  },
  {
   "cell_type": "markdown",
   "id": "f570a207-95c7-43e8-a837-550d692b5991",
   "metadata": {},
   "source": [
    "23. Convert a string to a tuple of characters."
   ]
  },
  {
   "cell_type": "code",
   "execution_count": 9,
   "id": "ce59316f-9a99-4f21-bc4f-f1398e5c77f8",
   "metadata": {},
   "outputs": [
    {
     "name": "stdin",
     "output_type": "stream",
     "text": [
      "Enter a string : suman\n"
     ]
    },
    {
     "data": {
      "text/plain": [
       "('s', 'u', 'm', 'a', 'n')"
      ]
     },
     "execution_count": 9,
     "metadata": {},
     "output_type": "execute_result"
    }
   ],
   "source": [
    "s = input(\"Enter a string :\")\n",
    "\n",
    "tuple(s)"
   ]
  },
  {
   "cell_type": "markdown",
   "id": "282e616e-634a-4aad-a339-82fe109246dc",
   "metadata": {},
   "source": [
    "24. Convert a tuple of characters to a string."
   ]
  },
  {
   "cell_type": "code",
   "execution_count": 10,
   "id": "40423f15-593e-42e3-a3e1-4e92cc8775ed",
   "metadata": {},
   "outputs": [
    {
     "name": "stdout",
     "output_type": "stream",
     "text": [
      "New String : suman\n"
     ]
    }
   ],
   "source": [
    "t = ('s', 'u', 'm', 'a', 'n')\n",
    "s = ''\n",
    "for i in t:\n",
    "    s = i + s\n",
    "    \n",
    "print(\"New String :\",s)"
   ]
  },
  {
   "cell_type": "markdown",
   "id": "a2ee8c67-5013-4250-8e7a-2d4bc26d4bc6",
   "metadata": {},
   "source": [
    "25. Create a tuple from multiple data types."
   ]
  },
  {
   "cell_type": "code",
   "execution_count": 13,
   "id": "1d2490f5-84a1-4600-baa0-a82b6657df01",
   "metadata": {},
   "outputs": [
    {
     "data": {
      "text/plain": [
       "(1, 24.6, True, 'Suman', (5+6j))"
      ]
     },
     "execution_count": 13,
     "metadata": {},
     "output_type": "execute_result"
    }
   ],
   "source": [
    "t = (1,24.6,True,\"Suman\",5+6j)\n",
    "t"
   ]
  },
  {
   "cell_type": "markdown",
   "id": "06cc5c24-79eb-488a-8a43-dd25da7c565d",
   "metadata": {},
   "source": [
    "26. Check if two tuples are identical."
   ]
  },
  {
   "cell_type": "code",
   "execution_count": 16,
   "id": "d28fb3ce-8db7-488e-b9ee-509d5caed8ea",
   "metadata": {},
   "outputs": [
    {
     "name": "stdout",
     "output_type": "stream",
     "text": [
      "Tuples are not identical\n"
     ]
    }
   ],
   "source": [
    "t1 = (1,2,3)\n",
    "t2 = (1,4,3)\n",
    "\n",
    "if t1 == t2:\n",
    "    print(\"Tuples are identical\")\n",
    "else:\n",
    "    print(\"Tuples are not identical\")"
   ]
  },
  {
   "cell_type": "markdown",
   "id": "48d83c6d-3f51-4e06-a872-f5ea82f37d13",
   "metadata": {},
   "source": [
    "27. Sort the elements of a tuple."
   ]
  },
  {
   "cell_type": "code",
   "execution_count": 21,
   "id": "a029e06b-e6ae-4096-a8e2-1e73e57a420e",
   "metadata": {},
   "outputs": [
    {
     "data": {
      "text/plain": [
       "[1, 2, 3, 5, 6, 7, 8, 9]"
      ]
     },
     "execution_count": 21,
     "metadata": {},
     "output_type": "execute_result"
    }
   ],
   "source": [
    "t = (5,9,3,7,2,6,1,8)\n",
    "sorted(t)"
   ]
  },
  {
   "cell_type": "markdown",
   "id": "411d29cb-12bd-4757-914b-b805af0f2d86",
   "metadata": {},
   "source": [
    "28. Convert a tuple of integers to a tuple of strings."
   ]
  },
  {
   "cell_type": "code",
   "execution_count": 23,
   "id": "1ac4addd-7cbf-4cc8-af1a-b5ebf1e5f819",
   "metadata": {},
   "outputs": [
    {
     "name": "stdout",
     "output_type": "stream",
     "text": [
      "New Tuple : ('1', '2', '3')\n"
     ]
    }
   ],
   "source": [
    "t = (1,2,3)\n",
    "l = []\n",
    "for i in t:\n",
    "    l.append(str(i))\n",
    "    \n",
    "print(\"New Tuple :\",tuple(l))"
   ]
  },
  {
   "cell_type": "markdown",
   "id": "dd83088c-0e12-4517-82e3-f2ed9162c63e",
   "metadata": {},
   "source": [
    "29. Convert a tuple of strings to a tuple of integers."
   ]
  },
  {
   "cell_type": "code",
   "execution_count": 1,
   "id": "31316167-927a-418c-b642-0206064ede0a",
   "metadata": {},
   "outputs": [
    {
     "name": "stdout",
     "output_type": "stream",
     "text": [
      "Modified tuple : (1, 2, 3)\n"
     ]
    }
   ],
   "source": [
    "s = (\"1\",\"2\",\"3\")\n",
    "l = []\n",
    "for i in s:\n",
    "    l.append(int(i))\n",
    "    \n",
    "print(\"Modified tuple :\",tuple(l))"
   ]
  },
  {
   "cell_type": "markdown",
   "id": "3747ab9c-2848-4c1b-a2f1-9d1fa5e65c38",
   "metadata": {},
   "source": [
    "30. Merge two tuples."
   ]
  },
  {
   "cell_type": "code",
   "execution_count": 24,
   "id": "a0f26a15-070f-4dda-9c62-e1932fc8fa75",
   "metadata": {},
   "outputs": [
    {
     "data": {
      "text/plain": [
       "(1, 2, 3, 4, 5, 6)"
      ]
     },
     "execution_count": 24,
     "metadata": {},
     "output_type": "execute_result"
    }
   ],
   "source": [
    "t1 = (1,2,3)\n",
    "t2 = (4,5,6)\n",
    "\n",
    "t1 + t2"
   ]
  },
  {
   "cell_type": "markdown",
   "id": "f138e499-5efc-4a8c-b533-f92c66fb4994",
   "metadata": {},
   "source": [
    "31. Flatten a nested tuple."
   ]
  },
  {
   "cell_type": "code",
   "execution_count": 130,
   "id": "eda7b490-496b-432e-850c-0d2344a3e8c4",
   "metadata": {},
   "outputs": [],
   "source": [
    "# "
   ]
  },
  {
   "cell_type": "markdown",
   "id": "cb86a616-e31c-4ab5-825c-297fb642bcf1",
   "metadata": {},
   "source": [
    "32. Create a tuple of the first 5 prime numbers."
   ]
  },
  {
   "cell_type": "code",
   "execution_count": 17,
   "id": "32cfe2b6-7a69-4a90-916c-221954b12374",
   "metadata": {},
   "outputs": [
    {
     "name": "stdout",
     "output_type": "stream",
     "text": [
      "Tuple of the first 5 prime numbers : (2, 3, 5, 7, 11)\n"
     ]
    }
   ],
   "source": [
    "l = []\n",
    "n = 0\n",
    "for i in  range(1,100):\n",
    "    c = 0\n",
    "    for j in range(1,i+1):\n",
    "        if i % j == 0:\n",
    "            c += 1\n",
    "    if c == 2:\n",
    "        l.append(i)\n",
    "        n += 1\n",
    "    if n ==5:\n",
    "        print(\"Tuple of the first 5 prime numbers :\",tuple(l))\n",
    "        break"
   ]
  },
  {
   "cell_type": "markdown",
   "id": "ca040139-3450-4a24-b58d-fe0cc905c7c2",
   "metadata": {},
   "source": [
    "33. Check if a tuple is a palindrome."
   ]
  },
  {
   "cell_type": "code",
   "execution_count": 31,
   "id": "199d0c47-4ca2-41a1-b780-86c9c4ad529d",
   "metadata": {},
   "outputs": [],
   "source": [
    "#"
   ]
  },
  {
   "cell_type": "markdown",
   "id": "740c2fa2-64f0-4519-b8eb-ce80e9061887",
   "metadata": {},
   "source": [
    "34. Create a tuple of squares of numbers from 1 to 5."
   ]
  },
  {
   "cell_type": "code",
   "execution_count": 30,
   "id": "9c7897cf-8309-4db0-b070-9b0d1ae1b456",
   "metadata": {},
   "outputs": [
    {
     "name": "stdout",
     "output_type": "stream",
     "text": [
      "tuple of squares of numbers from 1 to 5 : (1, 4, 9, 16, 25)\n"
     ]
    }
   ],
   "source": [
    "l = []\n",
    "for i in range(1,6):\n",
    "    l.append(i**2)\n",
    "print(\"tuple of squares of numbers from 1 to 5 :\",tuple(l))"
   ]
  },
  {
   "cell_type": "markdown",
   "id": "3b4bc4b6-04aa-4cf7-b0b9-f2bbbee1923f",
   "metadata": {},
   "source": [
    "35. Filter out all even numbers from a tuple."
   ]
  },
  {
   "cell_type": "code",
   "execution_count": 33,
   "id": "ad75e321-40a3-47ab-9b2e-afdbd719225b",
   "metadata": {},
   "outputs": [
    {
     "name": "stdout",
     "output_type": "stream",
     "text": [
      "Set of even numbers from a tuple : (2, 4, 6, 8)\n"
     ]
    }
   ],
   "source": [
    "t = (1,2,3,4,5,6,7,8,9)\n",
    "l = []\n",
    "for i in [i for i in t if i % 2 == 0]:\n",
    "    l.append(i)\n",
    "print(\"Set of even numbers from a tuple :\",tuple(l))    "
   ]
  },
  {
   "cell_type": "markdown",
   "id": "49ba62f7-7224-476c-84e9-938a6e68bec5",
   "metadata": {},
   "source": [
    "36. Multiply all elements in a tuple by 2."
   ]
  },
  {
   "cell_type": "code",
   "execution_count": 35,
   "id": "3c9fbe2d-d068-4a81-8569-d50f11a80b60",
   "metadata": {},
   "outputs": [
    {
     "name": "stdout",
     "output_type": "stream",
     "text": [
      "Set of even numbers from a tuple : (2, 4, 6, 8, 10, 12, 14, 16, 18)\n"
     ]
    }
   ],
   "source": [
    "t = (1,2,3,4,5,6,7,8,9)\n",
    "l = []\n",
    "for i in [i*2 for i in t]:\n",
    "    l.append(i)\n",
    "print(\"Set of even numbers from a tuple :\",tuple(l))    "
   ]
  },
  {
   "cell_type": "markdown",
   "id": "47ac7f52-44bf-46fa-9d2e-15bdee742924",
   "metadata": {},
   "source": [
    "37. Create a tuple of random numbers."
   ]
  },
  {
   "cell_type": "code",
   "execution_count": 29,
   "id": "3b214f70-7c8e-4860-ab55-defbf9e49a30",
   "metadata": {},
   "outputs": [
    {
     "name": "stdin",
     "output_type": "stream",
     "text": [
      "Enter the number of random numbers required : 4\n",
      "Enter the number to insert : 1\n",
      "Enter the number to insert : 2\n",
      "Enter the number to insert : 3\n",
      "Enter the number to insert : 5\n"
     ]
    },
    {
     "name": "stdout",
     "output_type": "stream",
     "text": [
      "User input tuple : (1, 2, 3, 5)\n"
     ]
    }
   ],
   "source": [
    "n = int(input(\"Enter the number of random numbers required :\"))\n",
    "l = []\n",
    "for i in range(n):\n",
    "    a = int(input(\"Enter the number to insert :\"))\n",
    "    l.append(a)\n",
    "    \n",
    "print(\"User input tuple :\",tuple(l))"
   ]
  },
  {
   "cell_type": "markdown",
   "id": "b1d00550-b9ff-43d7-9915-f4b95dfe6d20",
   "metadata": {},
   "source": [
    "38. Check if a tuple is sorted."
   ]
  },
  {
   "cell_type": "code",
   "execution_count": 26,
   "id": "3ac923cd-0838-491c-8fcc-022a6da2ecf4",
   "metadata": {},
   "outputs": [
    {
     "name": "stdout",
     "output_type": "stream",
     "text": [
      "Tuple is not sorted\n"
     ]
    }
   ],
   "source": [
    "t = (1,5,3)\n",
    "\n",
    "if t == tuple(sorted(t)):\n",
    "    print(\"Tuple is sorted\")\n",
    "else:\n",
    "    print(\"Tuple is not sorted\")"
   ]
  },
  {
   "cell_type": "markdown",
   "id": "dcb2ac0a-0f9e-46b7-82a5-4ef8ede13b41",
   "metadata": {},
   "source": [
    "39. Rotate a tuple to the left by `n` positions."
   ]
  },
  {
   "cell_type": "code",
   "execution_count": 138,
   "id": "32c8f61c-f11e-4a22-9cdb-96c10ced66ac",
   "metadata": {},
   "outputs": [],
   "source": [
    "#"
   ]
  },
  {
   "cell_type": "markdown",
   "id": "9de51e09-b3d7-4759-a099-8cf362adde38",
   "metadata": {},
   "source": [
    "40. Rotate a tuple to the right by `n` positions."
   ]
  },
  {
   "cell_type": "code",
   "execution_count": 35,
   "id": "6b303e65-e0c7-4939-b037-84b2d1bffbba",
   "metadata": {},
   "outputs": [],
   "source": [
    "#"
   ]
  },
  {
   "cell_type": "markdown",
   "id": "91e15b3f-a040-4b53-985e-a5256e613e13",
   "metadata": {},
   "source": [
    "41. Create a tuple of the first 5 Fibonacci numbers."
   ]
  },
  {
   "cell_type": "code",
   "execution_count": 32,
   "id": "deb3f287-190f-43df-b600-8c7166479467",
   "metadata": {},
   "outputs": [
    {
     "name": "stdout",
     "output_type": "stream",
     "text": [
      "Tuple of the first 5 Fibonacci numbers : (0, 1, 1, 2, 3)\n"
     ]
    }
   ],
   "source": [
    "l = []\n",
    "a,b = 0,1\n",
    "for i in range(5):\n",
    "    l.append(a)\n",
    "    a,b=b,a+b\n",
    "    \n",
    "print(\"Tuple of the first 5 Fibonacci numbers :\",tuple(l))"
   ]
  },
  {
   "cell_type": "markdown",
   "id": "04eafe68-3363-4c9e-9acf-ce1061cb9167",
   "metadata": {},
   "source": [
    "42. Create a tuple from user input."
   ]
  },
  {
   "cell_type": "code",
   "execution_count": 33,
   "id": "927b9600-047b-4900-9088-9ff0e6a4edda",
   "metadata": {},
   "outputs": [],
   "source": [
    "#"
   ]
  },
  {
   "cell_type": "markdown",
   "id": "ee613804-29e1-42e6-94d9-404553cf01d6",
   "metadata": {},
   "source": [
    "43. Swap two elements in a tuple."
   ]
  },
  {
   "cell_type": "code",
   "execution_count": 30,
   "id": "9f460bef-b06d-4e73-a426-d3d738bb6e49",
   "metadata": {},
   "outputs": [
    {
     "name": "stdin",
     "output_type": "stream",
     "text": [
      "Enter the positions of elements you want to want to swap seperated by spaces : 0 2\n"
     ]
    },
    {
     "name": "stdout",
     "output_type": "stream",
     "text": [
      "Afetr Swapping :\n",
      "(3, 2, 1, 4, 5, 6)\n"
     ]
    }
   ],
   "source": [
    "t = (1,2,3,4,5,6)\n",
    "l = list(t)\n",
    "i,j=input(\"Enter the positions of elements you want to want to swap seperated by spaces :\").split()\n",
    "i,j=int(i),int(j)\n",
    "temp = l[i]\n",
    "l[i]=l[j]\n",
    "l[j]=temp\n",
    "print(\"Afetr Swapping :\")\n",
    "print(tuple(l))"
   ]
  },
  {
   "cell_type": "markdown",
   "id": "048a5b68-4303-4eeb-bbd6-55aecc8f5c15",
   "metadata": {},
   "source": [
    "44. Reverse the elements of a tuple."
   ]
  },
  {
   "cell_type": "code",
   "execution_count": 143,
   "id": "9c604263-e5e2-402d-8f98-e973f9650d74",
   "metadata": {},
   "outputs": [],
   "source": [
    "# reversing a integer\n",
    "def rev_int(n:int):\n",
    "    \n",
    "    \n",
    "    \n"
   ]
  },
  {
   "cell_type": "markdown",
   "id": "65c8676e-5765-4400-ad4b-5978394ac198",
   "metadata": {},
   "source": [
    "45. Create a tuple of the first `n` powers of 2."
   ]
  },
  {
   "cell_type": "code",
   "execution_count": 2,
   "id": "55598ee1-ccb1-4152-9bc4-1006989104d6",
   "metadata": {},
   "outputs": [
    {
     "name": "stdin",
     "output_type": "stream",
     "text": [
      "Enter the value of n : 5\n"
     ]
    },
    {
     "name": "stdout",
     "output_type": "stream",
     "text": [
      "Desired tuple : (1, 2, 4, 8, 16)\n"
     ]
    }
   ],
   "source": [
    "n = int(input(\"Enter the value of n :\"))\n",
    "l = []\n",
    "\n",
    "for i in range(n):\n",
    "    l.append(2**i)\n",
    "\n",
    "print(\"Desired tuple :\",tuple(l))"
   ]
  },
  {
   "cell_type": "markdown",
   "id": "27cab087-8487-4457-91dc-39d426070e2d",
   "metadata": {},
   "source": [
    "46. Find the longest string in a tuple of strings."
   ]
  },
  {
   "cell_type": "code",
   "execution_count": 7,
   "id": "5e3ba773-eff8-4d9a-9f4a-2eba65fa1a15",
   "metadata": {},
   "outputs": [
    {
     "name": "stdout",
     "output_type": "stream",
     "text": [
      "Longest string in a tuple of strings : ramesh\n"
     ]
    }
   ],
   "source": [
    "s = (\"sudh\",\"kumar\",\"ramesh\")\n",
    "length_word = 0\n",
    "longest_word = ''\n",
    "\n",
    "for i in s:\n",
    "    if len(i)>=length_word:\n",
    "        longest_word = i\n",
    "        length_word = len(s)\n",
    "        \n",
    "print(\"Longest string in a tuple of strings :\",longest_word)"
   ]
  },
  {
   "cell_type": "markdown",
   "id": "2816fcd1-453f-4ea5-86b6-616a092a59e6",
   "metadata": {},
   "source": [
    "47. Find the shortest string in a tuple of strings."
   ]
  },
  {
   "cell_type": "code",
   "execution_count": 8,
   "id": "04425b64-d4ea-4511-a8ec-681beae533b6",
   "metadata": {},
   "outputs": [
    {
     "name": "stdout",
     "output_type": "stream",
     "text": [
      "Longest string in a tuple of strings : sudh\n"
     ]
    }
   ],
   "source": [
    "s = (\"sudh\",\"kumar\",\"ramesh\")\n",
    "length_word = len(s[0])\n",
    "shortest_word = ''\n",
    "\n",
    "for i in s:\n",
    "    if len(i)<=length_word:\n",
    "        shortest_word = i\n",
    "        length_word = len(s)\n",
    "        \n",
    "print(\"Longest string in a tuple of strings :\",shortest_word)"
   ]
  },
  {
   "cell_type": "markdown",
   "id": "d3e68980-a980-4e66-a2b9-2a5d7a821277",
   "metadata": {},
   "source": [
    "48. Create a tuple of the first `n` triangular numbers."
   ]
  },
  {
   "cell_type": "code",
   "execution_count": 147,
   "id": "314abd03-cee6-49d4-a30c-9097ea4ff351",
   "metadata": {},
   "outputs": [],
   "source": [
    "# "
   ]
  },
  {
   "cell_type": "markdown",
   "id": "a4182223-46ec-44b8-9ec8-ff1e097dbac4",
   "metadata": {},
   "source": [
    "49. Check if a tuple contains another tuple as a subsequence."
   ]
  },
  {
   "cell_type": "code",
   "execution_count": 14,
   "id": "b60f1ff5-f763-4f8a-bc0f-28bc19594972",
   "metadata": {},
   "outputs": [
    {
     "name": "stdout",
     "output_type": "stream",
     "text": [
      "Tuple contains another tuple as a subsequence\n"
     ]
    }
   ],
   "source": [
    "t1 = (1,2,3,4,5,6,7)\n",
    "t2 = (1,3,5,7)\n",
    "\n",
    "if set(t2).issubset(set(t1)):\n",
    "    print(\"Tuple contains another tuple as a subsequence\")\n",
    "else:\n",
    "    print(\"Tuple doesn't contains another tuple as a subsequence\")"
   ]
  },
  {
   "cell_type": "markdown",
   "id": "03d173c6-298b-4010-a4c7-eb7dc40a5a23",
   "metadata": {},
   "source": [
    "50. Create a tuple of alternating 1s and 0s of length `n`."
   ]
  },
  {
   "cell_type": "code",
   "execution_count": 10,
   "id": "839f12b7-ad70-4150-9de6-a2b32e483099",
   "metadata": {},
   "outputs": [
    {
     "name": "stdin",
     "output_type": "stream",
     "text": [
      "Enter the length : 5\n"
     ]
    },
    {
     "name": "stdout",
     "output_type": "stream",
     "text": [
      "Desired tuple : (1, 0, 1, 0, 1)\n"
     ]
    }
   ],
   "source": [
    "n = int(input(\"Enter the length :\"))\n",
    "l = []\n",
    "for i in range(n):\n",
    "    if i % 2 == 0:\n",
    "        l.append(1)\n",
    "    else:\n",
    "        l.append(0)\n",
    "\n",
    "print(\"Desired tuple :\",tuple(l))"
   ]
  },
  {
   "cell_type": "markdown",
   "id": "7343afe5-c372-421a-ae31-cb9908a97c7d",
   "metadata": {
    "jupyter": {
     "source_hidden": true
    },
    "tags": []
   },
   "source": []
  },
  {
   "cell_type": "markdown",
   "id": "e6a6674d-140d-4463-b27f-431fb4f35082",
   "metadata": {},
   "source": [
    "Set Based Practice Problem :"
   ]
  },
  {
   "cell_type": "markdown",
   "id": "e6c0c922-f298-4eae-8641-cbb4575a932e",
   "metadata": {},
   "source": [
    "1. Create a set with integers from 1 to 5."
   ]
  },
  {
   "cell_type": "code",
   "execution_count": 20,
   "id": "dc343a32-0c30-48eb-ac6c-907da823a4cc",
   "metadata": {},
   "outputs": [
    {
     "name": "stdout",
     "output_type": "stream",
     "text": [
      "{1, 2, 3, 4, 5}\n"
     ]
    }
   ],
   "source": [
    "s = set()\n",
    "for i in range(1,6):\n",
    "    s.add(i)\n",
    "\n",
    "print(s)"
   ]
  },
  {
   "cell_type": "markdown",
   "id": "e6c6ece4-c948-4508-8099-cd15827b86f2",
   "metadata": {},
   "source": [
    "2. Add an element to a set."
   ]
  },
  {
   "cell_type": "code",
   "execution_count": 4,
   "id": "99595ec7-c9a5-448c-8a0a-e6191fd88d63",
   "metadata": {},
   "outputs": [
    {
     "data": {
      "text/plain": [
       "{1, 2, 3, 4, 5, 6}"
      ]
     },
     "execution_count": 4,
     "metadata": {},
     "output_type": "execute_result"
    }
   ],
   "source": [
    "s.add(6)\n",
    "s"
   ]
  },
  {
   "cell_type": "markdown",
   "id": "6ba9e6e9-d99d-48dc-a8cd-0f0ede7d4f35",
   "metadata": {},
   "source": [
    "3. Remove an element from a set."
   ]
  },
  {
   "cell_type": "code",
   "execution_count": 8,
   "id": "1f0ef24c-ccba-46be-8698-7da23df86845",
   "metadata": {},
   "outputs": [
    {
     "data": {
      "text/plain": [
       "{1, 2, 3, 5}"
      ]
     },
     "execution_count": 8,
     "metadata": {},
     "output_type": "execute_result"
    }
   ],
   "source": [
    "s.remove(4)\n",
    "s"
   ]
  },
  {
   "cell_type": "markdown",
   "id": "dae8baaa-e3f1-4451-a286-6bc992ed38ac",
   "metadata": {},
   "source": [
    "4. Check if an element exists in a set."
   ]
  },
  {
   "cell_type": "code",
   "execution_count": 10,
   "id": "e10322f9-ea84-4972-8b54-efc984e86973",
   "metadata": {},
   "outputs": [
    {
     "name": "stdin",
     "output_type": "stream",
     "text": [
      "Enter the element you want to check : 5\n"
     ]
    },
    {
     "name": "stdout",
     "output_type": "stream",
     "text": [
      "5 is present in the list\n"
     ]
    }
   ],
   "source": [
    "# declaring set of integers\n",
    "s = {1,2,3,4,5}\n",
    "\n",
    "# checking if an element is present in the set or not\n",
    "n = int(input(\"Enter the element you want to check :\"))\n",
    "if n in s:\n",
    "    print(n,\"is present in the list\")\n",
    "else:\n",
    "    print(n,\"is not present in the list\")"
   ]
  },
  {
   "cell_type": "markdown",
   "id": "a5e989e7-1584-4e6a-8115-474e09ff6d6d",
   "metadata": {},
   "source": [
    "5. Find the length of a set without using the `len()` function."
   ]
  },
  {
   "cell_type": "code",
   "execution_count": 19,
   "id": "15f408fd-16eb-4d2c-bdf0-76185f05e910",
   "metadata": {},
   "outputs": [
    {
     "name": "stdout",
     "output_type": "stream",
     "text": [
      "The length of the set is : 4\n"
     ]
    }
   ],
   "source": [
    "# declaring set of integers \n",
    "s = {1,2,3,4}\n",
    "\n",
    "# findiing the length of the set\n",
    "l = 0\n",
    "for i in s:\n",
    "    l += 1\n",
    "\n",
    "print(\"The length of the set is :\",l)    "
   ]
  },
  {
   "cell_type": "markdown",
   "id": "2cc73a54-5b49-4621-886e-8f0eac5bc4c5",
   "metadata": {},
   "source": [
    "6. Clear all elements from a set."
   ]
  },
  {
   "cell_type": "code",
   "execution_count": 15,
   "id": "c9923ca5-836c-44a8-ac0b-d48b88701a6e",
   "metadata": {},
   "outputs": [
    {
     "data": {
      "text/plain": [
       "set()"
      ]
     },
     "execution_count": 15,
     "metadata": {},
     "output_type": "execute_result"
    }
   ],
   "source": [
    "# declaring a set of integers\n",
    "s1 = {1,2,3,4,56}\n",
    "\n",
    "s1.clear()\n",
    "s1"
   ]
  },
  {
   "cell_type": "markdown",
   "id": "0ae0e117-6621-4722-8cad-af2cd0796d2f",
   "metadata": {},
   "source": [
    "7. Create a set of even numbers from 1 to 10."
   ]
  },
  {
   "cell_type": "code",
   "execution_count": 21,
   "id": "8b550f7f-7b11-4e75-9f94-8cdbca9f9d21",
   "metadata": {},
   "outputs": [
    {
     "name": "stdout",
     "output_type": "stream",
     "text": [
      "{2, 4, 6, 8, 10}\n"
     ]
    }
   ],
   "source": [
    "s1 = set()\n",
    "for i in [i for i in range(1,11) if i%2==0]:\n",
    "    s1.add(i)\n",
    "\n",
    "print(s1)"
   ]
  },
  {
   "cell_type": "markdown",
   "id": "bd49b397-735d-4503-9053-81c101178568",
   "metadata": {},
   "source": [
    "8. Create a set of odd numbers from 1 to 10."
   ]
  },
  {
   "cell_type": "code",
   "execution_count": 22,
   "id": "d8b9986d-1b00-4a60-9220-0cdb6c062321",
   "metadata": {},
   "outputs": [
    {
     "name": "stdout",
     "output_type": "stream",
     "text": [
      "{1, 3, 5, 7, 9}\n"
     ]
    }
   ],
   "source": [
    "s2 = set()\n",
    "for i in [i for i in range(1,11) if i%2!=0]:\n",
    "    s2.add(i)\n",
    "\n",
    "print(s2)"
   ]
  },
  {
   "cell_type": "markdown",
   "id": "3d0cffbf-0dcd-49ca-a7f9-2dba2f4dc7eb",
   "metadata": {},
   "source": [
    "9. Find the union of two sets."
   ]
  },
  {
   "cell_type": "code",
   "execution_count": 23,
   "id": "fb95fa98-1949-4442-9bd6-810da6f966af",
   "metadata": {},
   "outputs": [
    {
     "data": {
      "text/plain": [
       "{1, 2, 3, 4, 5, 6, 7, 8, 9, 10}"
      ]
     },
     "execution_count": 23,
     "metadata": {},
     "output_type": "execute_result"
    }
   ],
   "source": [
    "s1 = {1,2,3,4,5}\n",
    "s2 = {6,7,8,9,10}\n",
    "s1.union(s2)"
   ]
  },
  {
   "cell_type": "markdown",
   "id": "64b5adf2-519d-43d3-a344-2d9688fed1bc",
   "metadata": {},
   "source": [
    "10. Find the intersection of two sets."
   ]
  },
  {
   "cell_type": "code",
   "execution_count": 24,
   "id": "cea34e58-484b-4f21-9167-cfc30425e874",
   "metadata": {},
   "outputs": [
    {
     "data": {
      "text/plain": [
       "{5}"
      ]
     },
     "execution_count": 24,
     "metadata": {},
     "output_type": "execute_result"
    }
   ],
   "source": [
    "s1 = {1,2,3,4,5}\n",
    "s2 = {5,7,8,9,10}\n",
    "s1.intersection(s2)"
   ]
  },
  {
   "cell_type": "markdown",
   "id": "ca5c3153-3d52-4024-835f-3379acd5fe17",
   "metadata": {},
   "source": [
    "11. Find the difference between two sets."
   ]
  },
  {
   "cell_type": "code",
   "execution_count": 2,
   "id": "b58c04d3-902e-413f-8c01-2189833374cc",
   "metadata": {},
   "outputs": [
    {
     "data": {
      "text/plain": [
       "{1, 2, 3}"
      ]
     },
     "execution_count": 2,
     "metadata": {},
     "output_type": "execute_result"
    }
   ],
   "source": [
    "s1 = {1,2,3,4,5}\n",
    "s2 = {4,5,6,7,8}\n",
    "s1.difference(s2)"
   ]
  },
  {
   "cell_type": "markdown",
   "id": "f7f58435-f51e-47f7-a97a-2a71051f9bf7",
   "metadata": {},
   "source": [
    "12. Check if a set is a subset of another set."
   ]
  },
  {
   "cell_type": "code",
   "execution_count": 3,
   "id": "8f5d0d1d-8161-4b40-87d3-fd700e73ffe3",
   "metadata": {},
   "outputs": [
    {
     "data": {
      "text/plain": [
       "True"
      ]
     },
     "execution_count": 3,
     "metadata": {},
     "output_type": "execute_result"
    }
   ],
   "source": [
    "a = {1,2,3}\n",
    "b = {1,2,3,4,5}\n",
    "a.issubset(b)"
   ]
  },
  {
   "cell_type": "markdown",
   "id": "08904798-c0df-483a-90fe-cd58fd25b151",
   "metadata": {},
   "source": [
    "13. Check if a set is a superset of another set."
   ]
  },
  {
   "cell_type": "code",
   "execution_count": 5,
   "id": "51ea4966-6fdc-4d60-b8bf-a7ffaa5b5f13",
   "metadata": {},
   "outputs": [
    {
     "data": {
      "text/plain": [
       "True"
      ]
     },
     "execution_count": 5,
     "metadata": {},
     "output_type": "execute_result"
    }
   ],
   "source": [
    "a = {1,2,3}\n",
    "b = {1,2,3,4,5}\n",
    "b.issuperset(a)"
   ]
  },
  {
   "cell_type": "markdown",
   "id": "1df3b783-f6d6-4823-8c52-2867c6b50555",
   "metadata": {},
   "source": [
    "14. Create a set from a list."
   ]
  },
  {
   "cell_type": "code",
   "execution_count": 6,
   "id": "7999d83b-91a6-4f9b-af3a-2455b6eaec92",
   "metadata": {},
   "outputs": [
    {
     "data": {
      "text/plain": [
       "{1, 2, 3, 4, 5}"
      ]
     },
     "execution_count": 6,
     "metadata": {},
     "output_type": "execute_result"
    }
   ],
   "source": [
    "l = [1,2,3,4,5]\n",
    "s = set(l)\n",
    "s"
   ]
  },
  {
   "cell_type": "markdown",
   "id": "0cfa2b7f-efe4-4b9a-a535-3fb5820fe3fc",
   "metadata": {},
   "source": [
    "15. Convert a set to a list."
   ]
  },
  {
   "cell_type": "code",
   "execution_count": 8,
   "id": "9d3fb59e-3217-416d-82d8-62370dc3efd7",
   "metadata": {},
   "outputs": [
    {
     "data": {
      "text/plain": [
       "[1, 2, 3, 4, 5]"
      ]
     },
     "execution_count": 8,
     "metadata": {},
     "output_type": "execute_result"
    }
   ],
   "source": [
    "s = {1,2,3,4,5}\n",
    "l = list(s)\n",
    "l"
   ]
  },
  {
   "cell_type": "markdown",
   "id": "6e938089-2ba8-4a0c-9fd8-c8f61e9082a4",
   "metadata": {},
   "source": [
    "16. Remove a random element from a set."
   ]
  },
  {
   "cell_type": "code",
   "execution_count": 10,
   "id": "8c612158-04d8-47db-b2bc-f41359aee291",
   "metadata": {},
   "outputs": [
    {
     "data": {
      "text/plain": [
       "{2, 3, 4, 5}"
      ]
     },
     "execution_count": 10,
     "metadata": {},
     "output_type": "execute_result"
    }
   ],
   "source": [
    "s = {1,2,3,4,5}\n",
    "s.remove(1)\n",
    "s"
   ]
  },
  {
   "cell_type": "markdown",
   "id": "d271c024-31cf-413d-a17d-0ef57c4d9962",
   "metadata": {},
   "source": [
    "17. Pop an element from a set."
   ]
  },
  {
   "cell_type": "code",
   "execution_count": 26,
   "id": "7a570739-1684-4d2a-9c3b-a2f44911a23d",
   "metadata": {},
   "outputs": [
    {
     "data": {
      "text/plain": [
       "{2, 3, 4, 5}"
      ]
     },
     "execution_count": 26,
     "metadata": {},
     "output_type": "execute_result"
    }
   ],
   "source": [
    "s = {1,2,3,4,5}\n",
    "s.pop()\n",
    "s"
   ]
  },
  {
   "cell_type": "markdown",
   "id": "41e0de77-81bc-483e-af50-62e6a79994ba",
   "metadata": {},
   "source": [
    "18. Check if two sets have no elements in common."
   ]
  },
  {
   "cell_type": "code",
   "execution_count": 15,
   "id": "1d9e1c34-4e56-4f3e-8fb1-cca11fcb178b",
   "metadata": {},
   "outputs": [
    {
     "name": "stdout",
     "output_type": "stream",
     "text": [
      "No common element\n"
     ]
    }
   ],
   "source": [
    "s1 = {1,2,3}\n",
    "s2 = {4,5,6}\n",
    "if s1.intersection(s2) == set():\n",
    "    print(\"No common element\")\n",
    "else:\n",
    "    print(\"Has common element\")"
   ]
  },
  {
   "cell_type": "markdown",
   "id": "2f25d67b-6cf8-43cb-8ca9-9aa4b4af8d09",
   "metadata": {},
   "source": [
    "19. Find the symmetric difference between two sets."
   ]
  },
  {
   "cell_type": "code",
   "execution_count": 31,
   "id": "9a7a5b2f-0731-42ed-b21f-4231600c9cf2",
   "metadata": {},
   "outputs": [
    {
     "data": {
      "text/plain": [
       "{1, 2, 4, 5}"
      ]
     },
     "execution_count": 31,
     "metadata": {},
     "output_type": "execute_result"
    }
   ],
   "source": [
    "s1 = {1,2,3}\n",
    "s2 = {3,4,5}\n",
    "s1.symmetric_difference(s2)"
   ]
  },
  {
   "cell_type": "markdown",
   "id": "efcef8bd-6cd5-48d8-b0b6-7d3f820568a4",
   "metadata": {},
   "source": [
    "20. Update a set with elements from another set."
   ]
  },
  {
   "cell_type": "code",
   "execution_count": 29,
   "id": "a9430ef6-8c91-4bbd-8a61-edf89faae168",
   "metadata": {},
   "outputs": [
    {
     "data": {
      "text/plain": [
       "{1, 2, 3, 4, 5, 6}"
      ]
     },
     "execution_count": 29,
     "metadata": {},
     "output_type": "execute_result"
    }
   ],
   "source": [
    "s1 = {1,2,3}\n",
    "s2 = {4,5,6}\n",
    "s1.update(s2)\n",
    "s1"
   ]
  },
  {
   "cell_type": "markdown",
   "id": "e189f935-1a88-4e6b-92dc-99c85ebde54b",
   "metadata": {},
   "source": [
    "21. Create a set of the first 5 prime numbers."
   ]
  },
  {
   "cell_type": "code",
   "execution_count": 26,
   "id": "788edce6-f7b0-494f-8c4d-52fc16617326",
   "metadata": {},
   "outputs": [
    {
     "name": "stdout",
     "output_type": "stream",
     "text": [
      "The set of first 5 prime numbers :\n",
      "{2, 3, 5, 7, 11}\n"
     ]
    }
   ],
   "source": [
    "s = set()\n",
    "n = 0\n",
    "for i in range(1,100):\n",
    "    c = 0\n",
    "    for j in range(1,i+1):\n",
    "        if i % j == 0:\n",
    "            c += 1\n",
    "    if c == 2:\n",
    "        s.add(i)\n",
    "        n += 1\n",
    "    if n == 5:\n",
    "        break\n",
    "        \n",
    "print(\"The set of first 5 prime numbers :\")\n",
    "print(s)"
   ]
  },
  {
   "cell_type": "markdown",
   "id": "27ef986d-2bd2-4357-9e34-7dbe2aff8c1a",
   "metadata": {},
   "source": [
    "22. Check if two sets are identical."
   ]
  },
  {
   "cell_type": "code",
   "execution_count": 22,
   "id": "2b992af0-7629-4466-a445-07852d742748",
   "metadata": {},
   "outputs": [
    {
     "name": "stdout",
     "output_type": "stream",
     "text": [
      "Two sets are identical\n"
     ]
    }
   ],
   "source": [
    "s1 = {1,2,3}\n",
    "s2 = {3,1,2}\n",
    "if s1 == s2:\n",
    "    print(\"Two sets are identical\")\n",
    "else:\n",
    "    print(\"Two sets are not identical\")"
   ]
  },
  {
   "cell_type": "markdown",
   "id": "a38daff3-55b1-4fc4-b6c1-7ba332dcc5da",
   "metadata": {},
   "source": [
    "23. Create a frozen set."
   ]
  },
  {
   "cell_type": "code",
   "execution_count": 27,
   "id": "e88b2f40-a299-40d5-a6f4-a5589fe91b54",
   "metadata": {},
   "outputs": [
    {
     "name": "stdout",
     "output_type": "stream",
     "text": [
      "frozenset({1, 2, 3})\n"
     ]
    }
   ],
   "source": [
    "s = frozenset([1,2,3])\n",
    "print(s)"
   ]
  },
  {
   "cell_type": "markdown",
   "id": "7b225f7e-c253-40f0-8c2a-c9974026ce99",
   "metadata": {},
   "source": [
    "24. Check if a set is disjoint with another set."
   ]
  },
  {
   "cell_type": "code",
   "execution_count": 39,
   "id": "ef41180c-8a5c-458f-8bb0-fffe8f74fd60",
   "metadata": {},
   "outputs": [
    {
     "name": "stdout",
     "output_type": "stream",
     "text": [
      "Sets are disjoint\n"
     ]
    }
   ],
   "source": [
    "s1 = {1,2,3}\n",
    "s2 = {4,5,6}\n",
    "if s1.intersection(s2) == set():\n",
    "    print(\"Sets are disjoint\")\n",
    "else:\n",
    "    print(\"Sets are not disjoint\")"
   ]
  },
  {
   "cell_type": "markdown",
   "id": "393a12aa-371a-4b0d-8d4b-22d18a2c127e",
   "metadata": {},
   "source": [
    "25. Create a set of squares of numbers from 1 to 5."
   ]
  },
  {
   "cell_type": "code",
   "execution_count": 41,
   "id": "377fe132-f0a7-452a-b0e2-ba37c153781e",
   "metadata": {},
   "outputs": [
    {
     "name": "stdout",
     "output_type": "stream",
     "text": [
      "The set of squares of numbers from 1 to 5 :\n",
      "{1, 4, 9, 16, 25}\n"
     ]
    }
   ],
   "source": [
    "s = set()\n",
    "for i in range(1,6):\n",
    "    s.add(i*i)\n",
    "    \n",
    "print(\"The set of squares of numbers from 1 to 5 :\")\n",
    "print(s)"
   ]
  },
  {
   "cell_type": "markdown",
   "id": "ab79588c-7e2d-443d-8210-fa08442c1e5b",
   "metadata": {},
   "source": [
    "26. Filter out all even numbers from a set."
   ]
  },
  {
   "cell_type": "code",
   "execution_count": 28,
   "id": "1321503e-f177-47a9-a016-824f8fd91d46",
   "metadata": {},
   "outputs": [
    {
     "name": "stdout",
     "output_type": "stream",
     "text": [
      "Orginal set : {1, 2, 3, 4, 5, 6, 7, 8, 9, 10}\n",
      "Set of even numbers from original set : {2, 4, 6, 8, 10}\n"
     ]
    }
   ],
   "source": [
    "s = {1,2,3,4,5,6,7,8,9,10}\n",
    "s1 = set()\n",
    "\n",
    "for i in s:\n",
    "    if i % 2 == 0:\n",
    "        s1.add(i)\n",
    "\n",
    "print(\"Orginal set :\",s)\n",
    "print(\"Set of even numbers from original set :\",s1)"
   ]
  },
  {
   "cell_type": "markdown",
   "id": "31b720d7-40e2-4223-b126-248460fc157e",
   "metadata": {},
   "source": [
    "27. Multiply all elements in a set by 2."
   ]
  },
  {
   "cell_type": "code",
   "execution_count": 44,
   "id": "3a88d86d-745e-4a92-a56b-e9029df2130d",
   "metadata": {},
   "outputs": [
    {
     "name": "stdout",
     "output_type": "stream",
     "text": [
      "Modified set : {2, 8, 46, 20, 'pwskillspwskills'}\n"
     ]
    }
   ],
   "source": [
    "s = {10,\"pwskills\",23,4,True}\n",
    "l = list(s)\n",
    "s1 = set()\n",
    "\n",
    "for i in l:\n",
    "        s1.add(i*2)\n",
    "\n",
    "print(\"Modified set :\",s1)"
   ]
  },
  {
   "cell_type": "markdown",
   "id": "8b76683a-cf3e-416e-9ce3-014996bb19e4",
   "metadata": {},
   "source": [
    "28. Create a set of random numbers."
   ]
  },
  {
   "cell_type": "code",
   "execution_count": 30,
   "id": "a31c2055-8956-4e9a-bb53-10fb758077b4",
   "metadata": {},
   "outputs": [
    {
     "name": "stdin",
     "output_type": "stream",
     "text": [
      "Enter the number of random numbers required : 3\n",
      "Enter the number you want to insert in a set : 1\n",
      "Enter the number you want to insert in a set : 2\n",
      "Enter the number you want to insert in a set : 3\n"
     ]
    },
    {
     "name": "stdout",
     "output_type": "stream",
     "text": [
      "The desired set is :\n",
      "{1, 2, 3}\n"
     ]
    }
   ],
   "source": [
    "n = int(input(\"Enter the number of random numbers required :\"))\n",
    "s1 = set()\n",
    "for i in range(n):\n",
    "    a = int(input(\"Enter the number you want to insert in a set :\"))\n",
    "    s1.add(a)\n",
    "\n",
    "print(\"The desired set is :\")\n",
    "print(s1)"
   ]
  },
  {
   "cell_type": "markdown",
   "id": "3ad27889-ff0d-4ef9-b14b-ff577a99c3c9",
   "metadata": {},
   "source": [
    "29. Check if a set is empty."
   ]
  },
  {
   "cell_type": "code",
   "execution_count": 56,
   "id": "fb954f93-7dc9-4b74-a29b-81c2bdd51ea9",
   "metadata": {},
   "outputs": [
    {
     "name": "stdout",
     "output_type": "stream",
     "text": [
      "Set is empty\n"
     ]
    }
   ],
   "source": [
    "s = set()\n",
    "if s == set():\n",
    "    print(\"Set is empty\")\n",
    "else:\n",
    "    print(\"Set is not empty\")"
   ]
  },
  {
   "cell_type": "markdown",
   "id": "b92cab24-e049-448b-8c7e-11ef0f6172b4",
   "metadata": {},
   "source": [
    "30. Create a nested set (hint: use frozenset)."
   ]
  },
  {
   "cell_type": "code",
   "execution_count": 181,
   "id": "65782b63-013d-48c2-8cd3-e1f6dd1d47ec",
   "metadata": {},
   "outputs": [],
   "source": [
    "# "
   ]
  },
  {
   "cell_type": "markdown",
   "id": "8f2d9c47-d950-44d0-a29a-f620c991af82",
   "metadata": {},
   "source": [
    "31. Remove an element from a set using the discard method."
   ]
  },
  {
   "cell_type": "code",
   "execution_count": 31,
   "id": "326c5836-b7c8-43a6-9318-7915fca4fe08",
   "metadata": {},
   "outputs": [
    {
     "data": {
      "text/plain": [
       "{1, 3}"
      ]
     },
     "execution_count": 31,
     "metadata": {},
     "output_type": "execute_result"
    }
   ],
   "source": [
    "s = {1,2,3}\n",
    "s.discard(2)\n",
    "s"
   ]
  },
  {
   "cell_type": "markdown",
   "id": "525e479c-9ce4-4c6e-8bc0-2a8fed4a5889",
   "metadata": {},
   "source": [
    "32. Compare two sets."
   ]
  },
  {
   "cell_type": "code",
   "execution_count": 53,
   "id": "b12d51ac-267f-45d5-8341-a06ce7e6e328",
   "metadata": {},
   "outputs": [
    {
     "name": "stdout",
     "output_type": "stream",
     "text": [
      "sets are equivalent\n"
     ]
    }
   ],
   "source": [
    "s1 = {1,2,3}\n",
    "s2 = {4,5,6}\n",
    "\n",
    "if s1 == s2:\n",
    "    print(\"Sets are equal\")\n",
    "elif len(s1) == len(s2):\n",
    "    print(\"Sets are equivalent\")\n",
    "else:\n",
    "    print(\"Sets are not comparable\")"
   ]
  },
  {
   "cell_type": "markdown",
   "id": "608085ed-f274-4cd0-ae7e-a46bf48fd1d2",
   "metadata": {},
   "source": [
    "33. Create a set from a string."
   ]
  },
  {
   "cell_type": "code",
   "execution_count": 50,
   "id": "a4c2c823-f30f-4b0c-ba6e-32ac18d2f146",
   "metadata": {},
   "outputs": [
    {
     "name": "stdout",
     "output_type": "stream",
     "text": [
      "The requires set is :\n",
      "{'u', 'n', 'a', 's', 'm'}\n"
     ]
    }
   ],
   "source": [
    "s = \"suman\"\n",
    "s1 = set()\n",
    "for i in s:\n",
    "    s1.add(i)\n",
    "\n",
    "print(\"The requires set is :\")\n",
    "print(s1)"
   ]
  },
  {
   "cell_type": "markdown",
   "id": "967668ab-d37a-457d-bd06-6a9ff6528628",
   "metadata": {},
   "source": [
    "34. Convert a set of strings to a set of integers."
   ]
  },
  {
   "cell_type": "code",
   "execution_count": 45,
   "id": "d53a0543-0586-4b7c-a853-a004bb7a25df",
   "metadata": {},
   "outputs": [
    {
     "name": "stdout",
     "output_type": "stream",
     "text": [
      "New Converted set : {1, 2, 3}\n"
     ]
    }
   ],
   "source": [
    "s = {\"1\",\"2\",\"3\"}\n",
    "l = list(s)\n",
    "s1 = set()\n",
    "\n",
    "for i in l:\n",
    "    i = int(i)\n",
    "    s1.add(i)\n",
    "print(\"New Converted set :\",s1)"
   ]
  },
  {
   "cell_type": "markdown",
   "id": "f83dec22-9f43-4299-b96d-d089e8b2e11b",
   "metadata": {},
   "source": [
    "35. Convert a set of integers to a set of strings."
   ]
  },
  {
   "cell_type": "code",
   "execution_count": 46,
   "id": "6be2c4e1-0c93-4db6-ab07-1283db4ad7f4",
   "metadata": {},
   "outputs": [
    {
     "name": "stdout",
     "output_type": "stream",
     "text": [
      "New Converted set : {'2', '3', '1'}\n"
     ]
    }
   ],
   "source": [
    "s = {1,2,3}\n",
    "l = list(s)\n",
    "s1 = set()\n",
    "\n",
    "for i in l:\n",
    "    i = str(i)\n",
    "    s1.add(i)\n",
    "print(\"New Converted set :\",s1)"
   ]
  },
  {
   "cell_type": "markdown",
   "id": "22511207-c843-4c61-ac00-32e9136b19ab",
   "metadata": {},
   "source": [
    "36. Create a set from a tuple."
   ]
  },
  {
   "cell_type": "code",
   "execution_count": 16,
   "id": "b1a5f0f0-d473-4d7b-b5bf-fe93346451c0",
   "metadata": {},
   "outputs": [
    {
     "data": {
      "text/plain": [
       "{1, 2, 3}"
      ]
     },
     "execution_count": 16,
     "metadata": {},
     "output_type": "execute_result"
    }
   ],
   "source": [
    "t = (1,2,3)\n",
    "s = set(t)\n",
    "s"
   ]
  },
  {
   "cell_type": "markdown",
   "id": "c26611c0-130c-4236-92a6-6557c6cf488a",
   "metadata": {},
   "source": [
    "37. Convert a set to a tuple."
   ]
  },
  {
   "cell_type": "code",
   "execution_count": 18,
   "id": "807c2217-770c-4177-9ba1-60eb249d5501",
   "metadata": {},
   "outputs": [
    {
     "data": {
      "text/plain": [
       "(1, 2, 3)"
      ]
     },
     "execution_count": 18,
     "metadata": {},
     "output_type": "execute_result"
    }
   ],
   "source": [
    "s = {1,2,3}\n",
    "t = tuple(s)\n",
    "t"
   ]
  },
  {
   "cell_type": "markdown",
   "id": "81f0abc5-bd21-462f-9688-3c650f1ce8d9",
   "metadata": {},
   "source": [
    "38. Find the maximum value in a set."
   ]
  },
  {
   "cell_type": "code",
   "execution_count": 32,
   "id": "43c91a83-64fc-4755-957c-2b5ba8602dd9",
   "metadata": {},
   "outputs": [
    {
     "name": "stdout",
     "output_type": "stream",
     "text": [
      "Maximum element in the set : 3\n"
     ]
    }
   ],
   "source": [
    "s = {1,2,3}\n",
    "print(\"Maximum element in the set :\",max(s))"
   ]
  },
  {
   "cell_type": "markdown",
   "id": "cf32d9e4-a4fb-4347-a0fd-8a1cd0b58470",
   "metadata": {},
   "source": [
    "39. Find the minimum value in a set."
   ]
  },
  {
   "cell_type": "code",
   "execution_count": 35,
   "id": "446d8b6f-2ac0-4105-b637-28934c369374",
   "metadata": {},
   "outputs": [
    {
     "name": "stdout",
     "output_type": "stream",
     "text": [
      "Minimum element in the set : 1\n"
     ]
    }
   ],
   "source": [
    "s = {1,2,3}\n",
    "print(\"Minimum element in the set :\",min(s))"
   ]
  },
  {
   "cell_type": "markdown",
   "id": "323c87d1-467f-40a5-a26c-2c9d90ebbdcb",
   "metadata": {},
   "source": [
    "40. Create a set from user input."
   ]
  },
  {
   "cell_type": "code",
   "execution_count": 191,
   "id": "89d3e9e7-f9dc-43ac-9af1-3895fb356493",
   "metadata": {},
   "outputs": [],
   "source": [
    " "
   ]
  },
  {
   "cell_type": "markdown",
   "id": "34a0bf4b-439f-4aef-88f8-2c35ee91ebd2",
   "metadata": {},
   "source": [
    "41. Check if the intersection of two sets is empty."
   ]
  },
  {
   "cell_type": "code",
   "execution_count": 58,
   "id": "eaa2a262-4297-4024-bd64-76fc293eea87",
   "metadata": {},
   "outputs": [
    {
     "name": "stdout",
     "output_type": "stream",
     "text": [
      "Intersection set is empty\n"
     ]
    }
   ],
   "source": [
    "s1 = {1,2,3}\n",
    "s2 = {4,5,6}\n",
    "if s1.intersection(s2) == set():\n",
    "    print(\"Intersection set is empty\")\n",
    "else:\n",
    "    print(\"Intersection set is non-empty\")"
   ]
  },
  {
   "cell_type": "markdown",
   "id": "f19ae04a-57d3-4c84-8bfe-d1eb032ff6ae",
   "metadata": {},
   "source": [
    "42. Create a set of the first 5 Fibonacci numbers."
   ]
  },
  {
   "cell_type": "code",
   "execution_count": 42,
   "id": "875e1a12-ccd6-42e0-8ec9-6661763acc88",
   "metadata": {},
   "outputs": [
    {
     "name": "stdout",
     "output_type": "stream",
     "text": [
      "Set of the first 5 Fibonacci numbers : {0, 1, 2, 3}\n"
     ]
    }
   ],
   "source": [
    "s = set()\n",
    "a,b = 0,1\n",
    "for i in range(5):\n",
    "    s.add(a)\n",
    "    a,b=b,a+b\n",
    "\n",
    "print(\"Set of the first 5 Fibonacci numbers :\",s)"
   ]
  },
  {
   "cell_type": "markdown",
   "id": "7d7a553d-e7c7-4d2d-9bcd-aa77ba993ea6",
   "metadata": {},
   "source": [
    "43. Remove duplicates from a list using sets."
   ]
  },
  {
   "cell_type": "code",
   "execution_count": 63,
   "id": "8dc199b0-b07f-43a2-93aa-123a316913c0",
   "metadata": {},
   "outputs": [
    {
     "name": "stdout",
     "output_type": "stream",
     "text": [
      "New list : [1, 2, 3, 4, 5, 6, 7, 8]\n"
     ]
    }
   ],
   "source": [
    "l = [1,2,3,3,4,5,6,7,7,8,8,8]\n",
    "s = set(l)\n",
    "l1 = list(s)\n",
    "print(\"New list :\",l1)"
   ]
  },
  {
   "cell_type": "markdown",
   "id": "2b330d26-7351-4b9c-873c-eb4ab38a2d59",
   "metadata": {},
   "source": [
    "44. Check if two sets have the same elements, regardless of their count."
   ]
  },
  {
   "cell_type": "code",
   "execution_count": 37,
   "id": "33fbfcfd-6394-4f61-aad8-311921cca7f2",
   "metadata": {},
   "outputs": [
    {
     "name": "stdout",
     "output_type": "stream",
     "text": [
      "Sets have same elements\n"
     ]
    }
   ],
   "source": [
    "s1 = {1,2,3}\n",
    "s2 = {1,2,2,3,3}\n",
    "\n",
    "if s1 == s2:\n",
    "    print(\"Sets have same elements\")\n",
    "else:\n",
    "    print(\"Sets does not have same elements\")"
   ]
  },
  {
   "cell_type": "markdown",
   "id": "e727cdb3-9605-4b54-a6bc-3a6f28023964",
   "metadata": {},
   "source": [
    "45. Create a set of the first `n` powers of 2."
   ]
  },
  {
   "cell_type": "code",
   "execution_count": 65,
   "id": "d4ff2bcd-b149-45da-b216-7646d47266ed",
   "metadata": {},
   "outputs": [
    {
     "name": "stdin",
     "output_type": "stream",
     "text": [
      "Enter upto which power of 2 is required : 5\n"
     ]
    },
    {
     "name": "stdout",
     "output_type": "stream",
     "text": [
      "The desired set is : {1, 2, 4, 8, 16}\n"
     ]
    }
   ],
   "source": [
    "n = int(input(\"Enter upto which power of 2 is required :\"))\n",
    "s = set()\n",
    "\n",
    "for i in range(n):\n",
    "              s.add(2**i)\n",
    "\n",
    "print(\"The desired set is :\",s)"
   ]
  },
  {
   "cell_type": "markdown",
   "id": "2dd75334-9fff-49d9-8108-243c7417d44c",
   "metadata": {},
   "source": [
    "46. Find the common elements between a set and a list."
   ]
  },
  {
   "cell_type": "code",
   "execution_count": 59,
   "id": "37a6dedb-122b-400f-88a7-a270f9da4463",
   "metadata": {},
   "outputs": [
    {
     "name": "stdout",
     "output_type": "stream",
     "text": [
      "Common elements are : {3}\n"
     ]
    }
   ],
   "source": [
    "s = {1,2,3}\n",
    "l = [3,4,5]\n",
    "s1 = set(l)\n",
    "s2 = s.intersection(s1)\n",
    "print(\"Common elements are :\",s2)"
   ]
  },
  {
   "cell_type": "markdown",
   "id": "b3c09be0-cdbd-406c-97d4-53227efd3cbb",
   "metadata": {},
   "source": [
    "47. Create a set of the first `n` triangular numbers."
   ]
  },
  {
   "cell_type": "code",
   "execution_count": 199,
   "id": "b9ac3c90-5fe0-4e57-b83f-1aac120f09f1",
   "metadata": {},
   "outputs": [],
   "source": [
    "# "
   ]
  },
  {
   "cell_type": "markdown",
   "id": "022d30df-aa2a-4fb5-b9b3-87e7e47678d6",
   "metadata": {},
   "source": [
    "48. Check if a set contains another set as a subset."
   ]
  },
  {
   "cell_type": "code",
   "execution_count": 44,
   "id": "2b082815-3480-4aba-a2d7-156f43726f12",
   "metadata": {},
   "outputs": [
    {
     "name": "stdout",
     "output_type": "stream",
     "text": [
      "set doesn't contains another set as a subset\n"
     ]
    }
   ],
   "source": [
    "s1 = {1,2,3,4,5,6,7,8,9}\n",
    "s2 = {3,4,5,6,0}\n",
    "\n",
    "if s2.issubset(s1):\n",
    "    print(\"set contains another set as a subset\")\n",
    "else:\n",
    "    print(\"set doesn't contains another set as a subset\")"
   ]
  },
  {
   "cell_type": "markdown",
   "id": "4733a753-d5f2-440e-8ec5-729641d2ac43",
   "metadata": {},
   "source": [
    "49. Create a set of alternating 1s and 0s of length `n`."
   ]
  },
  {
   "cell_type": "code",
   "execution_count": 19,
   "id": "50f0245a-cc56-4385-a14f-59aac59fa59d",
   "metadata": {},
   "outputs": [],
   "source": [
    "#"
   ]
  },
  {
   "cell_type": "markdown",
   "id": "c6fbc4d6-ebcf-431e-b5a1-b0778c825e81",
   "metadata": {},
   "source": [
    "50. Merge multiple sets into one."
   ]
  },
  {
   "cell_type": "code",
   "execution_count": 40,
   "id": "d16820c0-8a29-49bb-91fb-88e749331e86",
   "metadata": {},
   "outputs": [
    {
     "name": "stdout",
     "output_type": "stream",
     "text": [
      "Merged Set : {1, 2, 3, 4, 5, 6, 7, 8, 9}\n"
     ]
    }
   ],
   "source": [
    "s1 = {1,2,3}\n",
    "s2 = {4,5,6}\n",
    "s3 = {7,8,9}\n",
    "\n",
    "s1.update(s2,s3)\n",
    "print(\"Merged Set :\",s1)"
   ]
  }
 ],
 "metadata": {
  "kernelspec": {
   "display_name": "Python 3 (ipykernel)",
   "language": "python",
   "name": "python3"
  },
  "language_info": {
   "codemirror_mode": {
    "name": "ipython",
    "version": 3
   },
   "file_extension": ".py",
   "mimetype": "text/x-python",
   "name": "python",
   "nbconvert_exporter": "python",
   "pygments_lexer": "ipython3",
   "version": "3.10.8"
  }
 },
 "nbformat": 4,
 "nbformat_minor": 5
}
