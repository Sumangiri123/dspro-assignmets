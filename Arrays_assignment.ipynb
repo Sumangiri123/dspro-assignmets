{
 "cells": [
  {
   "cell_type": "markdown",
   "id": "10833b16-571d-41f5-894e-918a24994ba7",
   "metadata": {},
   "source": [
    "Arrays-Assignment Questions"
   ]
  },
  {
   "cell_type": "raw",
   "id": "96ea5487-4f89-4064-a37f-d34514e8328f",
   "metadata": {},
   "source": [
    "1. Given an array, check if it contains any duplicates or not.\n",
    "arr = [1, 2, 4, 2, 5, 9]\n",
    "Output = True"
   ]
  },
  {
   "cell_type": "code",
   "execution_count": 1,
   "id": "b958980f-f05c-48e9-953d-d05a161bc996",
   "metadata": {},
   "outputs": [
    {
     "data": {
      "text/plain": [
       "True"
      ]
     },
     "execution_count": 1,
     "metadata": {},
     "output_type": "execute_result"
    }
   ],
   "source": [
    "def duplicate(arr):\n",
    "    for i in arr:\n",
    "        for j in arr:\n",
    "            if i == j:\n",
    "                return True\n",
    "    return False\n",
    "\n",
    "arr = [1, 2, 4, 2, 5, 9]\n",
    "duplicate(arr)"
   ]
  },
  {
   "cell_type": "raw",
   "id": "fd476c21-1a87-4155-ab64-cee8f345183c",
   "metadata": {},
   "source": [
    "2. Given an array and an integer k, rotate the array to the right by k steps.\n",
    "arr = [1, 2, 3, 4, 5, 6, 7] k = 3\n",
    "Output = [5, 6, 7, 1, 2, 3, 4]"
   ]
  },
  {
   "cell_type": "code",
   "execution_count": 25,
   "id": "f5a74d37-645d-460b-874f-98d04bb87031",
   "metadata": {},
   "outputs": [
    {
     "data": {
      "text/plain": [
       "[5, 6, 7, 1, 2, 3, 4]"
      ]
     },
     "execution_count": 25,
     "metadata": {},
     "output_type": "execute_result"
    }
   ],
   "source": [
    "def rotate_array(arr,k):\n",
    "    k = k % len(arr)\n",
    "    prev = arr[0]\n",
    "    curr = arr[0]\n",
    "    for i in range(k):\n",
    "        for j in range(1,len(arr)):\n",
    "            curr = arr[j]\n",
    "            arr[j]=prev\n",
    "            prev = curr\n",
    "        arr[0]= prev\n",
    "    return arr\n",
    "arr = [1, 2, 3, 4, 5, 6, 7] \n",
    "k = 3\n",
    "rotate_array(arr,k)"
   ]
  },
  {
   "cell_type": "raw",
   "id": "02524ce8-eeca-4cad-bacc-1b3a8242b403",
   "metadata": {},
   "source": [
    "3. Reverse the given array in-place, means without using any extra data structure.\n",
    "arr = [2, 4, 5, 7, 9, 12]\n",
    "Output = [12, 9, 7, 5, 4, 2]"
   ]
  },
  {
   "cell_type": "code",
   "execution_count": 6,
   "id": "463d3343-f7f2-4b4c-b3a1-da8d8e42bab5",
   "metadata": {},
   "outputs": [
    {
     "data": {
      "text/plain": [
       "[12, 9, 7, 5, 4, 2]"
      ]
     },
     "execution_count": 6,
     "metadata": {},
     "output_type": "execute_result"
    }
   ],
   "source": [
    "def reverse(arr):\n",
    "    left = 0\n",
    "    right = len(arr)-1\n",
    "    while (left<right):\n",
    "        arr[left],arr[right]=arr[right],arr[left]\n",
    "        left+=1\n",
    "        right-=1\n",
    "    return arr\n",
    "arr = [2, 4, 5, 7, 9, 12]\n",
    "reverse(arr)"
   ]
  },
  {
   "cell_type": "raw",
   "id": "50750a68-a4bf-478f-b2e0-73bad476970e",
   "metadata": {},
   "source": [
    "4. Given an array of integers, find the maximum element in an array\n",
    "arr = [10, 5, 20, 8, 15]\n",
    "Output = 20"
   ]
  },
  {
   "cell_type": "code",
   "execution_count": 7,
   "id": "3030ac78-7f3d-4921-bccc-1f683b042c5c",
   "metadata": {},
   "outputs": [
    {
     "data": {
      "text/plain": [
       "20"
      ]
     },
     "execution_count": 7,
     "metadata": {},
     "output_type": "execute_result"
    }
   ],
   "source": [
    "def find_max(arr):\n",
    "    max = arr[0]\n",
    "    for i in range(1,len(arr)):\n",
    "        if (max<arr[i]):\n",
    "            max=arr[i]\n",
    "    return max\n",
    "\n",
    "arr = [10, 5, 20, 8, 15]\n",
    "find_max(arr)"
   ]
  },
  {
   "cell_type": "raw",
   "id": "4e84e09a-6df0-4c4e-9c3b-6e0129f719f1",
   "metadata": {},
   "source": [
    "5. Given a sorted array, remove the duplicate element without using any extra data structure.\n",
    "arr = [1, 1, 2, 2, 2, 3, 3, 4, 4, 4, 5, 5]\n",
    "Output = [1, 2, 3, 4, 5]"
   ]
  },
  {
   "cell_type": "code",
   "execution_count": 4,
   "id": "94b9590c-bb80-4520-a526-92461074a4ff",
   "metadata": {},
   "outputs": [
    {
     "data": {
      "text/plain": [
       "[1, 2, 3, 4, 5]"
      ]
     },
     "execution_count": 4,
     "metadata": {},
     "output_type": "execute_result"
    }
   ],
   "source": [
    "def remove_duplicates(arr):\n",
    "    unique_ptr = 0\n",
    "    for i in range(1,len(arr)):\n",
    "        if arr[unique_ptr] != arr[i]:\n",
    "            unique_ptr += 1\n",
    "            arr[unique_ptr] = arr[i]\n",
    "   \n",
    "    \n",
    "    return arr[:unique_ptr+1]\n",
    "    \n",
    "arr = [1, 1, 2, 2, 2, 3, 3, 4, 4, 4, 5, 5,5]\n",
    "remove_duplicates(arr)"
   ]
  }
 ],
 "metadata": {
  "kernelspec": {
   "display_name": "Python 3 (ipykernel)",
   "language": "python",
   "name": "python3"
  },
  "language_info": {
   "codemirror_mode": {
    "name": "ipython",
    "version": 3
   },
   "file_extension": ".py",
   "mimetype": "text/x-python",
   "name": "python",
   "nbconvert_exporter": "python",
   "pygments_lexer": "ipython3",
   "version": "3.10.8"
  }
 },
 "nbformat": 4,
 "nbformat_minor": 5
}
