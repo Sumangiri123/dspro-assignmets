{
 "cells": [
  {
   "cell_type": "markdown",
   "id": "46672729-0692-4ead-a843-52b3f7eaeda6",
   "metadata": {},
   "source": [
    "Recursssion Releation-Assignment Questions"
   ]
  },
  {
   "cell_type": "raw",
   "id": "d1b627bf-7ceb-448b-bd76-330ee42b5a68",
   "metadata": {},
   "source": [
    "1. Find the value of T(2) for the recurrence relation T(n) = 3T(n-1) + 12n, given that T(0)=5."
   ]
  },
  {
   "cell_type": "code",
   "execution_count": 1,
   "id": "270c4cd4-b020-4c70-a091-89057899f17a",
   "metadata": {},
   "outputs": [],
   "source": [
    "\n",
    "# To find the value of T(2) for the recurrence relation T(n)=3T(n−1)+12n, we \n",
    "# can recursively substitute the relation and initial condition:\n",
    "\n",
    "#     T(2)=3T(1)+12⋅2\n",
    "#         =3(3T(0)+12⋅1)+12⋅2\n",
    "#         =3^2⋅T(0)+3⋅12⋅1+12⋅2\n",
    "#         =3^2⋅5+36+24\n",
    "#         =45+36+24\n",
    "#         =105\n",
    "\n",
    "# So,T(2)=105 for the given recurrence relation T(n)=3T(n−1)+12n, with \n",
    "# the initial condition T(0)=5.\n"
   ]
  },
  {
   "cell_type": "raw",
   "id": "ff5df14b-91dc-42b8-b6df-ec86afb50948",
   "metadata": {},
   "source": [
    "2. Given a recurrence relation, solve it using the substitution method:\n",
    "a. T(n) = T(n-1) + c"
   ]
  },
  {
   "cell_type": "code",
   "execution_count": null,
   "id": "3eded0a1-f797-40cd-9ed3-d4160b23c56a",
   "metadata": {},
   "outputs": [],
   "source": [
    "# Now, substitute this into the recurrence relation:\n",
    "\n",
    "#     T(n)=T(n-1)+c\n",
    "#     T(n)=T(n-2)+2.c\n",
    "#     T(n)=T(n-3)+3.c\n",
    "#     ...\n",
    "#     ...\n",
    "#     T(n)=T(n-k)+k.c # substituting for k-1 times\n",
    "\n",
    "# Now, we need to determine the constant k. \n",
    "# We can use the initial condition if given.\n"
   ]
  },
  {
   "cell_type": "raw",
   "id": "0405669a-fa44-4f80-ae12-475104bcc4d8",
   "metadata": {},
   "source": [
    "2. Given a recurrence relation, solve it using the substitution method:\n",
    "b. T(n) = 2T(n/2) + n    "
   ]
  },
  {
   "cell_type": "code",
   "execution_count": null,
   "id": "429c19bb-b916-473d-a3a2-71e022fe2c4b",
   "metadata": {},
   "outputs": [],
   "source": [
    "# Now, substitute this into the recurrence relation:\n",
    "\n",
    "#     T(n)=2T(n/2)+n\n",
    "#     T(n)=(2^2)T(n/4)+ 2.n\n",
    "#     T(n)=(2^3)T(n/8) + (2^2).n\n",
    "#     ...\n",
    "#     ...\n",
    "#     T(n)=(2^k)T(n/(2^k))+(2^(k-1)).n # substituting for k-1 times\n",
    "\n",
    "# Now, we need to determine the constant k. \n",
    "# We can use the initial condition if given.\n"
   ]
  },
  {
   "cell_type": "raw",
   "id": "4cfae115-a045-49fb-84ea-c51e5f289ca2",
   "metadata": {},
   "source": [
    "2. Given a recurrence relation, solve it using the substitution method:\n",
    "c. T(n) = 2T(n/2) + c"
   ]
  },
  {
   "cell_type": "code",
   "execution_count": null,
   "id": "9aaa5078-7c38-46a4-aab3-726cae8b95d6",
   "metadata": {},
   "outputs": [],
   "source": [
    "# Now, substitute this into the recurrence relation:\n",
    "\n",
    "#     T(n)=2T(n/2)+c\n",
    "#     T(n)=(2^2)T(n/4)+ 2.c\n",
    "#     T(n)=(2^3)T(n/8) + (2^2).c\n",
    "#     ...\n",
    "#     ...\n",
    "#     T(n)=(2^k)T(n/(2^k))+(2^(k-1)).c # substituting for k-1 times\n",
    "\n",
    "# Now, we need to determine the constants k. \n",
    "# We can use the initial condition if given.\n",
    "\n"
   ]
  },
  {
   "cell_type": "raw",
   "id": "1f3278e9-c3ab-41ec-b02c-a3dc6efbbd2b",
   "metadata": {},
   "source": [
    "2. Given a recurrence relation, solve it using the substitution method:\n",
    "d. T(n) = T(n/2) + c    "
   ]
  },
  {
   "cell_type": "code",
   "execution_count": null,
   "id": "e9ef6a32-5b3f-40fd-a2bd-072c94d0248f",
   "metadata": {},
   "outputs": [],
   "source": [
    "# Now, substitute this into the recurrence relation:\n",
    "\n",
    "#     T(n)=T(n/2)+c\n",
    "#     T(n)=T(n/4)+2.c\n",
    "#     T(n)=T(n/8)+3.c\n",
    "#     ...\n",
    "#     ...\n",
    "#     T(n)=T(n/(2^k)) + k.c # substituting for k-1 times\n",
    "    \n",
    "     \n",
    "# Now, we need to determine the constant k. \n",
    "# We can use the initial condition if given.\n"
   ]
  },
  {
   "cell_type": "raw",
   "id": "6e42a624-7dcf-499b-a373-c0abc43767cd",
   "metadata": {},
   "source": [
    "3. Given a recurrence relation, solve it using the recursive tree approach:\n",
    "a. T(n) = 2T(n-1) +1"
   ]
  },
  {
   "cell_type": "code",
   "execution_count": 1,
   "id": "3bb81332-2343-4eec-b008-38a28751ade6",
   "metadata": {},
   "outputs": [],
   "source": [
    "\n",
    "# Let's represent the recurrence relation using a recursive tree:\n",
    "\n",
    "#          T(n)\n",
    "#          /  \\\n",
    "#     T(n-1)   T(n-1)\n",
    "#      /  \\     /  \\\n",
    "# T(n-2) T(n-2) T(n-2) ...\n",
    "\n",
    "# At each level, we have two subproblems, each of size n−1. \n",
    "# Now, let's expand the tree until we reach the base case.\n",
    "\n",
    "#                 T(n)\n",
    "#                 /  \\\n",
    "#            T(n-1)   T(n-1)\n",
    "#            /  \\     /  \\\n",
    "#       T(n-2) T(n-2) T(n-2) ...\n",
    "#       / \\ \n",
    "#  T(n-3) T(n-3) ...\n",
    "# At the next level, we have four subproblems, each of size n−2.\n",
    "\n",
    "# If we continue expanding, we can observe that at each level, the size of the subproblems decreases by 1. \n",
    "# The cost at each level is 2^k, where k is the level.\n",
    "\n",
    "# The total cost can be expressed as:\n",
    "\n",
    "# T(n)=(2^0)+(2^1)+(2^2)+…+(2^k)⋅\n",
    "\n",
    "# This is a geometric series with a common ratio of 2. \n",
    "# Using the formula for the sum of a geometric series, we can simplify it:\n",
    "\n",
    "# T(n)=(2^k)-1\n",
    "\n",
    "# For getting the value of k with the help of intial condition if given. \n",
    "# Now, we can solve this expression to obtain the solution for T(n)."
   ]
  },
  {
   "cell_type": "raw",
   "id": "d9f7443f-f5c5-4cd9-96f7-114c5189be4c",
   "metadata": {},
   "source": [
    "3. Given a recurrence relation, solve it using the recursive tree approach:\n",
    "b. T(n) = 2T(n/2) + n"
   ]
  },
  {
   "cell_type": "code",
   "execution_count": null,
   "id": "f8fe84d2-bc18-4167-93a1-1464664d79b5",
   "metadata": {},
   "outputs": [],
   "source": [
    "# Let's represent the recurrence relation using a recursive tree:\n",
    "\n",
    "#          T(n)\n",
    "#          /  \\\n",
    "#     T(n/2)   T(n/2)\n",
    "#     /   \\      /  \\\n",
    "#  T(n/4) T(n/4) T(n/4) ...\n",
    "\n",
    "# Each level of the tree represents the subproblems of size n/2. \n",
    "# The cost at each level is n. \n",
    "# Let's continue expanding until we reach the base case.\n",
    "\n",
    "\n",
    "#                T(n)\n",
    "#               /  \\\n",
    "#          T(n/2)   T(n/2)\n",
    "#          /   \\      /  \\\n",
    "#       T(n/4) T(n/4) T(n/4) ...\n",
    "#       / \\\n",
    "#    T(n/8) T(n/8) ...\n",
    "# At the next level, we have four subproblems, each of size n/4, and \n",
    "# the cost at each level is n.\n",
    "\n",
    "# The total cost can be expressed as:\n",
    "\n",
    "# T(n)=n+n+n+…+n (k times) where k is the level\n",
    "#      = n.k\n",
    "\n",
    "# For getting the value of k with the help of intial condition if given. \n",
    "# Now, we can solve this expression to obtain the solution for T(n)."
   ]
  }
 ],
 "metadata": {
  "kernelspec": {
   "display_name": "Python 3 (ipykernel)",
   "language": "python",
   "name": "python3"
  },
  "language_info": {
   "codemirror_mode": {
    "name": "ipython",
    "version": 3
   },
   "file_extension": ".py",
   "mimetype": "text/x-python",
   "name": "python",
   "nbconvert_exporter": "python",
   "pygments_lexer": "ipython3",
   "version": "3.10.8"
  }
 },
 "nbformat": 4,
 "nbformat_minor": 5
}
