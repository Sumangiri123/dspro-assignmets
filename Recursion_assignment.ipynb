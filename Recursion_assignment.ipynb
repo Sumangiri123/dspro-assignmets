{
 "cells": [
  {
   "cell_type": "markdown",
   "id": "5acd4478-d2a9-4c34-98bc-7d347a8dafaa",
   "metadata": {},
   "source": [
    "Recursion-Assignment Questions"
   ]
  },
  {
   "cell_type": "raw",
   "id": "5fcd7b71-9315-44e5-ad0f-2af918bbd752",
   "metadata": {},
   "source": [
    "Q.1 Can you explain the logic and working of the Tower of Hanoi algorithm by writing a Java program?\n",
    "How does the recursion work, and how are the movements of disks between rods accomplished?"
   ]
  },
  {
   "cell_type": "code",
   "execution_count": 3,
   "id": "531dd8d7-bd8d-4310-a200-569e6b6ea34a",
   "metadata": {},
   "outputs": [
    {
     "name": "stdout",
     "output_type": "stream",
     "text": [
      "Move disk 1 from A to C\n",
      "Move disk 2 from A to B\n",
      "Move disk 1 from C to B\n",
      "Move disk 3 from A to C\n",
      "Move disk 1 from B to A\n",
      "Move disk 2 from B to C\n",
      "Move disk 1 from A to C\n"
     ]
    }
   ],
   "source": [
    "\n",
    "# Algorithm for the Tower of Hanoi\n",
    "\n",
    "def tower_of_hanoi(n, source_rod, target_rod, auxiliary_rod):\n",
    "    if n == 1:\n",
    "        # If there's only one disk, move it from the source rod to the target rod\n",
    "        print(f\"Move disk 1 from {source_rod} to {target_rod}\")\n",
    "        return\n",
    "    else:\n",
    "        # Move n-1 disks from the source rod to the auxiliary rod using the target rod\n",
    "        tower_of_hanoi(n-1, source_rod, auxiliary_rod, target_rod)\n",
    "        \n",
    "        # Move the nth disk from the source rod to the target rod\n",
    "        print(f\"Move disk {n} from {source_rod} to {target_rod}\")\n",
    "        \n",
    "        # Move the n-1 disks from the auxiliary rod to the target rod using the source rod\n",
    "        tower_of_hanoi(n-1, auxiliary_rod, target_rod, source_rod)\n",
    "\n",
    "# Example usage:\n",
    "tower_of_hanoi(3, 'A', 'C', 'B')\n",
    "\n",
    "\n",
    "\n",
    "# Explanation\n",
    "\n",
    "# 1.  The function tower_of_hanoi takes four parameters:\n",
    "\n",
    "#     n: the number of disks to be moved.\n",
    "#     source_rod: the rod from which the disks need to be moved.\n",
    "#     target_rod: the rod to which the disks need to be moved.\n",
    "#     auxiliary_rod: the auxiliary rod that can be used for intermediate storage.\n",
    "    \n",
    "# 2.  The base case (n == 1) handles the situation when there's only one disk to be moved. In this case, it directly moves the disk from the source rod to the target rod.\n",
    "\n",
    "# 3.  For n > 1, the algorithm follows these steps:\n",
    "\n",
    "#     Move n-1 disks from the source rod to the auxiliary rod using the target rod as the intermediate rod.\n",
    "#     Move the nth disk from the source rod to the target rod.\n",
    "#     Move the n-1 disks from the auxiliary rod to the target rod using the source rod as the intermediate rod.\n",
    "#     The key to the Tower of Hanoi algorithm is the recursive nature of the solution. The algorithm breaks down the problem of moving n disks into three subproblems of moving n-1 disks. This process continues until the base case is reached (a single disk), and then the movements are performed in reverse order to solve the entire problem.\n",
    "\n",
    "#     The movements of disks between rods are accomplished through recursive calls and careful selection of source, target, and auxiliary rods in each step. The algorithm ensures that the constraints of the Tower of Hanoi problem are satisfied at every stage."
   ]
  },
  {
   "cell_type": "raw",
   "id": "052dbbe8-01a1-4da5-aefb-abea0dd50248",
   "metadata": {},
   "source": [
    "Q.2 Given two strings word1 and word2, return the minimum number of operations required to convert word1\n",
    "to word2.\n",
    "Example 1:\n",
    "Input: word1 = \"horse\", word2 = \"ros\"\n",
    "Output: 3\n",
    "Explanation:\n",
    "horse -> rorse (replace 'h' with 'r')\n",
    "rorse -> rose (remove 'r')\n",
    "rose -> ros (remove 'e')\n",
    "Example 2:\n",
    "Input: word1 = \"intention\", word2 = \"execution\"\n",
    "Output: 5\n",
    "Explanation:\n",
    "intention -> inention (remove 't')\n",
    "inention -> enention (replace 'i' with 'e')\n",
    "enention -> exention (replace 'n' with 'x')\n",
    "exention -> exection (replace 'n' with 'c')\n",
    "exection -> execution (insert 'u')"
   ]
  },
  {
   "cell_type": "code",
   "execution_count": 1,
   "id": "12091e57-c846-473e-ac94-d175d48cf104",
   "metadata": {},
   "outputs": [
    {
     "name": "stdout",
     "output_type": "stream",
     "text": [
      "Example 1 Output: 3\n",
      "Example 2 Output: 5\n"
     ]
    }
   ],
   "source": [
    "def minDistance(word1, word2):\n",
    "    def helper(i, j):\n",
    "        # Base cases\n",
    "        if i == 0:\n",
    "            return j  # Insert all characters from word2\n",
    "        if j == 0:\n",
    "            return i  # Remove all characters in word1\n",
    "\n",
    "        # If the last characters are the same, no operation needed\n",
    "        if word1[i - 1] == word2[j - 1]:\n",
    "            return helper(i - 1, j - 1)\n",
    "\n",
    "        # Explore three possible operations: deletion, insertion, and replacement\n",
    "        return 1 + min(\n",
    "            helper(i - 1, j),      # Deletion\n",
    "            helper(i, j - 1),      # Insertion\n",
    "            helper(i - 1, j - 1)   # Replacement\n",
    "        )\n",
    "\n",
    "    # Start the recursive calls from the end of both words\n",
    "    return helper(len(word1), len(word2))\n",
    "\n",
    "# Example usage:\n",
    "word1 = \"horse\"\n",
    "word2 = \"ros\"\n",
    "result1 = minDistance(word1, word2)\n",
    "print(\"Example 1 Output:\", result1)\n",
    "\n",
    "word1 = \"intention\"\n",
    "word2 = \"execution\"\n",
    "result2 = minDistance(word1, word2)\n",
    "print(\"Example 2 Output:\", result2)"
   ]
  },
  {
   "cell_type": "raw",
   "id": "dfd43b1d-d934-4ffd-b0b0-e9fe4884eeee",
   "metadata": {},
   "source": [
    "Q.3 Print the max value of the array [ 13, 1, -3, 22, 5]."
   ]
  },
  {
   "cell_type": "code",
   "execution_count": 5,
   "id": "54162df9-8dd7-495b-bc13-4d967654dd33",
   "metadata": {},
   "outputs": [
    {
     "data": {
      "text/plain": [
       "22"
      ]
     },
     "execution_count": 5,
     "metadata": {},
     "output_type": "execute_result"
    }
   ],
   "source": [
    "def find_max(arr,si):\n",
    "    if si>=len(arr):\n",
    "        return -99999999\n",
    "    return max(arr[si],find_max(arr,si+1))\n",
    "\n",
    "arr=[ 13, 1, -3, 22, 5]\n",
    "find_max(arr,0)"
   ]
  },
  {
   "cell_type": "raw",
   "id": "2a28e61c-c1dd-4155-b500-0eb6a5256f06",
   "metadata": {},
   "source": [
    "Q.4 Find the sum of the values of the array [92, 23, 15, -20, 10]."
   ]
  },
  {
   "cell_type": "code",
   "execution_count": 4,
   "id": "95f6ad2b-5404-4104-a3a6-684f65456e81",
   "metadata": {},
   "outputs": [
    {
     "data": {
      "text/plain": [
       "120"
      ]
     },
     "execution_count": 4,
     "metadata": {},
     "output_type": "execute_result"
    }
   ],
   "source": [
    "def sum_of(arr,si):\n",
    "    if si>=len(arr):\n",
    "        return 0\n",
    "    return arr[si]+sum_of(arr,si+1)\n",
    "\n",
    "arr = [92, 23, 15, -20, 10]\n",
    "sum_of(arr,0)"
   ]
  },
  {
   "cell_type": "raw",
   "id": "8cfb0e0b-aded-4099-b149-f3cb8eeb1641",
   "metadata": {},
   "source": [
    "Q.5 Given a number n. Print if it is an armstrong number or not.An armstrong number is a number if the sum\n",
    "of every digit in that number raised to the power of total digits in that number is equal to the number.\n",
    "Example : 153 = 1^3 + 5^3 + 3^3 = 1 + 125 + 27 = 153 hence 153 is an armstrong number. (Easy)\n",
    "Input1 : 153\n",
    "Output1 : Yes\n",
    "Input 2 : 134\n",
    "Output2 : No"
   ]
  },
  {
   "cell_type": "code",
   "execution_count": 30,
   "id": "21811501-64b8-4000-85a9-2ba7735ed8ab",
   "metadata": {},
   "outputs": [
    {
     "name": "stdout",
     "output_type": "stream",
     "text": [
      "Yes\n",
      "No\n"
     ]
    }
   ],
   "source": [
    "def count_digits(n):\n",
    "    if n<10:\n",
    "        return 1\n",
    "    return 1+count_digits(n//10)\n",
    "\n",
    "\n",
    "def is_armstrong(n,cd):\n",
    "    n1=n\n",
    "    if n1<9:\n",
    "        return n1**cd\n",
    "    return ((n1%10)**cd) + is_armstrong(n1//10,cd)\n",
    "\n",
    "def check_armstrong(n):\n",
    "    cd = count_digits(n)\n",
    "    if is_armstrong(n,cd)==n:\n",
    "        return \"Yes\"\n",
    "    else:\n",
    "        return \"No\"\n",
    "\n",
    "print(check_armstrong(153))\n",
    "print(check_armstrong(134))\n",
    "\n"
   ]
  }
 ],
 "metadata": {
  "kernelspec": {
   "display_name": "Python 3 (ipykernel)",
   "language": "python",
   "name": "python3"
  },
  "language_info": {
   "codemirror_mode": {
    "name": "ipython",
    "version": 3
   },
   "file_extension": ".py",
   "mimetype": "text/x-python",
   "name": "python",
   "nbconvert_exporter": "python",
   "pygments_lexer": "ipython3",
   "version": "3.10.8"
  }
 },
 "nbformat": 4,
 "nbformat_minor": 5
}
