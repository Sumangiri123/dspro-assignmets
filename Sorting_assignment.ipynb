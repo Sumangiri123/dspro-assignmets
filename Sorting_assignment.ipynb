{
 "cells": [
  {
   "cell_type": "markdown",
   "id": "777e47e2-ed93-496e-8c9f-f98a7b37eda8",
   "metadata": {},
   "source": [
    "Sorting-Practice Questions"
   ]
  },
  {
   "cell_type": "raw",
   "id": "434bd030-6741-421b-a92e-baba27323157",
   "metadata": {},
   "source": [
    "Problem 1.Given an array of n numbers, give an algorithm which gives the element appearing maximum\n",
    "number of times?"
   ]
  },
  {
   "cell_type": "code",
   "execution_count": 7,
   "id": "f93622ba-f7a7-4a4d-8eee-2e1255d878e0",
   "metadata": {},
   "outputs": [
    {
     "data": {
      "text/plain": [
       "5"
      ]
     },
     "execution_count": 7,
     "metadata": {},
     "output_type": "execute_result"
    }
   ],
   "source": [
    "def find_max_occurence(arr):\n",
    "    max_count = 0\n",
    "    max_occurence = arr[0]\n",
    "    for i in arr:\n",
    "        count = 0\n",
    "        for j in arr:\n",
    "            if i==j:\n",
    "                count+=1\n",
    "        if max_count < count:\n",
    "            max_count = count\n",
    "            max_occurence=i\n",
    "    return max_occurence\n",
    "    \n",
    "arr = [1, 1, 2, 2, 2, 2 ,3, 3, 4, 4, 4, 5, 5, 5 ,5,5,5]\n",
    "find_max_occurence(arr)"
   ]
  },
  {
   "cell_type": "raw",
   "id": "565be550-09c4-4207-bec4-f9719ad4e541",
   "metadata": {},
   "source": [
    "Problem 2 : We are given a list of n-1 integers and these integers are in the range of 1 to n . There are no\n",
    "duplicates in the list. One of the integers is missing in the list. Give an algorithm to find that element Ex:\n",
    "[1,2,4,6,3,7,8] 5 is the missing num."
   ]
  },
  {
   "cell_type": "code",
   "execution_count": 39,
   "id": "68762484-577d-4b29-aaf1-08290a6affdb",
   "metadata": {},
   "outputs": [
    {
     "name": "stdout",
     "output_type": "stream",
     "text": [
      "Missing Number : 5\n"
     ]
    }
   ],
   "source": [
    "def missing(arr):\n",
    "    n = max(arr)\n",
    "    for i in range(1,n+1):\n",
    "        if i not in arr:\n",
    "            print(\"Missing Number :\",i)\n",
    "            break\n",
    "            \n",
    "arr = [1,2,4,6,3,7,8]\n",
    "missing(arr)"
   ]
  },
  {
   "cell_type": "raw",
   "id": "9bf38ab6-2a69-4ff3-a387-5a3bfd848f7f",
   "metadata": {},
   "source": [
    "Problem 3 : Given an array of n positive numbers. All numbers occurs even number of times except 1 which\n",
    "occurs odd number of times. Find that number in O(n) time and O(1) space. Ex: [1,2,3,2,3,1,3]. 3 is repeats odd\n",
    "times."
   ]
  },
  {
   "cell_type": "code",
   "execution_count": 41,
   "id": "a4810317-de52-4038-9aee-4063597b49df",
   "metadata": {},
   "outputs": [
    {
     "name": "stdout",
     "output_type": "stream",
     "text": [
      "3 is repeating odd number of times\n"
     ]
    }
   ],
   "source": [
    "# Below Algorithm have O(n^2) time and O(1) space complexity\n",
    "def find_odd(arr):\n",
    "    for i in arr:\n",
    "        count = 0\n",
    "        for j in arr:\n",
    "            if i == j:\n",
    "                count+=1\n",
    "        if count % 2 != 0:\n",
    "            print(i,\"is repeating odd number of times\")\n",
    "            break\n",
    "        \n",
    "arr = [1,2,3,2,3,1,3]\n",
    "find_odd(arr)"
   ]
  },
  {
   "cell_type": "raw",
   "id": "0c8cc117-458a-428e-a67f-d875cdfcbcf3",
   "metadata": {},
   "source": [
    "Problem 4 : Given an array of n elements. Find two elements in the array such that their sum is equal to given\n",
    "element K."
   ]
  },
  {
   "cell_type": "code",
   "execution_count": 18,
   "id": "0e0eecab-7e32-46d3-8dd7-17a8ee1dbf2b",
   "metadata": {},
   "outputs": [
    {
     "data": {
      "text/plain": [
       "(8, 10)"
      ]
     },
     "execution_count": 18,
     "metadata": {},
     "output_type": "execute_result"
    }
   ],
   "source": [
    "# k is the required sum  \n",
    "def required_sum(arr,k):\n",
    "    for i in arr:\n",
    "        for j in arr:\n",
    "            if i != j and i+j==k:\n",
    "                return i,j\n",
    "    return \"Not Present\"\n",
    "\n",
    "arr = [1,2,3,4,5,6,7,8,9,10]\n",
    "required_sum(arr,18)"
   ]
  },
  {
   "cell_type": "raw",
   "id": "acbcdad5-ccfa-4ab9-b9b0-4317d4ffb0fd",
   "metadata": {},
   "source": [
    "Problem 5 : Given an array of both positive and negative numbers, find two numbers such that their sum is\n",
    "closest to 0. Ex: [ 1 ,60 ,-10, 70, -80,85]. Ans : -80,85."
   ]
  },
  {
   "cell_type": "code",
   "execution_count": 19,
   "id": "5ac2bad0-468c-4868-8dd9-8da700f76863",
   "metadata": {},
   "outputs": [
    {
     "data": {
      "text/plain": [
       "(-80, 85)"
      ]
     },
     "execution_count": 19,
     "metadata": {},
     "output_type": "execute_result"
    }
   ],
   "source": [
    "def required_sum(arr):\n",
    "    min = 999\n",
    "    k1 = 0\n",
    "    k2 = 0\n",
    "    for i in arr:\n",
    "        for j in arr:\n",
    "            if i != j and abs(i+j)<min:\n",
    "                min = abs(i+j)\n",
    "                k1 = i\n",
    "                k2 = j\n",
    "    return k1,k2\n",
    "\n",
    "arr = [ 1 ,60 ,-10, 70, -80,85]\n",
    "required_sum(arr)"
   ]
  },
  {
   "cell_type": "raw",
   "id": "ae765a63-b646-4b6c-8975-8062177db3c0",
   "metadata": {},
   "source": [
    "Problem 6 : Given an array of n elements . Find three elements such that their sum is equal to the given\n",
    "number."
   ]
  },
  {
   "cell_type": "code",
   "execution_count": 23,
   "id": "4bb20bb5-d45a-4570-b0f9-d81bb5146651",
   "metadata": {},
   "outputs": [
    {
     "data": {
      "text/plain": [
       "(1, 4, 8)"
      ]
     },
     "execution_count": 23,
     "metadata": {},
     "output_type": "execute_result"
    }
   ],
   "source": [
    "# s is the required sum\n",
    "def special_elements(arr,s):\n",
    "    for i in arr:\n",
    "        for j in arr:\n",
    "            if j != i:\n",
    "                for k in arr:\n",
    "                    if k != i and k != j and (i + j + k == s):\n",
    "                        return i,j,k\n",
    "    return \"Not Present\"\n",
    "\n",
    "arr = [1,2,3,4,5,6,7,8]\n",
    "special_elements(arr,13)"
   ]
  },
  {
   "cell_type": "raw",
   "id": "8506098f-38e8-4bc6-a45d-78fefd8401e0",
   "metadata": {},
   "source": [
    "Problem 7 : Given an array of n elements . Find three elements i, j, k in the array such that\n",
    "i * i + j * j = k*k."
   ]
  },
  {
   "cell_type": "code",
   "execution_count": 12,
   "id": "7ffaad92-ef41-49fb-8dd0-baf67170e6fa",
   "metadata": {},
   "outputs": [
    {
     "data": {
      "text/plain": [
       "(3, 4, 5)"
      ]
     },
     "execution_count": 12,
     "metadata": {},
     "output_type": "execute_result"
    }
   ],
   "source": [
    "def special_elements(arr):\n",
    "    for i in arr:\n",
    "        for j in arr:\n",
    "            if j != i:\n",
    "                for k in arr:\n",
    "                    if k != i and k != j and (i*i + j*j == k*k):\n",
    "                        return i,j,k\n",
    "    return \"Not Present\"\n",
    "\n",
    "arr = [1,2,3,4,5,6,7,8,3]\n",
    "special_elements(arr)"
   ]
  },
  {
   "cell_type": "raw",
   "id": "1d4fb9a0-ce7b-433c-8ea4-77429e291bd7",
   "metadata": {},
   "source": [
    "Problem 8 : An element is a majority if it appears more than n/2 times. Give an algorithm takes an array of n\n",
    "element as argument and identifies a majority (if it exists)."
   ]
  },
  {
   "cell_type": "code",
   "execution_count": 35,
   "id": "9bc0c671-3371-44dc-92c9-5b7120a5e6a6",
   "metadata": {},
   "outputs": [
    {
     "name": "stdout",
     "output_type": "stream",
     "text": [
      "5 "
     ]
    }
   ],
   "source": [
    "def majority(arr):\n",
    "    found = 0 \n",
    "    prev = True\n",
    "    for i in arr:\n",
    "        count = 0\n",
    "        for j in arr:\n",
    "            if i == j:\n",
    "                count+=1\n",
    "        if count > ((len(arr))/2) and i != prev:\n",
    "            print(i,end=\" \")\n",
    "            prev = i\n",
    "            found = 1\n",
    "\n",
    "    if found == 0 :\n",
    "        print(\"Majority element doesn't exists\")\n",
    "\n",
    "arr = [1,2,3,4,5,5,5,5,5,5]\n",
    "majority(arr)"
   ]
  },
  {
   "cell_type": "raw",
   "id": "969aca56-6e95-4183-9369-a9842f9bec6d",
   "metadata": {},
   "source": [
    "Problem 9 : Given n × n matrix, and in each row all 1’s are followed by 0’s. Find the row with the maximum\n",
    "number of 0’s."
   ]
  },
  {
   "cell_type": "code",
   "execution_count": 27,
   "id": "037d02cc-3709-4e0d-bb15-b141f288ad45",
   "metadata": {},
   "outputs": [
    {
     "name": "stdout",
     "output_type": "stream",
     "text": [
      "row with the maximum number of 0’s : 2\n"
     ]
    }
   ],
   "source": [
    "def max_0s(arr):\n",
    "    max_0 = 0\n",
    "    max_0_in_row = -1\n",
    "    for i in range(len(arr)):\n",
    "        count = 0\n",
    "        for j in range(len(arr)):\n",
    "            if arr[i][j] == 0:\n",
    "                count+=1\n",
    "        if max_0 < count:\n",
    "            max_0 = count\n",
    "            max_0_in_row = i\n",
    "    print(\"row with the maximum number of 0’s :\",max_0_in_row+1)\n",
    "\n",
    "arr = [[1,1,1,1,0],[1,1,0,0,0],[1,1,1,0,0]]    \n",
    "max_0s(arr)"
   ]
  },
  {
   "cell_type": "raw",
   "id": "d904a67b-c83b-44f8-9ac6-45b3f4aa7d6e",
   "metadata": {},
   "source": [
    "Problem 10 : Sort an array of 0’s, 1’s and 2’s [or R’s, G’s and B’s]: Given an array A[] consisting of 0’s, 1’s and\n",
    "2’s, give an algorithm for sorting A[].The algorithm should put all 0’s first, then all 1’s and finally all 2’s at the\n",
    "end. Example Input = {0,1,1,0,1,2,1,2,0,0,0,1}, Output = {0,0,0,0,0,1,1,1,1,1,2,2}"
   ]
  },
  {
   "cell_type": "code",
   "execution_count": 24,
   "id": "34740af2-6b9d-40e7-bb50-fb9778a52850",
   "metadata": {},
   "outputs": [
    {
     "data": {
      "text/plain": [
       "[0, 0, 0, 0, 0, 1, 1, 1, 1, 1, 2, 2]"
      ]
     },
     "execution_count": 24,
     "metadata": {},
     "output_type": "execute_result"
    }
   ],
   "source": [
    "# sorting array using bubble sort technique\n",
    "def sort(arr):\n",
    "    for i in range(len(arr)-1,0,-1):\n",
    "        for j in range(i):\n",
    "            if arr[j]>arr[j+1]:\n",
    "                arr[j],arr[j+1]=arr[j+1],arr[j]\n",
    "    return arr\n",
    "\n",
    "arr = [0,1,1,0,1,2,1,2,0,0,0,1]\n",
    "sort(arr)"
   ]
  }
 ],
 "metadata": {
  "kernelspec": {
   "display_name": "Python 3 (ipykernel)",
   "language": "python",
   "name": "python3"
  },
  "language_info": {
   "codemirror_mode": {
    "name": "ipython",
    "version": 3
   },
   "file_extension": ".py",
   "mimetype": "text/x-python",
   "name": "python",
   "nbconvert_exporter": "python",
   "pygments_lexer": "ipython3",
   "version": "3.10.8"
  }
 },
 "nbformat": 4,
 "nbformat_minor": 5
}
